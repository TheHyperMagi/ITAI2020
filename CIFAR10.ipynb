{
  "nbformat": 4,
  "nbformat_minor": 0,
  "metadata": {
    "colab": {
      "name": "CIFAR10.ipynb",
      "provenance": [],
      "collapsed_sections": []
    },
    "kernelspec": {
      "name": "Python 3.8.5 64-bit",
      "display_name": "Python 3.8.5 64-bit",
      "metadata": {
        "interpreter": {
          "hash": "4cc6a814c1fc408f7d31415ecb887b602a0433151c753862bbae4b3fb445932f"
        }
      }
    },
    "accelerator": "GPU",
    "widgets": {
      "application/vnd.jupyter.widget-state+json": {
        "48532b1395f347ea894670cb7fb12662": {
          "model_module": "@jupyter-widgets/controls",
          "model_name": "HBoxModel",
          "state": {
            "_view_name": "HBoxView",
            "_dom_classes": [],
            "_model_name": "HBoxModel",
            "_view_module": "@jupyter-widgets/controls",
            "_model_module_version": "1.5.0",
            "_view_count": null,
            "_view_module_version": "1.5.0",
            "box_style": "",
            "layout": "IPY_MODEL_951a55ae721749df9fe075a72402dd7a",
            "_model_module": "@jupyter-widgets/controls",
            "children": [
              "IPY_MODEL_b2c525a1b8b34161ac73f2b4f0947ac4",
              "IPY_MODEL_54f8b96e6eba4910b4ddab83610136bb"
            ]
          }
        },
        "951a55ae721749df9fe075a72402dd7a": {
          "model_module": "@jupyter-widgets/base",
          "model_name": "LayoutModel",
          "state": {
            "_view_name": "LayoutView",
            "grid_template_rows": null,
            "right": null,
            "justify_content": null,
            "_view_module": "@jupyter-widgets/base",
            "overflow": null,
            "_model_module_version": "1.2.0",
            "_view_count": null,
            "flex_flow": null,
            "width": null,
            "min_width": null,
            "border": null,
            "align_items": null,
            "bottom": null,
            "_model_module": "@jupyter-widgets/base",
            "top": null,
            "grid_column": null,
            "overflow_y": null,
            "overflow_x": null,
            "grid_auto_flow": null,
            "grid_area": null,
            "grid_template_columns": null,
            "flex": null,
            "_model_name": "LayoutModel",
            "justify_items": null,
            "grid_row": null,
            "max_height": null,
            "align_content": null,
            "visibility": null,
            "align_self": null,
            "height": null,
            "min_height": null,
            "padding": null,
            "grid_auto_rows": null,
            "grid_gap": null,
            "max_width": null,
            "order": null,
            "_view_module_version": "1.2.0",
            "grid_template_areas": null,
            "object_position": null,
            "object_fit": null,
            "grid_auto_columns": null,
            "margin": null,
            "display": null,
            "left": null
          }
        },
        "b2c525a1b8b34161ac73f2b4f0947ac4": {
          "model_module": "@jupyter-widgets/controls",
          "model_name": "FloatProgressModel",
          "state": {
            "_view_name": "ProgressView",
            "style": "IPY_MODEL_1fe74dea486d4f9a82f6e94c8c3932b2",
            "_dom_classes": [],
            "description": "Dl Completed...: 100%",
            "_model_name": "FloatProgressModel",
            "bar_style": "success",
            "max": 1,
            "_view_module": "@jupyter-widgets/controls",
            "_model_module_version": "1.5.0",
            "value": 1,
            "_view_count": null,
            "_view_module_version": "1.5.0",
            "orientation": "horizontal",
            "min": 0,
            "description_tooltip": null,
            "_model_module": "@jupyter-widgets/controls",
            "layout": "IPY_MODEL_2b5ef26c9ccc46cfb66c5089a4610f13"
          }
        },
        "54f8b96e6eba4910b4ddab83610136bb": {
          "model_module": "@jupyter-widgets/controls",
          "model_name": "HTMLModel",
          "state": {
            "_view_name": "HTMLView",
            "style": "IPY_MODEL_6ca4aac0c9e94af3bd6c7d981a642ec0",
            "_dom_classes": [],
            "description": "",
            "_model_name": "HTMLModel",
            "placeholder": "​",
            "_view_module": "@jupyter-widgets/controls",
            "_model_module_version": "1.5.0",
            "value": " 1/1 [00:14&lt;00:00, 14.11s/ url]",
            "_view_count": null,
            "_view_module_version": "1.5.0",
            "description_tooltip": null,
            "_model_module": "@jupyter-widgets/controls",
            "layout": "IPY_MODEL_655031b4552f43e5bdbaa67ca2918a62"
          }
        },
        "1fe74dea486d4f9a82f6e94c8c3932b2": {
          "model_module": "@jupyter-widgets/controls",
          "model_name": "ProgressStyleModel",
          "state": {
            "_view_name": "StyleView",
            "_model_name": "ProgressStyleModel",
            "description_width": "initial",
            "_view_module": "@jupyter-widgets/base",
            "_model_module_version": "1.5.0",
            "_view_count": null,
            "_view_module_version": "1.2.0",
            "bar_color": null,
            "_model_module": "@jupyter-widgets/controls"
          }
        },
        "2b5ef26c9ccc46cfb66c5089a4610f13": {
          "model_module": "@jupyter-widgets/base",
          "model_name": "LayoutModel",
          "state": {
            "_view_name": "LayoutView",
            "grid_template_rows": null,
            "right": null,
            "justify_content": null,
            "_view_module": "@jupyter-widgets/base",
            "overflow": null,
            "_model_module_version": "1.2.0",
            "_view_count": null,
            "flex_flow": null,
            "width": null,
            "min_width": null,
            "border": null,
            "align_items": null,
            "bottom": null,
            "_model_module": "@jupyter-widgets/base",
            "top": null,
            "grid_column": null,
            "overflow_y": null,
            "overflow_x": null,
            "grid_auto_flow": null,
            "grid_area": null,
            "grid_template_columns": null,
            "flex": null,
            "_model_name": "LayoutModel",
            "justify_items": null,
            "grid_row": null,
            "max_height": null,
            "align_content": null,
            "visibility": null,
            "align_self": null,
            "height": null,
            "min_height": null,
            "padding": null,
            "grid_auto_rows": null,
            "grid_gap": null,
            "max_width": null,
            "order": null,
            "_view_module_version": "1.2.0",
            "grid_template_areas": null,
            "object_position": null,
            "object_fit": null,
            "grid_auto_columns": null,
            "margin": null,
            "display": null,
            "left": null
          }
        },
        "6ca4aac0c9e94af3bd6c7d981a642ec0": {
          "model_module": "@jupyter-widgets/controls",
          "model_name": "DescriptionStyleModel",
          "state": {
            "_view_name": "StyleView",
            "_model_name": "DescriptionStyleModel",
            "description_width": "",
            "_view_module": "@jupyter-widgets/base",
            "_model_module_version": "1.5.0",
            "_view_count": null,
            "_view_module_version": "1.2.0",
            "_model_module": "@jupyter-widgets/controls"
          }
        },
        "655031b4552f43e5bdbaa67ca2918a62": {
          "model_module": "@jupyter-widgets/base",
          "model_name": "LayoutModel",
          "state": {
            "_view_name": "LayoutView",
            "grid_template_rows": null,
            "right": null,
            "justify_content": null,
            "_view_module": "@jupyter-widgets/base",
            "overflow": null,
            "_model_module_version": "1.2.0",
            "_view_count": null,
            "flex_flow": null,
            "width": null,
            "min_width": null,
            "border": null,
            "align_items": null,
            "bottom": null,
            "_model_module": "@jupyter-widgets/base",
            "top": null,
            "grid_column": null,
            "overflow_y": null,
            "overflow_x": null,
            "grid_auto_flow": null,
            "grid_area": null,
            "grid_template_columns": null,
            "flex": null,
            "_model_name": "LayoutModel",
            "justify_items": null,
            "grid_row": null,
            "max_height": null,
            "align_content": null,
            "visibility": null,
            "align_self": null,
            "height": null,
            "min_height": null,
            "padding": null,
            "grid_auto_rows": null,
            "grid_gap": null,
            "max_width": null,
            "order": null,
            "_view_module_version": "1.2.0",
            "grid_template_areas": null,
            "object_position": null,
            "object_fit": null,
            "grid_auto_columns": null,
            "margin": null,
            "display": null,
            "left": null
          }
        },
        "3ea650be3c63432bae78fc52ee6a00c8": {
          "model_module": "@jupyter-widgets/controls",
          "model_name": "HBoxModel",
          "state": {
            "_view_name": "HBoxView",
            "_dom_classes": [],
            "_model_name": "HBoxModel",
            "_view_module": "@jupyter-widgets/controls",
            "_model_module_version": "1.5.0",
            "_view_count": null,
            "_view_module_version": "1.5.0",
            "box_style": "",
            "layout": "IPY_MODEL_018cf31cb7b54377bbf2faa006f1c1ea",
            "_model_module": "@jupyter-widgets/controls",
            "children": [
              "IPY_MODEL_22fae81f008a4ac892e5efd85f437799",
              "IPY_MODEL_fb49e1ad171b4e6cbd6b96d8d5bee5cf"
            ]
          }
        },
        "018cf31cb7b54377bbf2faa006f1c1ea": {
          "model_module": "@jupyter-widgets/base",
          "model_name": "LayoutModel",
          "state": {
            "_view_name": "LayoutView",
            "grid_template_rows": null,
            "right": null,
            "justify_content": null,
            "_view_module": "@jupyter-widgets/base",
            "overflow": null,
            "_model_module_version": "1.2.0",
            "_view_count": null,
            "flex_flow": null,
            "width": null,
            "min_width": null,
            "border": null,
            "align_items": null,
            "bottom": null,
            "_model_module": "@jupyter-widgets/base",
            "top": null,
            "grid_column": null,
            "overflow_y": null,
            "overflow_x": null,
            "grid_auto_flow": null,
            "grid_area": null,
            "grid_template_columns": null,
            "flex": null,
            "_model_name": "LayoutModel",
            "justify_items": null,
            "grid_row": null,
            "max_height": null,
            "align_content": null,
            "visibility": null,
            "align_self": null,
            "height": null,
            "min_height": null,
            "padding": null,
            "grid_auto_rows": null,
            "grid_gap": null,
            "max_width": null,
            "order": null,
            "_view_module_version": "1.2.0",
            "grid_template_areas": null,
            "object_position": null,
            "object_fit": null,
            "grid_auto_columns": null,
            "margin": null,
            "display": null,
            "left": null
          }
        },
        "22fae81f008a4ac892e5efd85f437799": {
          "model_module": "@jupyter-widgets/controls",
          "model_name": "FloatProgressModel",
          "state": {
            "_view_name": "ProgressView",
            "style": "IPY_MODEL_3eb0e434df6f498cb7a2691f600b0268",
            "_dom_classes": [],
            "description": "Dl Size...: 100%",
            "_model_name": "FloatProgressModel",
            "bar_style": "success",
            "max": 1,
            "_view_module": "@jupyter-widgets/controls",
            "_model_module_version": "1.5.0",
            "value": 1,
            "_view_count": null,
            "_view_module_version": "1.5.0",
            "orientation": "horizontal",
            "min": 0,
            "description_tooltip": null,
            "_model_module": "@jupyter-widgets/controls",
            "layout": "IPY_MODEL_77fb44a942b141aea8e3cf3cd41977ec"
          }
        },
        "fb49e1ad171b4e6cbd6b96d8d5bee5cf": {
          "model_module": "@jupyter-widgets/controls",
          "model_name": "HTMLModel",
          "state": {
            "_view_name": "HTMLView",
            "style": "IPY_MODEL_901a572d906d4c63ad98b2635930e8d6",
            "_dom_classes": [],
            "description": "",
            "_model_name": "HTMLModel",
            "placeholder": "​",
            "_view_module": "@jupyter-widgets/controls",
            "_model_module_version": "1.5.0",
            "value": " 162/162 [00:14&lt;00:00, 11.51 MiB/s]",
            "_view_count": null,
            "_view_module_version": "1.5.0",
            "description_tooltip": null,
            "_model_module": "@jupyter-widgets/controls",
            "layout": "IPY_MODEL_28608be8a94c43229edb673944eae5fc"
          }
        },
        "3eb0e434df6f498cb7a2691f600b0268": {
          "model_module": "@jupyter-widgets/controls",
          "model_name": "ProgressStyleModel",
          "state": {
            "_view_name": "StyleView",
            "_model_name": "ProgressStyleModel",
            "description_width": "initial",
            "_view_module": "@jupyter-widgets/base",
            "_model_module_version": "1.5.0",
            "_view_count": null,
            "_view_module_version": "1.2.0",
            "bar_color": null,
            "_model_module": "@jupyter-widgets/controls"
          }
        },
        "77fb44a942b141aea8e3cf3cd41977ec": {
          "model_module": "@jupyter-widgets/base",
          "model_name": "LayoutModel",
          "state": {
            "_view_name": "LayoutView",
            "grid_template_rows": null,
            "right": null,
            "justify_content": null,
            "_view_module": "@jupyter-widgets/base",
            "overflow": null,
            "_model_module_version": "1.2.0",
            "_view_count": null,
            "flex_flow": null,
            "width": null,
            "min_width": null,
            "border": null,
            "align_items": null,
            "bottom": null,
            "_model_module": "@jupyter-widgets/base",
            "top": null,
            "grid_column": null,
            "overflow_y": null,
            "overflow_x": null,
            "grid_auto_flow": null,
            "grid_area": null,
            "grid_template_columns": null,
            "flex": null,
            "_model_name": "LayoutModel",
            "justify_items": null,
            "grid_row": null,
            "max_height": null,
            "align_content": null,
            "visibility": null,
            "align_self": null,
            "height": null,
            "min_height": null,
            "padding": null,
            "grid_auto_rows": null,
            "grid_gap": null,
            "max_width": null,
            "order": null,
            "_view_module_version": "1.2.0",
            "grid_template_areas": null,
            "object_position": null,
            "object_fit": null,
            "grid_auto_columns": null,
            "margin": null,
            "display": null,
            "left": null
          }
        },
        "901a572d906d4c63ad98b2635930e8d6": {
          "model_module": "@jupyter-widgets/controls",
          "model_name": "DescriptionStyleModel",
          "state": {
            "_view_name": "StyleView",
            "_model_name": "DescriptionStyleModel",
            "description_width": "",
            "_view_module": "@jupyter-widgets/base",
            "_model_module_version": "1.5.0",
            "_view_count": null,
            "_view_module_version": "1.2.0",
            "_model_module": "@jupyter-widgets/controls"
          }
        },
        "28608be8a94c43229edb673944eae5fc": {
          "model_module": "@jupyter-widgets/base",
          "model_name": "LayoutModel",
          "state": {
            "_view_name": "LayoutView",
            "grid_template_rows": null,
            "right": null,
            "justify_content": null,
            "_view_module": "@jupyter-widgets/base",
            "overflow": null,
            "_model_module_version": "1.2.0",
            "_view_count": null,
            "flex_flow": null,
            "width": null,
            "min_width": null,
            "border": null,
            "align_items": null,
            "bottom": null,
            "_model_module": "@jupyter-widgets/base",
            "top": null,
            "grid_column": null,
            "overflow_y": null,
            "overflow_x": null,
            "grid_auto_flow": null,
            "grid_area": null,
            "grid_template_columns": null,
            "flex": null,
            "_model_name": "LayoutModel",
            "justify_items": null,
            "grid_row": null,
            "max_height": null,
            "align_content": null,
            "visibility": null,
            "align_self": null,
            "height": null,
            "min_height": null,
            "padding": null,
            "grid_auto_rows": null,
            "grid_gap": null,
            "max_width": null,
            "order": null,
            "_view_module_version": "1.2.0",
            "grid_template_areas": null,
            "object_position": null,
            "object_fit": null,
            "grid_auto_columns": null,
            "margin": null,
            "display": null,
            "left": null
          }
        },
        "7eda98cac7f249b989a8553b6fc7d791": {
          "model_module": "@jupyter-widgets/controls",
          "model_name": "HBoxModel",
          "state": {
            "_view_name": "HBoxView",
            "_dom_classes": [],
            "_model_name": "HBoxModel",
            "_view_module": "@jupyter-widgets/controls",
            "_model_module_version": "1.5.0",
            "_view_count": null,
            "_view_module_version": "1.5.0",
            "box_style": "",
            "layout": "IPY_MODEL_d9b4b6bfb8b244f88230730fff2970d7",
            "_model_module": "@jupyter-widgets/controls",
            "children": [
              "IPY_MODEL_d63e09a2c9cd4e2c93399c1be47e54da",
              "IPY_MODEL_e86379a5e6f8427b94a76ca22f050871"
            ]
          }
        },
        "d9b4b6bfb8b244f88230730fff2970d7": {
          "model_module": "@jupyter-widgets/base",
          "model_name": "LayoutModel",
          "state": {
            "_view_name": "LayoutView",
            "grid_template_rows": null,
            "right": null,
            "justify_content": null,
            "_view_module": "@jupyter-widgets/base",
            "overflow": null,
            "_model_module_version": "1.2.0",
            "_view_count": null,
            "flex_flow": null,
            "width": null,
            "min_width": null,
            "border": null,
            "align_items": null,
            "bottom": null,
            "_model_module": "@jupyter-widgets/base",
            "top": null,
            "grid_column": null,
            "overflow_y": null,
            "overflow_x": null,
            "grid_auto_flow": null,
            "grid_area": null,
            "grid_template_columns": null,
            "flex": null,
            "_model_name": "LayoutModel",
            "justify_items": null,
            "grid_row": null,
            "max_height": null,
            "align_content": null,
            "visibility": null,
            "align_self": null,
            "height": null,
            "min_height": null,
            "padding": null,
            "grid_auto_rows": null,
            "grid_gap": null,
            "max_width": null,
            "order": null,
            "_view_module_version": "1.2.0",
            "grid_template_areas": null,
            "object_position": null,
            "object_fit": null,
            "grid_auto_columns": null,
            "margin": null,
            "display": null,
            "left": null
          }
        },
        "d63e09a2c9cd4e2c93399c1be47e54da": {
          "model_module": "@jupyter-widgets/controls",
          "model_name": "FloatProgressModel",
          "state": {
            "_view_name": "ProgressView",
            "style": "IPY_MODEL_006bf60f0f14457e9120d03d4457fdcd",
            "_dom_classes": [],
            "description": "Extraction completed...: 100%",
            "_model_name": "FloatProgressModel",
            "bar_style": "success",
            "max": 1,
            "_view_module": "@jupyter-widgets/controls",
            "_model_module_version": "1.5.0",
            "value": 1,
            "_view_count": null,
            "_view_module_version": "1.5.0",
            "orientation": "horizontal",
            "min": 0,
            "description_tooltip": null,
            "_model_module": "@jupyter-widgets/controls",
            "layout": "IPY_MODEL_b8e94693e54c4b0db5defe1e88153c42"
          }
        },
        "e86379a5e6f8427b94a76ca22f050871": {
          "model_module": "@jupyter-widgets/controls",
          "model_name": "HTMLModel",
          "state": {
            "_view_name": "HTMLView",
            "style": "IPY_MODEL_70155e1fd2284d358395275b30e342c5",
            "_dom_classes": [],
            "description": "",
            "_model_name": "HTMLModel",
            "placeholder": "​",
            "_view_module": "@jupyter-widgets/controls",
            "_model_module_version": "1.5.0",
            "value": " 1/1 [00:14&lt;00:00, 14.05s/ file]",
            "_view_count": null,
            "_view_module_version": "1.5.0",
            "description_tooltip": null,
            "_model_module": "@jupyter-widgets/controls",
            "layout": "IPY_MODEL_8352899275ab4f619dd5005fac468d76"
          }
        },
        "006bf60f0f14457e9120d03d4457fdcd": {
          "model_module": "@jupyter-widgets/controls",
          "model_name": "ProgressStyleModel",
          "state": {
            "_view_name": "StyleView",
            "_model_name": "ProgressStyleModel",
            "description_width": "initial",
            "_view_module": "@jupyter-widgets/base",
            "_model_module_version": "1.5.0",
            "_view_count": null,
            "_view_module_version": "1.2.0",
            "bar_color": null,
            "_model_module": "@jupyter-widgets/controls"
          }
        },
        "b8e94693e54c4b0db5defe1e88153c42": {
          "model_module": "@jupyter-widgets/base",
          "model_name": "LayoutModel",
          "state": {
            "_view_name": "LayoutView",
            "grid_template_rows": null,
            "right": null,
            "justify_content": null,
            "_view_module": "@jupyter-widgets/base",
            "overflow": null,
            "_model_module_version": "1.2.0",
            "_view_count": null,
            "flex_flow": null,
            "width": null,
            "min_width": null,
            "border": null,
            "align_items": null,
            "bottom": null,
            "_model_module": "@jupyter-widgets/base",
            "top": null,
            "grid_column": null,
            "overflow_y": null,
            "overflow_x": null,
            "grid_auto_flow": null,
            "grid_area": null,
            "grid_template_columns": null,
            "flex": null,
            "_model_name": "LayoutModel",
            "justify_items": null,
            "grid_row": null,
            "max_height": null,
            "align_content": null,
            "visibility": null,
            "align_self": null,
            "height": null,
            "min_height": null,
            "padding": null,
            "grid_auto_rows": null,
            "grid_gap": null,
            "max_width": null,
            "order": null,
            "_view_module_version": "1.2.0",
            "grid_template_areas": null,
            "object_position": null,
            "object_fit": null,
            "grid_auto_columns": null,
            "margin": null,
            "display": null,
            "left": null
          }
        },
        "70155e1fd2284d358395275b30e342c5": {
          "model_module": "@jupyter-widgets/controls",
          "model_name": "DescriptionStyleModel",
          "state": {
            "_view_name": "StyleView",
            "_model_name": "DescriptionStyleModel",
            "description_width": "",
            "_view_module": "@jupyter-widgets/base",
            "_model_module_version": "1.5.0",
            "_view_count": null,
            "_view_module_version": "1.2.0",
            "_model_module": "@jupyter-widgets/controls"
          }
        },
        "8352899275ab4f619dd5005fac468d76": {
          "model_module": "@jupyter-widgets/base",
          "model_name": "LayoutModel",
          "state": {
            "_view_name": "LayoutView",
            "grid_template_rows": null,
            "right": null,
            "justify_content": null,
            "_view_module": "@jupyter-widgets/base",
            "overflow": null,
            "_model_module_version": "1.2.0",
            "_view_count": null,
            "flex_flow": null,
            "width": null,
            "min_width": null,
            "border": null,
            "align_items": null,
            "bottom": null,
            "_model_module": "@jupyter-widgets/base",
            "top": null,
            "grid_column": null,
            "overflow_y": null,
            "overflow_x": null,
            "grid_auto_flow": null,
            "grid_area": null,
            "grid_template_columns": null,
            "flex": null,
            "_model_name": "LayoutModel",
            "justify_items": null,
            "grid_row": null,
            "max_height": null,
            "align_content": null,
            "visibility": null,
            "align_self": null,
            "height": null,
            "min_height": null,
            "padding": null,
            "grid_auto_rows": null,
            "grid_gap": null,
            "max_width": null,
            "order": null,
            "_view_module_version": "1.2.0",
            "grid_template_areas": null,
            "object_position": null,
            "object_fit": null,
            "grid_auto_columns": null,
            "margin": null,
            "display": null,
            "left": null
          }
        },
        "cb7f18e5b253496481348f5e4dc6453b": {
          "model_module": "@jupyter-widgets/controls",
          "model_name": "HBoxModel",
          "state": {
            "_view_name": "HBoxView",
            "_dom_classes": [],
            "_model_name": "HBoxModel",
            "_view_module": "@jupyter-widgets/controls",
            "_model_module_version": "1.5.0",
            "_view_count": null,
            "_view_module_version": "1.5.0",
            "box_style": "",
            "layout": "IPY_MODEL_61fea7b9ceed4cbc88530f2a2952f8cf",
            "_model_module": "@jupyter-widgets/controls",
            "children": [
              "IPY_MODEL_69cf98245d0044049dd400ac43059b38",
              "IPY_MODEL_4de15d5beee24132984ab06c794cef8a"
            ]
          }
        },
        "61fea7b9ceed4cbc88530f2a2952f8cf": {
          "model_module": "@jupyter-widgets/base",
          "model_name": "LayoutModel",
          "state": {
            "_view_name": "LayoutView",
            "grid_template_rows": null,
            "right": null,
            "justify_content": null,
            "_view_module": "@jupyter-widgets/base",
            "overflow": null,
            "_model_module_version": "1.2.0",
            "_view_count": null,
            "flex_flow": null,
            "width": null,
            "min_width": null,
            "border": null,
            "align_items": null,
            "bottom": null,
            "_model_module": "@jupyter-widgets/base",
            "top": null,
            "grid_column": null,
            "overflow_y": null,
            "overflow_x": null,
            "grid_auto_flow": null,
            "grid_area": null,
            "grid_template_columns": null,
            "flex": null,
            "_model_name": "LayoutModel",
            "justify_items": null,
            "grid_row": null,
            "max_height": null,
            "align_content": null,
            "visibility": null,
            "align_self": null,
            "height": null,
            "min_height": null,
            "padding": null,
            "grid_auto_rows": null,
            "grid_gap": null,
            "max_width": null,
            "order": null,
            "_view_module_version": "1.2.0",
            "grid_template_areas": null,
            "object_position": null,
            "object_fit": null,
            "grid_auto_columns": null,
            "margin": null,
            "display": null,
            "left": null
          }
        },
        "69cf98245d0044049dd400ac43059b38": {
          "model_module": "@jupyter-widgets/controls",
          "model_name": "FloatProgressModel",
          "state": {
            "_view_name": "ProgressView",
            "style": "IPY_MODEL_a75190be24a545f9a7a42866b7bc1da3",
            "_dom_classes": [],
            "description": "",
            "_model_name": "FloatProgressModel",
            "bar_style": "info",
            "max": 1,
            "_view_module": "@jupyter-widgets/controls",
            "_model_module_version": "1.5.0",
            "value": 1,
            "_view_count": null,
            "_view_module_version": "1.5.0",
            "orientation": "horizontal",
            "min": 0,
            "description_tooltip": null,
            "_model_module": "@jupyter-widgets/controls",
            "layout": "IPY_MODEL_18391d52d59048418272c94a5c328d96"
          }
        },
        "4de15d5beee24132984ab06c794cef8a": {
          "model_module": "@jupyter-widgets/controls",
          "model_name": "HTMLModel",
          "state": {
            "_view_name": "HTMLView",
            "style": "IPY_MODEL_7951fc071bda448193c9a348bc3d29fc",
            "_dom_classes": [],
            "description": "",
            "_model_name": "HTMLModel",
            "placeholder": "​",
            "_view_module": "@jupyter-widgets/controls",
            "_model_module_version": "1.5.0",
            "value": " 50000/0 [00:27&lt;00:00, 1820.16 examples/s]",
            "_view_count": null,
            "_view_module_version": "1.5.0",
            "description_tooltip": null,
            "_model_module": "@jupyter-widgets/controls",
            "layout": "IPY_MODEL_98c6e43a9f3c420cbd09b94d95c2603c"
          }
        },
        "a75190be24a545f9a7a42866b7bc1da3": {
          "model_module": "@jupyter-widgets/controls",
          "model_name": "ProgressStyleModel",
          "state": {
            "_view_name": "StyleView",
            "_model_name": "ProgressStyleModel",
            "description_width": "initial",
            "_view_module": "@jupyter-widgets/base",
            "_model_module_version": "1.5.0",
            "_view_count": null,
            "_view_module_version": "1.2.0",
            "bar_color": null,
            "_model_module": "@jupyter-widgets/controls"
          }
        },
        "18391d52d59048418272c94a5c328d96": {
          "model_module": "@jupyter-widgets/base",
          "model_name": "LayoutModel",
          "state": {
            "_view_name": "LayoutView",
            "grid_template_rows": null,
            "right": null,
            "justify_content": null,
            "_view_module": "@jupyter-widgets/base",
            "overflow": null,
            "_model_module_version": "1.2.0",
            "_view_count": null,
            "flex_flow": null,
            "width": null,
            "min_width": null,
            "border": null,
            "align_items": null,
            "bottom": null,
            "_model_module": "@jupyter-widgets/base",
            "top": null,
            "grid_column": null,
            "overflow_y": null,
            "overflow_x": null,
            "grid_auto_flow": null,
            "grid_area": null,
            "grid_template_columns": null,
            "flex": null,
            "_model_name": "LayoutModel",
            "justify_items": null,
            "grid_row": null,
            "max_height": null,
            "align_content": null,
            "visibility": null,
            "align_self": null,
            "height": null,
            "min_height": null,
            "padding": null,
            "grid_auto_rows": null,
            "grid_gap": null,
            "max_width": null,
            "order": null,
            "_view_module_version": "1.2.0",
            "grid_template_areas": null,
            "object_position": null,
            "object_fit": null,
            "grid_auto_columns": null,
            "margin": null,
            "display": null,
            "left": null
          }
        },
        "7951fc071bda448193c9a348bc3d29fc": {
          "model_module": "@jupyter-widgets/controls",
          "model_name": "DescriptionStyleModel",
          "state": {
            "_view_name": "StyleView",
            "_model_name": "DescriptionStyleModel",
            "description_width": "",
            "_view_module": "@jupyter-widgets/base",
            "_model_module_version": "1.5.0",
            "_view_count": null,
            "_view_module_version": "1.2.0",
            "_model_module": "@jupyter-widgets/controls"
          }
        },
        "98c6e43a9f3c420cbd09b94d95c2603c": {
          "model_module": "@jupyter-widgets/base",
          "model_name": "LayoutModel",
          "state": {
            "_view_name": "LayoutView",
            "grid_template_rows": null,
            "right": null,
            "justify_content": null,
            "_view_module": "@jupyter-widgets/base",
            "overflow": null,
            "_model_module_version": "1.2.0",
            "_view_count": null,
            "flex_flow": null,
            "width": null,
            "min_width": null,
            "border": null,
            "align_items": null,
            "bottom": null,
            "_model_module": "@jupyter-widgets/base",
            "top": null,
            "grid_column": null,
            "overflow_y": null,
            "overflow_x": null,
            "grid_auto_flow": null,
            "grid_area": null,
            "grid_template_columns": null,
            "flex": null,
            "_model_name": "LayoutModel",
            "justify_items": null,
            "grid_row": null,
            "max_height": null,
            "align_content": null,
            "visibility": null,
            "align_self": null,
            "height": null,
            "min_height": null,
            "padding": null,
            "grid_auto_rows": null,
            "grid_gap": null,
            "max_width": null,
            "order": null,
            "_view_module_version": "1.2.0",
            "grid_template_areas": null,
            "object_position": null,
            "object_fit": null,
            "grid_auto_columns": null,
            "margin": null,
            "display": null,
            "left": null
          }
        },
        "c85ca063be6f423682e297c07d69fc28": {
          "model_module": "@jupyter-widgets/controls",
          "model_name": "HBoxModel",
          "state": {
            "_view_name": "HBoxView",
            "_dom_classes": [],
            "_model_name": "HBoxModel",
            "_view_module": "@jupyter-widgets/controls",
            "_model_module_version": "1.5.0",
            "_view_count": null,
            "_view_module_version": "1.5.0",
            "box_style": "",
            "layout": "IPY_MODEL_5cdcbb1947a04b2889914e2e7b013a81",
            "_model_module": "@jupyter-widgets/controls",
            "children": [
              "IPY_MODEL_c40ef037a35449fa91c29ab94e6807b5",
              "IPY_MODEL_41e6f8c58af04c7a80fcb6855dae8509"
            ]
          }
        },
        "5cdcbb1947a04b2889914e2e7b013a81": {
          "model_module": "@jupyter-widgets/base",
          "model_name": "LayoutModel",
          "state": {
            "_view_name": "LayoutView",
            "grid_template_rows": null,
            "right": null,
            "justify_content": null,
            "_view_module": "@jupyter-widgets/base",
            "overflow": null,
            "_model_module_version": "1.2.0",
            "_view_count": null,
            "flex_flow": null,
            "width": null,
            "min_width": null,
            "border": null,
            "align_items": null,
            "bottom": null,
            "_model_module": "@jupyter-widgets/base",
            "top": null,
            "grid_column": null,
            "overflow_y": null,
            "overflow_x": null,
            "grid_auto_flow": null,
            "grid_area": null,
            "grid_template_columns": null,
            "flex": null,
            "_model_name": "LayoutModel",
            "justify_items": null,
            "grid_row": null,
            "max_height": null,
            "align_content": null,
            "visibility": null,
            "align_self": null,
            "height": null,
            "min_height": null,
            "padding": null,
            "grid_auto_rows": null,
            "grid_gap": null,
            "max_width": null,
            "order": null,
            "_view_module_version": "1.2.0",
            "grid_template_areas": null,
            "object_position": null,
            "object_fit": null,
            "grid_auto_columns": null,
            "margin": null,
            "display": null,
            "left": null
          }
        },
        "c40ef037a35449fa91c29ab94e6807b5": {
          "model_module": "@jupyter-widgets/controls",
          "model_name": "FloatProgressModel",
          "state": {
            "_view_name": "ProgressView",
            "style": "IPY_MODEL_5fec4711a0bc4c8980d543ff10afab4a",
            "_dom_classes": [],
            "description": " 97%",
            "_model_name": "FloatProgressModel",
            "bar_style": "danger",
            "max": 50000,
            "_view_module": "@jupyter-widgets/controls",
            "_model_module_version": "1.5.0",
            "value": 48357,
            "_view_count": null,
            "_view_module_version": "1.5.0",
            "orientation": "horizontal",
            "min": 0,
            "description_tooltip": null,
            "_model_module": "@jupyter-widgets/controls",
            "layout": "IPY_MODEL_6b27ef40c4b34bffa0136afa82312001"
          }
        },
        "41e6f8c58af04c7a80fcb6855dae8509": {
          "model_module": "@jupyter-widgets/controls",
          "model_name": "HTMLModel",
          "state": {
            "_view_name": "HTMLView",
            "style": "IPY_MODEL_dea7c679bc2c4bef97cae253640da3af",
            "_dom_classes": [],
            "description": "",
            "_model_name": "HTMLModel",
            "placeholder": "​",
            "_view_module": "@jupyter-widgets/controls",
            "_model_module_version": "1.5.0",
            "value": " 48357/50000 [00:00&lt;00:00, 89456.27 examples/s]",
            "_view_count": null,
            "_view_module_version": "1.5.0",
            "description_tooltip": null,
            "_model_module": "@jupyter-widgets/controls",
            "layout": "IPY_MODEL_928b805d409e4c518e2dd5da4b2c55fd"
          }
        },
        "5fec4711a0bc4c8980d543ff10afab4a": {
          "model_module": "@jupyter-widgets/controls",
          "model_name": "ProgressStyleModel",
          "state": {
            "_view_name": "StyleView",
            "_model_name": "ProgressStyleModel",
            "description_width": "initial",
            "_view_module": "@jupyter-widgets/base",
            "_model_module_version": "1.5.0",
            "_view_count": null,
            "_view_module_version": "1.2.0",
            "bar_color": null,
            "_model_module": "@jupyter-widgets/controls"
          }
        },
        "6b27ef40c4b34bffa0136afa82312001": {
          "model_module": "@jupyter-widgets/base",
          "model_name": "LayoutModel",
          "state": {
            "_view_name": "LayoutView",
            "grid_template_rows": null,
            "right": null,
            "justify_content": null,
            "_view_module": "@jupyter-widgets/base",
            "overflow": null,
            "_model_module_version": "1.2.0",
            "_view_count": null,
            "flex_flow": null,
            "width": null,
            "min_width": null,
            "border": null,
            "align_items": null,
            "bottom": null,
            "_model_module": "@jupyter-widgets/base",
            "top": null,
            "grid_column": null,
            "overflow_y": null,
            "overflow_x": null,
            "grid_auto_flow": null,
            "grid_area": null,
            "grid_template_columns": null,
            "flex": null,
            "_model_name": "LayoutModel",
            "justify_items": null,
            "grid_row": null,
            "max_height": null,
            "align_content": null,
            "visibility": null,
            "align_self": null,
            "height": null,
            "min_height": null,
            "padding": null,
            "grid_auto_rows": null,
            "grid_gap": null,
            "max_width": null,
            "order": null,
            "_view_module_version": "1.2.0",
            "grid_template_areas": null,
            "object_position": null,
            "object_fit": null,
            "grid_auto_columns": null,
            "margin": null,
            "display": null,
            "left": null
          }
        },
        "dea7c679bc2c4bef97cae253640da3af": {
          "model_module": "@jupyter-widgets/controls",
          "model_name": "DescriptionStyleModel",
          "state": {
            "_view_name": "StyleView",
            "_model_name": "DescriptionStyleModel",
            "description_width": "",
            "_view_module": "@jupyter-widgets/base",
            "_model_module_version": "1.5.0",
            "_view_count": null,
            "_view_module_version": "1.2.0",
            "_model_module": "@jupyter-widgets/controls"
          }
        },
        "928b805d409e4c518e2dd5da4b2c55fd": {
          "model_module": "@jupyter-widgets/base",
          "model_name": "LayoutModel",
          "state": {
            "_view_name": "LayoutView",
            "grid_template_rows": null,
            "right": null,
            "justify_content": null,
            "_view_module": "@jupyter-widgets/base",
            "overflow": null,
            "_model_module_version": "1.2.0",
            "_view_count": null,
            "flex_flow": null,
            "width": null,
            "min_width": null,
            "border": null,
            "align_items": null,
            "bottom": null,
            "_model_module": "@jupyter-widgets/base",
            "top": null,
            "grid_column": null,
            "overflow_y": null,
            "overflow_x": null,
            "grid_auto_flow": null,
            "grid_area": null,
            "grid_template_columns": null,
            "flex": null,
            "_model_name": "LayoutModel",
            "justify_items": null,
            "grid_row": null,
            "max_height": null,
            "align_content": null,
            "visibility": null,
            "align_self": null,
            "height": null,
            "min_height": null,
            "padding": null,
            "grid_auto_rows": null,
            "grid_gap": null,
            "max_width": null,
            "order": null,
            "_view_module_version": "1.2.0",
            "grid_template_areas": null,
            "object_position": null,
            "object_fit": null,
            "grid_auto_columns": null,
            "margin": null,
            "display": null,
            "left": null
          }
        },
        "cc42b06d167b4ff196c1fe5f62427664": {
          "model_module": "@jupyter-widgets/controls",
          "model_name": "HBoxModel",
          "state": {
            "_view_name": "HBoxView",
            "_dom_classes": [],
            "_model_name": "HBoxModel",
            "_view_module": "@jupyter-widgets/controls",
            "_model_module_version": "1.5.0",
            "_view_count": null,
            "_view_module_version": "1.5.0",
            "box_style": "",
            "layout": "IPY_MODEL_5d8945d40e354cefbe8d32cdb6b69145",
            "_model_module": "@jupyter-widgets/controls",
            "children": [
              "IPY_MODEL_88ac94cc766242c9a78e9e159ae3a356",
              "IPY_MODEL_9919da3778794a539fe1923d05b1b880"
            ]
          }
        },
        "5d8945d40e354cefbe8d32cdb6b69145": {
          "model_module": "@jupyter-widgets/base",
          "model_name": "LayoutModel",
          "state": {
            "_view_name": "LayoutView",
            "grid_template_rows": null,
            "right": null,
            "justify_content": null,
            "_view_module": "@jupyter-widgets/base",
            "overflow": null,
            "_model_module_version": "1.2.0",
            "_view_count": null,
            "flex_flow": null,
            "width": null,
            "min_width": null,
            "border": null,
            "align_items": null,
            "bottom": null,
            "_model_module": "@jupyter-widgets/base",
            "top": null,
            "grid_column": null,
            "overflow_y": null,
            "overflow_x": null,
            "grid_auto_flow": null,
            "grid_area": null,
            "grid_template_columns": null,
            "flex": null,
            "_model_name": "LayoutModel",
            "justify_items": null,
            "grid_row": null,
            "max_height": null,
            "align_content": null,
            "visibility": null,
            "align_self": null,
            "height": null,
            "min_height": null,
            "padding": null,
            "grid_auto_rows": null,
            "grid_gap": null,
            "max_width": null,
            "order": null,
            "_view_module_version": "1.2.0",
            "grid_template_areas": null,
            "object_position": null,
            "object_fit": null,
            "grid_auto_columns": null,
            "margin": null,
            "display": null,
            "left": null
          }
        },
        "88ac94cc766242c9a78e9e159ae3a356": {
          "model_module": "@jupyter-widgets/controls",
          "model_name": "FloatProgressModel",
          "state": {
            "_view_name": "ProgressView",
            "style": "IPY_MODEL_97d04834122d462cb650bac7013bd25a",
            "_dom_classes": [],
            "description": "",
            "_model_name": "FloatProgressModel",
            "bar_style": "info",
            "max": 1,
            "_view_module": "@jupyter-widgets/controls",
            "_model_module_version": "1.5.0",
            "value": 1,
            "_view_count": null,
            "_view_module_version": "1.5.0",
            "orientation": "horizontal",
            "min": 0,
            "description_tooltip": null,
            "_model_module": "@jupyter-widgets/controls",
            "layout": "IPY_MODEL_19306870f9574f6c895c86d7926aed5e"
          }
        },
        "9919da3778794a539fe1923d05b1b880": {
          "model_module": "@jupyter-widgets/controls",
          "model_name": "HTMLModel",
          "state": {
            "_view_name": "HTMLView",
            "style": "IPY_MODEL_3dd975c8dd80448fbf6167449d53339c",
            "_dom_classes": [],
            "description": "",
            "_model_name": "HTMLModel",
            "placeholder": "​",
            "_view_module": "@jupyter-widgets/controls",
            "_model_module_version": "1.5.0",
            "value": " 10000/0 [00:05&lt;00:00, 1826.37 examples/s]",
            "_view_count": null,
            "_view_module_version": "1.5.0",
            "description_tooltip": null,
            "_model_module": "@jupyter-widgets/controls",
            "layout": "IPY_MODEL_ce6df1fbd0d94ba9a2de99ce9cac8d10"
          }
        },
        "97d04834122d462cb650bac7013bd25a": {
          "model_module": "@jupyter-widgets/controls",
          "model_name": "ProgressStyleModel",
          "state": {
            "_view_name": "StyleView",
            "_model_name": "ProgressStyleModel",
            "description_width": "initial",
            "_view_module": "@jupyter-widgets/base",
            "_model_module_version": "1.5.0",
            "_view_count": null,
            "_view_module_version": "1.2.0",
            "bar_color": null,
            "_model_module": "@jupyter-widgets/controls"
          }
        },
        "19306870f9574f6c895c86d7926aed5e": {
          "model_module": "@jupyter-widgets/base",
          "model_name": "LayoutModel",
          "state": {
            "_view_name": "LayoutView",
            "grid_template_rows": null,
            "right": null,
            "justify_content": null,
            "_view_module": "@jupyter-widgets/base",
            "overflow": null,
            "_model_module_version": "1.2.0",
            "_view_count": null,
            "flex_flow": null,
            "width": null,
            "min_width": null,
            "border": null,
            "align_items": null,
            "bottom": null,
            "_model_module": "@jupyter-widgets/base",
            "top": null,
            "grid_column": null,
            "overflow_y": null,
            "overflow_x": null,
            "grid_auto_flow": null,
            "grid_area": null,
            "grid_template_columns": null,
            "flex": null,
            "_model_name": "LayoutModel",
            "justify_items": null,
            "grid_row": null,
            "max_height": null,
            "align_content": null,
            "visibility": null,
            "align_self": null,
            "height": null,
            "min_height": null,
            "padding": null,
            "grid_auto_rows": null,
            "grid_gap": null,
            "max_width": null,
            "order": null,
            "_view_module_version": "1.2.0",
            "grid_template_areas": null,
            "object_position": null,
            "object_fit": null,
            "grid_auto_columns": null,
            "margin": null,
            "display": null,
            "left": null
          }
        },
        "3dd975c8dd80448fbf6167449d53339c": {
          "model_module": "@jupyter-widgets/controls",
          "model_name": "DescriptionStyleModel",
          "state": {
            "_view_name": "StyleView",
            "_model_name": "DescriptionStyleModel",
            "description_width": "",
            "_view_module": "@jupyter-widgets/base",
            "_model_module_version": "1.5.0",
            "_view_count": null,
            "_view_module_version": "1.2.0",
            "_model_module": "@jupyter-widgets/controls"
          }
        },
        "ce6df1fbd0d94ba9a2de99ce9cac8d10": {
          "model_module": "@jupyter-widgets/base",
          "model_name": "LayoutModel",
          "state": {
            "_view_name": "LayoutView",
            "grid_template_rows": null,
            "right": null,
            "justify_content": null,
            "_view_module": "@jupyter-widgets/base",
            "overflow": null,
            "_model_module_version": "1.2.0",
            "_view_count": null,
            "flex_flow": null,
            "width": null,
            "min_width": null,
            "border": null,
            "align_items": null,
            "bottom": null,
            "_model_module": "@jupyter-widgets/base",
            "top": null,
            "grid_column": null,
            "overflow_y": null,
            "overflow_x": null,
            "grid_auto_flow": null,
            "grid_area": null,
            "grid_template_columns": null,
            "flex": null,
            "_model_name": "LayoutModel",
            "justify_items": null,
            "grid_row": null,
            "max_height": null,
            "align_content": null,
            "visibility": null,
            "align_self": null,
            "height": null,
            "min_height": null,
            "padding": null,
            "grid_auto_rows": null,
            "grid_gap": null,
            "max_width": null,
            "order": null,
            "_view_module_version": "1.2.0",
            "grid_template_areas": null,
            "object_position": null,
            "object_fit": null,
            "grid_auto_columns": null,
            "margin": null,
            "display": null,
            "left": null
          }
        },
        "bfdf272eff1b45379b3655baea0b76d3": {
          "model_module": "@jupyter-widgets/controls",
          "model_name": "HBoxModel",
          "state": {
            "_view_name": "HBoxView",
            "_dom_classes": [],
            "_model_name": "HBoxModel",
            "_view_module": "@jupyter-widgets/controls",
            "_model_module_version": "1.5.0",
            "_view_count": null,
            "_view_module_version": "1.5.0",
            "box_style": "",
            "layout": "IPY_MODEL_5e7053a6fec4457aa4e2d35d3681c0ec",
            "_model_module": "@jupyter-widgets/controls",
            "children": [
              "IPY_MODEL_ae48c2243a534bf18b242ed06a8ceef6",
              "IPY_MODEL_95ef5e7b0f3142438c6f96238dd50088"
            ]
          }
        },
        "5e7053a6fec4457aa4e2d35d3681c0ec": {
          "model_module": "@jupyter-widgets/base",
          "model_name": "LayoutModel",
          "state": {
            "_view_name": "LayoutView",
            "grid_template_rows": null,
            "right": null,
            "justify_content": null,
            "_view_module": "@jupyter-widgets/base",
            "overflow": null,
            "_model_module_version": "1.2.0",
            "_view_count": null,
            "flex_flow": null,
            "width": null,
            "min_width": null,
            "border": null,
            "align_items": null,
            "bottom": null,
            "_model_module": "@jupyter-widgets/base",
            "top": null,
            "grid_column": null,
            "overflow_y": null,
            "overflow_x": null,
            "grid_auto_flow": null,
            "grid_area": null,
            "grid_template_columns": null,
            "flex": null,
            "_model_name": "LayoutModel",
            "justify_items": null,
            "grid_row": null,
            "max_height": null,
            "align_content": null,
            "visibility": null,
            "align_self": null,
            "height": null,
            "min_height": null,
            "padding": null,
            "grid_auto_rows": null,
            "grid_gap": null,
            "max_width": null,
            "order": null,
            "_view_module_version": "1.2.0",
            "grid_template_areas": null,
            "object_position": null,
            "object_fit": null,
            "grid_auto_columns": null,
            "margin": null,
            "display": null,
            "left": null
          }
        },
        "ae48c2243a534bf18b242ed06a8ceef6": {
          "model_module": "@jupyter-widgets/controls",
          "model_name": "FloatProgressModel",
          "state": {
            "_view_name": "ProgressView",
            "style": "IPY_MODEL_7c16adfdb89b44dfa150d6d02cb7b38d",
            "_dom_classes": [],
            "description": "  0%",
            "_model_name": "FloatProgressModel",
            "bar_style": "danger",
            "max": 10000,
            "_view_module": "@jupyter-widgets/controls",
            "_model_module_version": "1.5.0",
            "value": 0,
            "_view_count": null,
            "_view_module_version": "1.5.0",
            "orientation": "horizontal",
            "min": 0,
            "description_tooltip": null,
            "_model_module": "@jupyter-widgets/controls",
            "layout": "IPY_MODEL_39415c61efaa433689f73abde464db2e"
          }
        },
        "95ef5e7b0f3142438c6f96238dd50088": {
          "model_module": "@jupyter-widgets/controls",
          "model_name": "HTMLModel",
          "state": {
            "_view_name": "HTMLView",
            "style": "IPY_MODEL_5ef08c53dfe64a688b3e75418fdc22ae",
            "_dom_classes": [],
            "description": "",
            "_model_name": "HTMLModel",
            "placeholder": "​",
            "_view_module": "@jupyter-widgets/controls",
            "_model_module_version": "1.5.0",
            "value": " 0/10000 [00:00&lt;?, ? examples/s]",
            "_view_count": null,
            "_view_module_version": "1.5.0",
            "description_tooltip": null,
            "_model_module": "@jupyter-widgets/controls",
            "layout": "IPY_MODEL_d4a03cfc8a934c1a92f8054806f6909b"
          }
        },
        "7c16adfdb89b44dfa150d6d02cb7b38d": {
          "model_module": "@jupyter-widgets/controls",
          "model_name": "ProgressStyleModel",
          "state": {
            "_view_name": "StyleView",
            "_model_name": "ProgressStyleModel",
            "description_width": "initial",
            "_view_module": "@jupyter-widgets/base",
            "_model_module_version": "1.5.0",
            "_view_count": null,
            "_view_module_version": "1.2.0",
            "bar_color": null,
            "_model_module": "@jupyter-widgets/controls"
          }
        },
        "39415c61efaa433689f73abde464db2e": {
          "model_module": "@jupyter-widgets/base",
          "model_name": "LayoutModel",
          "state": {
            "_view_name": "LayoutView",
            "grid_template_rows": null,
            "right": null,
            "justify_content": null,
            "_view_module": "@jupyter-widgets/base",
            "overflow": null,
            "_model_module_version": "1.2.0",
            "_view_count": null,
            "flex_flow": null,
            "width": null,
            "min_width": null,
            "border": null,
            "align_items": null,
            "bottom": null,
            "_model_module": "@jupyter-widgets/base",
            "top": null,
            "grid_column": null,
            "overflow_y": null,
            "overflow_x": null,
            "grid_auto_flow": null,
            "grid_area": null,
            "grid_template_columns": null,
            "flex": null,
            "_model_name": "LayoutModel",
            "justify_items": null,
            "grid_row": null,
            "max_height": null,
            "align_content": null,
            "visibility": null,
            "align_self": null,
            "height": null,
            "min_height": null,
            "padding": null,
            "grid_auto_rows": null,
            "grid_gap": null,
            "max_width": null,
            "order": null,
            "_view_module_version": "1.2.0",
            "grid_template_areas": null,
            "object_position": null,
            "object_fit": null,
            "grid_auto_columns": null,
            "margin": null,
            "display": null,
            "left": null
          }
        },
        "5ef08c53dfe64a688b3e75418fdc22ae": {
          "model_module": "@jupyter-widgets/controls",
          "model_name": "DescriptionStyleModel",
          "state": {
            "_view_name": "StyleView",
            "_model_name": "DescriptionStyleModel",
            "description_width": "",
            "_view_module": "@jupyter-widgets/base",
            "_model_module_version": "1.5.0",
            "_view_count": null,
            "_view_module_version": "1.2.0",
            "_model_module": "@jupyter-widgets/controls"
          }
        },
        "d4a03cfc8a934c1a92f8054806f6909b": {
          "model_module": "@jupyter-widgets/base",
          "model_name": "LayoutModel",
          "state": {
            "_view_name": "LayoutView",
            "grid_template_rows": null,
            "right": null,
            "justify_content": null,
            "_view_module": "@jupyter-widgets/base",
            "overflow": null,
            "_model_module_version": "1.2.0",
            "_view_count": null,
            "flex_flow": null,
            "width": null,
            "min_width": null,
            "border": null,
            "align_items": null,
            "bottom": null,
            "_model_module": "@jupyter-widgets/base",
            "top": null,
            "grid_column": null,
            "overflow_y": null,
            "overflow_x": null,
            "grid_auto_flow": null,
            "grid_area": null,
            "grid_template_columns": null,
            "flex": null,
            "_model_name": "LayoutModel",
            "justify_items": null,
            "grid_row": null,
            "max_height": null,
            "align_content": null,
            "visibility": null,
            "align_self": null,
            "height": null,
            "min_height": null,
            "padding": null,
            "grid_auto_rows": null,
            "grid_gap": null,
            "max_width": null,
            "order": null,
            "_view_module_version": "1.2.0",
            "grid_template_areas": null,
            "object_position": null,
            "object_fit": null,
            "grid_auto_columns": null,
            "margin": null,
            "display": null,
            "left": null
          }
        }
      }
    }
  },
  "cells": [
    {
      "cell_type": "markdown",
      "metadata": {
        "id": "Ee5iuxsh0wlZ"
      },
      "source": [
        "# CIFAR10 with Keras and CNN\n",
        "Testing Keras' CNNs on CIFAR10 with a pretty typical layer disposition."
      ]
    },
    {
      "cell_type": "markdown",
      "metadata": {
        "id": "_0iZwcOO0s75"
      },
      "source": [
        "## Data Setup"
      ]
    },
    {
      "cell_type": "code",
      "metadata": {
        "id": "24mgFn4gLrYl"
      },
      "source": [
        "from tensorflow.keras.datasets import cifar10"
      ],
      "execution_count": 4,
      "outputs": []
    },
    {
      "cell_type": "code",
      "metadata": {
        "id": "7fy6Ncisq1q_",
        "outputId": "245a6dee-b4e5-4ceb-da1f-22e02f94bd5a",
        "colab": {
          "base_uri": "https://localhost:8080/"
        }
      },
      "source": [
        "(x_train, y_train_), (x_test, y_test_) = cifar10.load_data()"
      ],
      "execution_count": 5,
      "outputs": []
    },
    {
      "cell_type": "code",
      "metadata": {
        "id": "Rok3es7FTZz9"
      },
      "source": [
        "x_train = x_train.astype('float32') / 255\n",
        "x_test = x_test.astype('float32') / 255\n",
        "print(numpy.shape(x))"
      ],
      "execution_count": 6,
      "outputs": []
    },
    {
      "cell_type": "code",
      "metadata": {
        "id": "-8GIUxRcq_Yc"
      },
      "source": [
        "from keras.utils import to_categorical\n",
        "y_train = to_categorical(y_train_)\n",
        "y_test = to_categorical(y_test_)"
      ],
      "execution_count": 7,
      "outputs": []
    },
    {
      "cell_type": "code",
      "metadata": {
        "id": "An5MBBsCFoDY",
        "outputId": "395ff3d6-b1cf-4d5f-a244-5e52a3f1aa35",
        "colab": {
          "base_uri": "https://localhost:8080/",
          "height": 864,
          "referenced_widgets": [
            "48532b1395f347ea894670cb7fb12662",
            "951a55ae721749df9fe075a72402dd7a",
            "b2c525a1b8b34161ac73f2b4f0947ac4",
            "54f8b96e6eba4910b4ddab83610136bb",
            "1fe74dea486d4f9a82f6e94c8c3932b2",
            "2b5ef26c9ccc46cfb66c5089a4610f13",
            "6ca4aac0c9e94af3bd6c7d981a642ec0",
            "655031b4552f43e5bdbaa67ca2918a62",
            "3ea650be3c63432bae78fc52ee6a00c8",
            "018cf31cb7b54377bbf2faa006f1c1ea",
            "22fae81f008a4ac892e5efd85f437799",
            "fb49e1ad171b4e6cbd6b96d8d5bee5cf",
            "3eb0e434df6f498cb7a2691f600b0268",
            "77fb44a942b141aea8e3cf3cd41977ec",
            "901a572d906d4c63ad98b2635930e8d6",
            "28608be8a94c43229edb673944eae5fc",
            "7eda98cac7f249b989a8553b6fc7d791",
            "d9b4b6bfb8b244f88230730fff2970d7",
            "d63e09a2c9cd4e2c93399c1be47e54da",
            "e86379a5e6f8427b94a76ca22f050871",
            "006bf60f0f14457e9120d03d4457fdcd",
            "b8e94693e54c4b0db5defe1e88153c42",
            "70155e1fd2284d358395275b30e342c5",
            "8352899275ab4f619dd5005fac468d76",
            "cb7f18e5b253496481348f5e4dc6453b",
            "61fea7b9ceed4cbc88530f2a2952f8cf",
            "69cf98245d0044049dd400ac43059b38",
            "4de15d5beee24132984ab06c794cef8a",
            "a75190be24a545f9a7a42866b7bc1da3",
            "18391d52d59048418272c94a5c328d96",
            "7951fc071bda448193c9a348bc3d29fc",
            "98c6e43a9f3c420cbd09b94d95c2603c",
            "c85ca063be6f423682e297c07d69fc28",
            "5cdcbb1947a04b2889914e2e7b013a81",
            "c40ef037a35449fa91c29ab94e6807b5",
            "41e6f8c58af04c7a80fcb6855dae8509",
            "5fec4711a0bc4c8980d543ff10afab4a",
            "6b27ef40c4b34bffa0136afa82312001",
            "dea7c679bc2c4bef97cae253640da3af",
            "928b805d409e4c518e2dd5da4b2c55fd",
            "cc42b06d167b4ff196c1fe5f62427664",
            "5d8945d40e354cefbe8d32cdb6b69145",
            "88ac94cc766242c9a78e9e159ae3a356",
            "9919da3778794a539fe1923d05b1b880",
            "97d04834122d462cb650bac7013bd25a",
            "19306870f9574f6c895c86d7926aed5e",
            "3dd975c8dd80448fbf6167449d53339c",
            "ce6df1fbd0d94ba9a2de99ce9cac8d10",
            "bfdf272eff1b45379b3655baea0b76d3",
            "5e7053a6fec4457aa4e2d35d3681c0ec",
            "ae48c2243a534bf18b242ed06a8ceef6",
            "95ef5e7b0f3142438c6f96238dd50088",
            "7c16adfdb89b44dfa150d6d02cb7b38d",
            "39415c61efaa433689f73abde464db2e",
            "5ef08c53dfe64a688b3e75418fdc22ae",
            "d4a03cfc8a934c1a92f8054806f6909b"
          ]
        }
      },
      "source": [
        "import tensorflow as tf\n",
        "import tensorflow_datasets as tfds\n",
        "ds, info = tfds.load('cifar10', split='train', with_info=True)\n",
        "\n",
        "fig = tfds.show_examples(ds, info)"
      ],
      "execution_count": 8,
      "outputs": [
        {
          "output_type": "display_data",
          "data": {
            "text/plain": "<Figure size 648x648 with 9 Axes>",
            "image/svg+xml": "<?xml version=\"1.0\" encoding=\"utf-8\" standalone=\"no\"?>\r\n<!DOCTYPE svg PUBLIC \"-//W3C//DTD SVG 1.1//EN\"\r\n  \"http://www.w3.org/Graphics/SVG/1.1/DTD/svg11.dtd\">\r\n<!-- Created with matplotlib (https://matplotlib.org/) -->\r\n<svg height=\"517.318125pt\" version=\"1.1\" viewBox=\"0 0 516.565455 517.318125\" width=\"516.565455pt\" xmlns=\"http://www.w3.org/2000/svg\" xmlns:xlink=\"http://www.w3.org/1999/xlink\">\r\n <metadata>\r\n  <rdf:RDF xmlns:cc=\"http://creativecommons.org/ns#\" xmlns:dc=\"http://purl.org/dc/elements/1.1/\" xmlns:rdf=\"http://www.w3.org/1999/02/22-rdf-syntax-ns#\">\r\n   <cc:Work>\r\n    <dc:type rdf:resource=\"http://purl.org/dc/dcmitype/StillImage\"/>\r\n    <dc:date>2020-11-10T13:23:45.435633</dc:date>\r\n    <dc:format>image/svg+xml</dc:format>\r\n    <dc:creator>\r\n     <cc:Agent>\r\n      <dc:title>Matplotlib v3.3.1, https://matplotlib.org/</dc:title>\r\n     </cc:Agent>\r\n    </dc:creator>\r\n   </cc:Work>\r\n  </rdf:RDF>\r\n </metadata>\r\n <defs>\r\n  <style type=\"text/css\">*{stroke-linecap:butt;stroke-linejoin:round;}</style>\r\n </defs>\r\n <g id=\"figure_1\">\r\n  <g id=\"patch_1\">\r\n   <path d=\"M 0 517.318125 \r\nL 516.565455 517.318125 \r\nL 516.565455 0 \r\nL 0 0 \r\nz\r\n\" style=\"fill:none;\"/>\r\n  </g>\r\n  <g id=\"axes_1\">\r\n   <g id=\"patch_2\">\r\n    <path d=\"M 10.7 140.629091 \r\nL 144.129091 140.629091 \r\nL 144.129091 7.2 \r\nL 10.7 7.2 \r\nz\r\n\" style=\"fill:#ffffff;\"/>\r\n   </g>\r\n   <g clip-path=\"url(#p31b7197f34)\">\r\n    <image height=\"134\" id=\"imageaf0990e4b3\" transform=\"scale(1 -1)translate(0 -134)\" width=\"134\" x=\"10.7\" xlink:href=\"data:image/png;base64,\r\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\" y=\"-6.629091\"/>\r\n   </g>\r\n   <g id=\"matplotlib.axis_1\">\r\n    <g id=\"text_1\">\r\n     <!-- horse (7) -->\r\n     <g transform=\"translate(54.777827 152.227528)scale(0.1 -0.1)\">\r\n      <defs>\r\n       <path d=\"M 54.890625 33.015625 \r\nL 54.890625 0 \r\nL 45.90625 0 \r\nL 45.90625 32.71875 \r\nQ 45.90625 40.484375 42.875 44.328125 \r\nQ 39.84375 48.1875 33.796875 48.1875 \r\nQ 26.515625 48.1875 22.3125 43.546875 \r\nQ 18.109375 38.921875 18.109375 30.90625 \r\nL 18.109375 0 \r\nL 9.078125 0 \r\nL 9.078125 75.984375 \r\nL 18.109375 75.984375 \r\nL 18.109375 46.1875 \r\nQ 21.34375 51.125 25.703125 53.5625 \r\nQ 30.078125 56 35.796875 56 \r\nQ 45.21875 56 50.046875 50.171875 \r\nQ 54.890625 44.34375 54.890625 33.015625 \r\nz\r\n\" id=\"DejaVuSans-104\"/>\r\n       <path d=\"M 30.609375 48.390625 \r\nQ 23.390625 48.390625 19.1875 42.75 \r\nQ 14.984375 37.109375 14.984375 27.296875 \r\nQ 14.984375 17.484375 19.15625 11.84375 \r\nQ 23.34375 6.203125 30.609375 6.203125 \r\nQ 37.796875 6.203125 41.984375 11.859375 \r\nQ 46.1875 17.53125 46.1875 27.296875 \r\nQ 46.1875 37.015625 41.984375 42.703125 \r\nQ 37.796875 48.390625 30.609375 48.390625 \r\nz\r\nM 30.609375 56 \r\nQ 42.328125 56 49.015625 48.375 \r\nQ 55.71875 40.765625 55.71875 27.296875 \r\nQ 55.71875 13.875 49.015625 6.21875 \r\nQ 42.328125 -1.421875 30.609375 -1.421875 \r\nQ 18.84375 -1.421875 12.171875 6.21875 \r\nQ 5.515625 13.875 5.515625 27.296875 \r\nQ 5.515625 40.765625 12.171875 48.375 \r\nQ 18.84375 56 30.609375 56 \r\nz\r\n\" id=\"DejaVuSans-111\"/>\r\n       <path d=\"M 41.109375 46.296875 \r\nQ 39.59375 47.171875 37.8125 47.578125 \r\nQ 36.03125 48 33.890625 48 \r\nQ 26.265625 48 22.1875 43.046875 \r\nQ 18.109375 38.09375 18.109375 28.8125 \r\nL 18.109375 0 \r\nL 9.078125 0 \r\nL 9.078125 54.6875 \r\nL 18.109375 54.6875 \r\nL 18.109375 46.1875 \r\nQ 20.953125 51.171875 25.484375 53.578125 \r\nQ 30.03125 56 36.53125 56 \r\nQ 37.453125 56 38.578125 55.875 \r\nQ 39.703125 55.765625 41.0625 55.515625 \r\nz\r\n\" id=\"DejaVuSans-114\"/>\r\n       <path d=\"M 44.28125 53.078125 \r\nL 44.28125 44.578125 \r\nQ 40.484375 46.53125 36.375 47.5 \r\nQ 32.28125 48.484375 27.875 48.484375 \r\nQ 21.1875 48.484375 17.84375 46.4375 \r\nQ 14.5 44.390625 14.5 40.28125 \r\nQ 14.5 37.15625 16.890625 35.375 \r\nQ 19.28125 33.59375 26.515625 31.984375 \r\nL 29.59375 31.296875 \r\nQ 39.15625 29.25 43.1875 25.515625 \r\nQ 47.21875 21.78125 47.21875 15.09375 \r\nQ 47.21875 7.46875 41.1875 3.015625 \r\nQ 35.15625 -1.421875 24.609375 -1.421875 \r\nQ 20.21875 -1.421875 15.453125 -0.5625 \r\nQ 10.6875 0.296875 5.421875 2 \r\nL 5.421875 11.28125 \r\nQ 10.40625 8.6875 15.234375 7.390625 \r\nQ 20.0625 6.109375 24.8125 6.109375 \r\nQ 31.15625 6.109375 34.5625 8.28125 \r\nQ 37.984375 10.453125 37.984375 14.40625 \r\nQ 37.984375 18.0625 35.515625 20.015625 \r\nQ 33.0625 21.96875 24.703125 23.78125 \r\nL 21.578125 24.515625 \r\nQ 13.234375 26.265625 9.515625 29.90625 \r\nQ 5.8125 33.546875 5.8125 39.890625 \r\nQ 5.8125 47.609375 11.28125 51.796875 \r\nQ 16.75 56 26.8125 56 \r\nQ 31.78125 56 36.171875 55.265625 \r\nQ 40.578125 54.546875 44.28125 53.078125 \r\nz\r\n\" id=\"DejaVuSans-115\"/>\r\n       <path d=\"M 56.203125 29.59375 \r\nL 56.203125 25.203125 \r\nL 14.890625 25.203125 \r\nQ 15.484375 15.921875 20.484375 11.0625 \r\nQ 25.484375 6.203125 34.421875 6.203125 \r\nQ 39.59375 6.203125 44.453125 7.46875 \r\nQ 49.3125 8.734375 54.109375 11.28125 \r\nL 54.109375 2.78125 \r\nQ 49.265625 0.734375 44.1875 -0.34375 \r\nQ 39.109375 -1.421875 33.890625 -1.421875 \r\nQ 20.796875 -1.421875 13.15625 6.1875 \r\nQ 5.515625 13.8125 5.515625 26.8125 \r\nQ 5.515625 40.234375 12.765625 48.109375 \r\nQ 20.015625 56 32.328125 56 \r\nQ 43.359375 56 49.78125 48.890625 \r\nQ 56.203125 41.796875 56.203125 29.59375 \r\nz\r\nM 47.21875 32.234375 \r\nQ 47.125 39.59375 43.09375 43.984375 \r\nQ 39.0625 48.390625 32.421875 48.390625 \r\nQ 24.90625 48.390625 20.390625 44.140625 \r\nQ 15.875 39.890625 15.1875 32.171875 \r\nz\r\n\" id=\"DejaVuSans-101\"/>\r\n       <path id=\"DejaVuSans-32\"/>\r\n       <path d=\"M 31 75.875 \r\nQ 24.46875 64.65625 21.28125 53.65625 \r\nQ 18.109375 42.671875 18.109375 31.390625 \r\nQ 18.109375 20.125 21.3125 9.0625 \r\nQ 24.515625 -2 31 -13.1875 \r\nL 23.1875 -13.1875 \r\nQ 15.875 -1.703125 12.234375 9.375 \r\nQ 8.59375 20.453125 8.59375 31.390625 \r\nQ 8.59375 42.28125 12.203125 53.3125 \r\nQ 15.828125 64.359375 23.1875 75.875 \r\nz\r\n\" id=\"DejaVuSans-40\"/>\r\n       <path d=\"M 8.203125 72.90625 \r\nL 55.078125 72.90625 \r\nL 55.078125 68.703125 \r\nL 28.609375 0 \r\nL 18.3125 0 \r\nL 43.21875 64.59375 \r\nL 8.203125 64.59375 \r\nz\r\n\" id=\"DejaVuSans-55\"/>\r\n       <path d=\"M 8.015625 75.875 \r\nL 15.828125 75.875 \r\nQ 23.140625 64.359375 26.78125 53.3125 \r\nQ 30.421875 42.28125 30.421875 31.390625 \r\nQ 30.421875 20.453125 26.78125 9.375 \r\nQ 23.140625 -1.703125 15.828125 -13.1875 \r\nL 8.015625 -13.1875 \r\nQ 14.5 -2 17.703125 9.0625 \r\nQ 20.90625 20.125 20.90625 31.390625 \r\nQ 20.90625 42.671875 17.703125 53.65625 \r\nQ 14.5 64.65625 8.015625 75.875 \r\nz\r\n\" id=\"DejaVuSans-41\"/>\r\n      </defs>\r\n      <use xlink:href=\"#DejaVuSans-104\"/>\r\n      <use x=\"63.378906\" xlink:href=\"#DejaVuSans-111\"/>\r\n      <use x=\"124.560547\" xlink:href=\"#DejaVuSans-114\"/>\r\n      <use x=\"165.673828\" xlink:href=\"#DejaVuSans-115\"/>\r\n      <use x=\"217.773438\" xlink:href=\"#DejaVuSans-101\"/>\r\n      <use x=\"279.296875\" xlink:href=\"#DejaVuSans-32\"/>\r\n      <use x=\"311.083984\" xlink:href=\"#DejaVuSans-40\"/>\r\n      <use x=\"350.097656\" xlink:href=\"#DejaVuSans-55\"/>\r\n      <use x=\"413.720703\" xlink:href=\"#DejaVuSans-41\"/>\r\n     </g>\r\n    </g>\r\n   </g>\r\n   <g id=\"matplotlib.axis_2\"/>\r\n   <g id=\"patch_3\">\r\n    <path d=\"M 10.7 140.629091 \r\nL 10.7 7.2 \r\n\" style=\"fill:none;stroke:#000000;stroke-linecap:square;stroke-linejoin:miter;stroke-width:0.8;\"/>\r\n   </g>\r\n   <g id=\"patch_4\">\r\n    <path d=\"M 144.129091 140.629091 \r\nL 144.129091 7.2 \r\n\" style=\"fill:none;stroke:#000000;stroke-linecap:square;stroke-linejoin:miter;stroke-width:0.8;\"/>\r\n   </g>\r\n   <g id=\"patch_5\">\r\n    <path d=\"M 10.7 140.629091 \r\nL 144.129091 140.629091 \r\n\" style=\"fill:none;stroke:#000000;stroke-linecap:square;stroke-linejoin:miter;stroke-width:0.8;\"/>\r\n   </g>\r\n   <g id=\"patch_6\">\r\n    <path d=\"M 10.7 7.2 \r\nL 144.129091 7.2 \r\n\" style=\"fill:none;stroke:#000000;stroke-linecap:square;stroke-linejoin:miter;stroke-width:0.8;\"/>\r\n   </g>\r\n  </g>\r\n  <g id=\"axes_2\">\r\n   <g id=\"patch_7\">\r\n    <path d=\"M 193.318182 140.629091 \r\nL 326.747273 140.629091 \r\nL 326.747273 7.2 \r\nL 193.318182 7.2 \r\nz\r\n\" style=\"fill:#ffffff;\"/>\r\n   </g>\r\n   <g clip-path=\"url(#p6cc7f2a0b2)\">\r\n    <image height=\"134\" id=\"image52872532e7\" transform=\"scale(1 -1)translate(0 -134)\" width=\"134\" x=\"193.318182\" xlink:href=\"data:image/png;base64,\r\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\" y=\"-6.629091\"/>\r\n   </g>\r\n   <g id=\"matplotlib.axis_3\">\r\n    <g id=\"text_2\">\r\n     <!-- ship (8) -->\r\n     <g transform=\"translate(241.024134 152.227528)scale(0.1 -0.1)\">\r\n      <defs>\r\n       <path d=\"M 9.421875 54.6875 \r\nL 18.40625 54.6875 \r\nL 18.40625 0 \r\nL 9.421875 0 \r\nz\r\nM 9.421875 75.984375 \r\nL 18.40625 75.984375 \r\nL 18.40625 64.59375 \r\nL 9.421875 64.59375 \r\nz\r\n\" id=\"DejaVuSans-105\"/>\r\n       <path d=\"M 18.109375 8.203125 \r\nL 18.109375 -20.796875 \r\nL 9.078125 -20.796875 \r\nL 9.078125 54.6875 \r\nL 18.109375 54.6875 \r\nL 18.109375 46.390625 \r\nQ 20.953125 51.265625 25.265625 53.625 \r\nQ 29.59375 56 35.59375 56 \r\nQ 45.5625 56 51.78125 48.09375 \r\nQ 58.015625 40.1875 58.015625 27.296875 \r\nQ 58.015625 14.40625 51.78125 6.484375 \r\nQ 45.5625 -1.421875 35.59375 -1.421875 \r\nQ 29.59375 -1.421875 25.265625 0.953125 \r\nQ 20.953125 3.328125 18.109375 8.203125 \r\nz\r\nM 48.6875 27.296875 \r\nQ 48.6875 37.203125 44.609375 42.84375 \r\nQ 40.53125 48.484375 33.40625 48.484375 \r\nQ 26.265625 48.484375 22.1875 42.84375 \r\nQ 18.109375 37.203125 18.109375 27.296875 \r\nQ 18.109375 17.390625 22.1875 11.75 \r\nQ 26.265625 6.109375 33.40625 6.109375 \r\nQ 40.53125 6.109375 44.609375 11.75 \r\nQ 48.6875 17.390625 48.6875 27.296875 \r\nz\r\n\" id=\"DejaVuSans-112\"/>\r\n       <path d=\"M 31.78125 34.625 \r\nQ 24.75 34.625 20.71875 30.859375 \r\nQ 16.703125 27.09375 16.703125 20.515625 \r\nQ 16.703125 13.921875 20.71875 10.15625 \r\nQ 24.75 6.390625 31.78125 6.390625 \r\nQ 38.8125 6.390625 42.859375 10.171875 \r\nQ 46.921875 13.96875 46.921875 20.515625 \r\nQ 46.921875 27.09375 42.890625 30.859375 \r\nQ 38.875 34.625 31.78125 34.625 \r\nz\r\nM 21.921875 38.8125 \r\nQ 15.578125 40.375 12.03125 44.71875 \r\nQ 8.5 49.078125 8.5 55.328125 \r\nQ 8.5 64.0625 14.71875 69.140625 \r\nQ 20.953125 74.21875 31.78125 74.21875 \r\nQ 42.671875 74.21875 48.875 69.140625 \r\nQ 55.078125 64.0625 55.078125 55.328125 \r\nQ 55.078125 49.078125 51.53125 44.71875 \r\nQ 48 40.375 41.703125 38.8125 \r\nQ 48.828125 37.15625 52.796875 32.3125 \r\nQ 56.78125 27.484375 56.78125 20.515625 \r\nQ 56.78125 9.90625 50.3125 4.234375 \r\nQ 43.84375 -1.421875 31.78125 -1.421875 \r\nQ 19.734375 -1.421875 13.25 4.234375 \r\nQ 6.78125 9.90625 6.78125 20.515625 \r\nQ 6.78125 27.484375 10.78125 32.3125 \r\nQ 14.796875 37.15625 21.921875 38.8125 \r\nz\r\nM 18.3125 54.390625 \r\nQ 18.3125 48.734375 21.84375 45.5625 \r\nQ 25.390625 42.390625 31.78125 42.390625 \r\nQ 38.140625 42.390625 41.71875 45.5625 \r\nQ 45.3125 48.734375 45.3125 54.390625 \r\nQ 45.3125 60.0625 41.71875 63.234375 \r\nQ 38.140625 66.40625 31.78125 66.40625 \r\nQ 25.390625 66.40625 21.84375 63.234375 \r\nQ 18.3125 60.0625 18.3125 54.390625 \r\nz\r\n\" id=\"DejaVuSans-56\"/>\r\n      </defs>\r\n      <use xlink:href=\"#DejaVuSans-115\"/>\r\n      <use x=\"52.099609\" xlink:href=\"#DejaVuSans-104\"/>\r\n      <use x=\"115.478516\" xlink:href=\"#DejaVuSans-105\"/>\r\n      <use x=\"143.261719\" xlink:href=\"#DejaVuSans-112\"/>\r\n      <use x=\"206.738281\" xlink:href=\"#DejaVuSans-32\"/>\r\n      <use x=\"238.525391\" xlink:href=\"#DejaVuSans-40\"/>\r\n      <use x=\"277.539062\" xlink:href=\"#DejaVuSans-56\"/>\r\n      <use x=\"341.162109\" xlink:href=\"#DejaVuSans-41\"/>\r\n     </g>\r\n    </g>\r\n   </g>\r\n   <g id=\"matplotlib.axis_4\"/>\r\n   <g id=\"patch_8\">\r\n    <path d=\"M 193.318182 140.629091 \r\nL 193.318182 7.2 \r\n\" style=\"fill:none;stroke:#000000;stroke-linecap:square;stroke-linejoin:miter;stroke-width:0.8;\"/>\r\n   </g>\r\n   <g id=\"patch_9\">\r\n    <path d=\"M 326.747273 140.629091 \r\nL 326.747273 7.2 \r\n\" style=\"fill:none;stroke:#000000;stroke-linecap:square;stroke-linejoin:miter;stroke-width:0.8;\"/>\r\n   </g>\r\n   <g id=\"patch_10\">\r\n    <path d=\"M 193.318182 140.629091 \r\nL 326.747273 140.629091 \r\n\" style=\"fill:none;stroke:#000000;stroke-linecap:square;stroke-linejoin:miter;stroke-width:0.8;\"/>\r\n   </g>\r\n   <g id=\"patch_11\">\r\n    <path d=\"M 193.318182 7.2 \r\nL 326.747273 7.2 \r\n\" style=\"fill:none;stroke:#000000;stroke-linecap:square;stroke-linejoin:miter;stroke-width:0.8;\"/>\r\n   </g>\r\n  </g>\r\n  <g id=\"axes_3\">\r\n   <g id=\"patch_12\">\r\n    <path d=\"M 375.936364 140.629091 \r\nL 509.365455 140.629091 \r\nL 509.365455 7.2 \r\nL 375.936364 7.2 \r\nz\r\n\" style=\"fill:#ffffff;\"/>\r\n   </g>\r\n   <g clip-path=\"url(#pc7ddc8aa11)\">\r\n    <image height=\"134\" id=\"image3ad4f42a4b\" transform=\"scale(1 -1)translate(0 -134)\" width=\"134\" x=\"375.936364\" xlink:href=\"data:image/png;base64,\r\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\" y=\"-6.629091\"/>\r\n   </g>\r\n   <g id=\"matplotlib.axis_5\">\r\n    <g id=\"text_3\">\r\n     <!-- deer (4) -->\r\n     <g transform=\"translate(422.596222 152.227528)scale(0.1 -0.1)\">\r\n      <defs>\r\n       <path d=\"M 45.40625 46.390625 \r\nL 45.40625 75.984375 \r\nL 54.390625 75.984375 \r\nL 54.390625 0 \r\nL 45.40625 0 \r\nL 45.40625 8.203125 \r\nQ 42.578125 3.328125 38.25 0.953125 \r\nQ 33.9375 -1.421875 27.875 -1.421875 \r\nQ 17.96875 -1.421875 11.734375 6.484375 \r\nQ 5.515625 14.40625 5.515625 27.296875 \r\nQ 5.515625 40.1875 11.734375 48.09375 \r\nQ 17.96875 56 27.875 56 \r\nQ 33.9375 56 38.25 53.625 \r\nQ 42.578125 51.265625 45.40625 46.390625 \r\nz\r\nM 14.796875 27.296875 \r\nQ 14.796875 17.390625 18.875 11.75 \r\nQ 22.953125 6.109375 30.078125 6.109375 \r\nQ 37.203125 6.109375 41.296875 11.75 \r\nQ 45.40625 17.390625 45.40625 27.296875 \r\nQ 45.40625 37.203125 41.296875 42.84375 \r\nQ 37.203125 48.484375 30.078125 48.484375 \r\nQ 22.953125 48.484375 18.875 42.84375 \r\nQ 14.796875 37.203125 14.796875 27.296875 \r\nz\r\n\" id=\"DejaVuSans-100\"/>\r\n       <path d=\"M 37.796875 64.3125 \r\nL 12.890625 25.390625 \r\nL 37.796875 25.390625 \r\nz\r\nM 35.203125 72.90625 \r\nL 47.609375 72.90625 \r\nL 47.609375 25.390625 \r\nL 58.015625 25.390625 \r\nL 58.015625 17.1875 \r\nL 47.609375 17.1875 \r\nL 47.609375 0 \r\nL 37.796875 0 \r\nL 37.796875 17.1875 \r\nL 4.890625 17.1875 \r\nL 4.890625 26.703125 \r\nz\r\n\" id=\"DejaVuSans-52\"/>\r\n      </defs>\r\n      <use xlink:href=\"#DejaVuSans-100\"/>\r\n      <use x=\"63.476562\" xlink:href=\"#DejaVuSans-101\"/>\r\n      <use x=\"125\" xlink:href=\"#DejaVuSans-101\"/>\r\n      <use x=\"186.523438\" xlink:href=\"#DejaVuSans-114\"/>\r\n      <use x=\"227.636719\" xlink:href=\"#DejaVuSans-32\"/>\r\n      <use x=\"259.423828\" xlink:href=\"#DejaVuSans-40\"/>\r\n      <use x=\"298.4375\" xlink:href=\"#DejaVuSans-52\"/>\r\n      <use x=\"362.060547\" xlink:href=\"#DejaVuSans-41\"/>\r\n     </g>\r\n    </g>\r\n   </g>\r\n   <g id=\"matplotlib.axis_6\"/>\r\n   <g id=\"patch_13\">\r\n    <path d=\"M 375.936364 140.629091 \r\nL 375.936364 7.2 \r\n\" style=\"fill:none;stroke:#000000;stroke-linecap:square;stroke-linejoin:miter;stroke-width:0.8;\"/>\r\n   </g>\r\n   <g id=\"patch_14\">\r\n    <path d=\"M 509.365455 140.629091 \r\nL 509.365455 7.2 \r\n\" style=\"fill:none;stroke:#000000;stroke-linecap:square;stroke-linejoin:miter;stroke-width:0.8;\"/>\r\n   </g>\r\n   <g id=\"patch_15\">\r\n    <path d=\"M 375.936364 140.629091 \r\nL 509.365455 140.629091 \r\n\" style=\"fill:none;stroke:#000000;stroke-linecap:square;stroke-linejoin:miter;stroke-width:0.8;\"/>\r\n   </g>\r\n   <g id=\"patch_16\">\r\n    <path d=\"M 375.936364 7.2 \r\nL 509.365455 7.2 \r\n\" style=\"fill:none;stroke:#000000;stroke-linecap:square;stroke-linejoin:miter;stroke-width:0.8;\"/>\r\n   </g>\r\n  </g>\r\n  <g id=\"axes_4\">\r\n   <g id=\"patch_17\">\r\n    <path d=\"M 10.7 318.534545 \r\nL 144.129091 318.534545 \r\nL 144.129091 185.105455 \r\nL 10.7 185.105455 \r\nz\r\n\" style=\"fill:#ffffff;\"/>\r\n   </g>\r\n   <g clip-path=\"url(#pcd028b4370)\">\r\n    <image height=\"134\" id=\"image46a2ff66a6\" transform=\"scale(1 -1)translate(0 -134)\" width=\"134\" x=\"10.7\" xlink:href=\"data:image/png;base64,\r\niVBORw0KGgoAAAANSUhEUgAAAIYAAACGCAYAAAAYefKRAAAPTklEQVR4nO1dSZcT1xW+VfVKKkk9d7sbsHGYHYgBT9h4BpMQZ5H8xSy98CrL5JwsnOQYDzknhBPwsR3itk3ADN2oW90aasyCLPx991r0nvvtrlR69VS6qvfVd4cX/f6DG438CFnWE7DbsTCK0Q7YX9z4BOw7P9wEe3ZmDuzV1f1gd7tddY4evdbpzIC9uLQP7HZvHuwGvtUjRBLJtIPipAY7SfD4KNLXIo7xtZhPjEPKeDwGe2ewBXZe5OocwxxfGw1xjLk5/O69Hl6ruw/6aszvbn0P9uYWHqO/qcMh7hiOn4A7hsNEkKaCFyIp8ICQqQ/VMa699+/fBTsvJmBvb2+D3WoTj+l29DlqXJyLyRDs3e0HOM8WzjPLNG9pmohsfD+00G61AthRrP9HUYRjxg2RigpPUld4vaUp6f2ROkdT4W8yGSPH61fIQYocr/9Wv6/G3Nz8L9j3Nu+D7XcMhwl3DIcJdwyHiVCX9Nxc47qaxLTwikiapmD3+8ghihL5QEY05f4D5AdJIH1BRMIa6hSx4Fo92O6DzUv7ytoBNWbSwuf7hnSNCpd7yYl/xbEWR1gbaYijxTSvosQxJzkev0V6gojIiLQPvt6sa7RJiyoMUWdnsAl2VeBv5ncMhwl3DIcJdwyHCXcMh4lQE+GKhUSdJlEfquvpAkrZIDkSEpbGYyRcZYXjPZoHYv/qGthdYrRbG7fBrkgUEhHZd/AY2BGJdyr+VdILxt8oJrGvokFq5n0UiItivL55ruedT1D0iiNktCU9QER0OdOOFinnZlFUzDL83f2O4TDhjuEw4Y7hMBFYUFmYx6SaJNbi02S8C/aDjR/ArhoM8jQ1ijpJwPWtFr2uPthog93N0E6TRRyDeMq9HzAR5dGJcT1ffgoThjod/O5xhMcbeTqi42rMyfD6US6QSqpp0fcUEfnq5g2wxxPkFGuU+NRK6VqRICkikoZlsBviOn7HcJhwx3CYcMdwmAh//NOH8MLq6irYyyuYaCoikia4Zj3s3wObOYYIiiXdLvKDRih5RUQ2aPGen8G1OGvxczeOMdjRCS+Dr67jOSjB6PCRk2AvLuO1iDizV0RqSsTZpYBXEpgb4bwfbqHm89Hf/qrOceWzj3BMuv4njj8H9uoKaj7Hf3ZEjTk3i3wqbWNik98xHCbcMRwm3DEcJsLVf+L61agiHP2hboa8YzTCdTKj3N7d3QGelHQMrgMSEYlI++g/xDWxk1ECESXVjIeaY4zHqHXcvX0L7G1a78+++DLYrZZOWvpm/Ruwr13/Auwowc8sLSyA/dWXqFF8+rnmGHcpDsS4dRs1m8X5JbA3zryiPnPp0mWwe138Tf2O4TDhjuEw4Y7hMBFYRuek2qLQcYzNh6hbhIDP5u0Kn92bkopyWA/gpBARaei1ERXZ7O4gH4iJqIxGmmMMh5jwOtzFmE+/jwmyRY4Fx2lbc4yPr1wB++b6OtjbO6TpcM4HcalWS8c1OFd6NNxWx/wYW1TE9OnVT9Qxp196A+yl1aNg+x3DYcIdw2HCHcNhwh3DYSLklPTBSR2Bgj4iIg2Rx1aKpIwDS3VFZJMYrlFErrrZCJG08QiJZEKDsKgmIrKzS1XiD/tgM/G7ehVJXpLqazHYQYIamCkSEZxMUGRjQZETe0VEIiKsVGCvOv3wb1apjGSRvMDrmaYeRHPsAe4YDhPuGA4Toaq4oht9hdduEZGU1uIudcSpSRRLU0o0pQRjThYWEYlICWooSFZQ155Jieccj1C8EhEZEe/gjnltLsunxbyqdaJOToVN3HWPOwPx9WXw8Y/mgWbMkU0qCiupUOrg2jNqyGefOQx2K8UKeb9jOEy4YzhMuGM4TATuOsfP2daa2Mq4GBjXxUCcIqMiGi5iqkodqGPe0XC3O2p/M9xB/sABMhGRXeIUZY6Ju6oQmr57aaz/ZT2d+7DmEEIy9f261tebk6VDQI5XV/iZNKAm8eYb76kxn332EM5DcEy/YzhMuGM4TLhjOEwEfiZmzmEl6nAHfa577rRxvSpKXHdHI9YxtJY/4vW916MjUDtpEa+ZGEnMGSUQM6cYTcge0fdM9P8oL7mzLxVwc8yHRImIL16pNR3meSnFpkYFzuHkz58H+/3Lv1VjttvI+1hK8juGw4Q7hsOEO4bDREgpx0B10zd0jII0BNYxStIlePeBIsN4QlXqZODdASW80iKY0trNRc7tls6dyNpYtNSm735v4yHYo5zjNVrHUN+deAt3H+bEaf58ZSRGM2/heErWRr518cKvwF5ZwS7LIjpZmn9mv2M4TLhjOEy4YzhMBF7z1K6ABsdIatQpUnq+72X4Phf6bA8wrmE1gAukr/SpyezsDOoa3FQuNnJVOZ+VcyFnupRvSc3ZCiNvZJxjHmlF+a2sfXAuSkG5l5wfIyJSMw+hfIujh7Gx7blzWExkNabhy6N+d/UJh0PcMRw/AXcMhwl3DIeJkFC3XLYt8pkSKWtTkU2POtk3JMgMqPCnZXSu5dfa3EGHq9upW067pTvsBvofJNTtZqbbo/dxDtsUVBMRqSsk0iWRSd7SO4ooeZh2G6iMIFokHETDeb355jtgP/30QbAnxu4OnDDE9wi/YzhMuGM4TLhjOEwojsGcgotuRUQSWp8CBbQ4MNehHXZ4u0juMiOik3d4G8sRiWY5JTGXHR2MelxxVYuSVxq6NlsGx2CRrCa7ynEeVUliFQUkuUD5/zMFa/UpDIpdePciHs0BsebxW487x3DsCe4YDhPuGA4TgbvdMqewgjq83SA/E7dV8xUKRnGCsZEA020jL+l2MBmFi6153lw4ZYEDiKyNcIFRYRRGccFRRPPilZw5RUVNZnTysN7d8fXzb4F9/PjxqfO0tCiunWJu43cMhwl3DIcJdwyHidChtdvSLRisKTCnSAOtV1Sou7yIOxzN0e5FIiKz9FoaIx/gBNlcrd1GcgpxHf6uwzEmyI4pjrE71IXSOa3n6vKpxmrTY1NWgdfa6gGwL17EZN9AuyiVNe3crDQLXUzN8DuGw4Q7hsOEO4bDhNIxGKVRDBRHHBuhtbvi5qJ4jozs+Xm9U+PKIu7Sk9Bz9oTiLcwxCmPeeU6FTjRPLta+t4G7EWwbuyZx8RUv3lwcpAu62NbV2OfPY3IvFy3zbxRFrAtZ/38qLCcu5HcMhwl3DIcJdwyHCXcMh4nQkAITE8lLVaBJb13FibsJVT5l1Ek4pQBZZiTuZpQ0wxXxgceMccwh7U4gookgi0mDXfzM/Y0NnIOh/VVKKZpOPjlwx50B5mY1EX/7rXfB7vZQ/NMBw8eoV2IJmeQHjx3B8UTCHcNhwh3DYSJw4kjC1e+8vY6IMOtoUSAoUKCoRaXVC1Spzl3+RHRHvc2tPs6LhKClBRTEmop2EhBRJGGwhcVC28Qxcq5cNxJeIuYtlLijpKZ6eifmX5w8pM5x9PAJPAfvcMBiFfMcsxOQegnnOf1tx5MKdwyHCXcMhwnFMTj01PAOiCISqCOeLuSZ3vkvIx0jTnTgaJLzOoqL4uYmagwRFdVwApKI7sLLgTYOovGzvpVEowu0aNcEWu8L4jlxivM8dfoVdY6Z+VWcJzX+4YZETB9qg1BYGynBmNPfdjypcMdwmHDHcJgInNgrNcdOtO7O8RTmGFlKOxoRh+DOdmWt127mFFyYM9jB5itJhLynZ+x4zIsv77zM87SSaBnMOxpKkoni6bsm79+PTU7OvviaOkclVBTGcaNkOs+pDB2jJj0lijxW4tgD3DEcJtwxHCZCQusoh0aYT4gY3fBpDE4w5qJn1igkMWIltC6OKKaQUELxmMbM+5q3cC4EFyB3aRelIZ2TdQ4Rg2NQLgoXSrWIf73x6nmwnz95Sp0joR+lbDivhGI6rGsYXOlxhVF+x3CYcMdwmHDHcJhwx3CYCJps8iEWcZme4Jp1pm/xzcEr7nwrosmnTj7BiXPVuZVUwwS15Io5SjDOaKtyTuwVMQgpET0WzVYXF8A+uIIJRpPNu+ocTQfFvO4sjkE7dEktVBlo/Yb8VVzgcuwF7hgOE+4YDhOBVx9ViGIk6tSU4pokmGzCibrcHZd3wi5yXZnO3fBi4jGBBC7u8md11BlTx5yCdiwYU+ffEJBzdDpdPSZ9JqftynsdFM32rSyD/e/r18Be/+K6OsfBI0fAfuHV1/H9oyfxAwlxvMriibx1KL7vdwyHCXcMhwl3DIeJwCUxrDlwAoeISEpBsU6HuvaTv5XCHfeoe64R5OHOv70e8ph2C+cwHiKnSIxC6XYbOULWRj5Q0Vrc7s2CPTOHW3iKiNz5/luw129+DfZ+2ing8m9+B/bB/c/Q52+qc3z55Q2w42t/B7si8enY8bNg50aiDgfNnGM49gR3DIcJdwyHiRBzF19OmDW64YdoOkcYTvDZvib/q0hP4N0LRURmZ3A9X17GbsJj0iCKWeQcp07phJc54gi8G9EkxzFn5jGOwYk8IiJ/+PADsGfper7+ziWwL1z6NZ6D4h4nT7+szjHzlz+D/fV/kHPcuXMb7MVF5C0Li1iwJCJS1qgdsa7hdwyHCXcMhwl3DIcJFSvhnITIeAaOhAuIeHch7NLf6aJ+wEU5aVtrDocOHwN7bW0/2AuLGHNY24fvHziAHftFdPE079TIic8JNZ377MrHasyVOWym9tzl98E+9eI5sOfmF8Ce5JQTkumGL29f+CXY22Ns8NLq4hwmJcVBjHwMTi3h/Be/YzhMuGM4TLhjOEwELjCOWlzoqxvAdjPkDHlBz8R0PBcHLS6jPnDm9EvqHGfP4GvLS/gs3u1iE9QkpcJeNaIulG44z5Gayq3f/Absf3yOMQoRkfcuoE7x3a11sJeWV+icpBsRy2O+JiISp8g7zr32Nn6GmsYsLOC1qgqdm8LMkYut/Y7hMOGO4TDhjuEw4Y7hMBG4aywHljqG+BSoE81gF4NiaRuTambnkICdP/8O2C+88Ko6hyKXVBFfEuHiiu+9dMNRW3ZXGET717WrYB87dlSNcOgEJuJ+/e062B0KELLYtIfdTNVvsrKCyT9Vzd8Dj6+Nc7DAVXAX5MdPy/Ekwh3DYcIdw2EiaCWI95zWH+JONBkV4sxRJ9tXXkZB5vQZ7CITUr2FN2lmuhCaq6/ZNLvI4HcLlFRz51sUtDYeYIHxJQqQiYiMI+Q+RTS9e1BChVDMB3g3AxFRJKFueBcl6nBY0vbmpSYZHLybFC5wOfYAdwyHCXcMh4n/AafOdSFowO0yAAAAAElFTkSuQmCC\" y=\"-184.534545\"/>\r\n   </g>\r\n   <g id=\"matplotlib.axis_7\">\r\n    <g id=\"text_4\">\r\n     <!-- deer (4) -->\r\n     <g transform=\"translate(57.359858 330.132983)scale(0.1 -0.1)\">\r\n      <use xlink:href=\"#DejaVuSans-100\"/>\r\n      <use x=\"63.476562\" xlink:href=\"#DejaVuSans-101\"/>\r\n      <use x=\"125\" xlink:href=\"#DejaVuSans-101\"/>\r\n      <use x=\"186.523438\" xlink:href=\"#DejaVuSans-114\"/>\r\n      <use x=\"227.636719\" xlink:href=\"#DejaVuSans-32\"/>\r\n      <use x=\"259.423828\" xlink:href=\"#DejaVuSans-40\"/>\r\n      <use x=\"298.4375\" xlink:href=\"#DejaVuSans-52\"/>\r\n      <use x=\"362.060547\" xlink:href=\"#DejaVuSans-41\"/>\r\n     </g>\r\n    </g>\r\n   </g>\r\n   <g id=\"matplotlib.axis_8\"/>\r\n   <g id=\"patch_18\">\r\n    <path d=\"M 10.7 318.534545 \r\nL 10.7 185.105455 \r\n\" style=\"fill:none;stroke:#000000;stroke-linecap:square;stroke-linejoin:miter;stroke-width:0.8;\"/>\r\n   </g>\r\n   <g id=\"patch_19\">\r\n    <path d=\"M 144.129091 318.534545 \r\nL 144.129091 185.105455 \r\n\" style=\"fill:none;stroke:#000000;stroke-linecap:square;stroke-linejoin:miter;stroke-width:0.8;\"/>\r\n   </g>\r\n   <g id=\"patch_20\">\r\n    <path d=\"M 10.7 318.534545 \r\nL 144.129091 318.534545 \r\n\" style=\"fill:none;stroke:#000000;stroke-linecap:square;stroke-linejoin:miter;stroke-width:0.8;\"/>\r\n   </g>\r\n   <g id=\"patch_21\">\r\n    <path d=\"M 10.7 185.105455 \r\nL 144.129091 185.105455 \r\n\" style=\"fill:none;stroke:#000000;stroke-linecap:square;stroke-linejoin:miter;stroke-width:0.8;\"/>\r\n   </g>\r\n  </g>\r\n  <g id=\"axes_5\">\r\n   <g id=\"patch_22\">\r\n    <path d=\"M 193.318182 318.534545 \r\nL 326.747273 318.534545 \r\nL 326.747273 185.105455 \r\nL 193.318182 185.105455 \r\nz\r\n\" style=\"fill:#ffffff;\"/>\r\n   </g>\r\n   <g clip-path=\"url(#p158ebdff42)\">\r\n    <image height=\"134\" id=\"image9c9c0e63df\" transform=\"scale(1 -1)translate(0 -134)\" width=\"134\" x=\"193.318182\" xlink:href=\"data:image/png;base64,\r\niVBORw0KGgoAAAANSUhEUgAAAIYAAACGCAYAAAAYefKRAAAPX0lEQVR4nO1dyXIcxxHN7q6enulZsAgAZZGURIUj5JtsKRzWT/kXfPK/+OqjD3JYdtiSQ2ExJMs0BW6GSJrgAgIzmK2nVx94sN7LJMAPyHdLzHRVdU+i61XWy8rot7/5dSc/QkgEkPV6wkiTFuyYPp++nIN9ePs+2JtNCfZkMlJ9jEYDsPf2dsFOaJyTSQ72uihUm1GMI01TvLdVWYF9XtRgx0mq2vzZT6+D3YsasMsNjiOkAex+1gd7udLjrrBJiQWff0V9JPRwygbvQ0SkpTbiCMfFv6nDISLuGI7XwB3DYSIkNG8WJc5XyzXyBRGR3QnOizTdy2K1Brum+awBViMym+k+lqsV9hFwnIMc+UEvwzmy66gTEUki/D+I4wjb7GMbZYt3Nl9uVJtNjQQgyrDfXqZ5CVzf4vU0pFd/66iPCPtIkovvq6rx+YuIhBR/w6rCNv2N4TDhjuEw4Y7hMBF6PZxX10gPZDE34gE1zkejPAO7P8AYxP6VPbBPnr8Au6a4hohInOA8GcW4Fs9zjH0wp2gaPa/GMf6tbXDuDhSzaRp8GB19X0SkID51/PAJ2O+99x6NAf8XNzXde6v7iAXvvWuJDxDnaFqKUXSa59QV8qfD+w+pT4fDgDuGw4Q7hsOEO4bDRFhRIGk6PQc7H4zVRas1EtKSyGPaQ2IzGiNRHI+GYEcG4eIA1nCIhJaDOnWJBK0sNaHlzaXhEMfBgbeoW+L3cwwKiYjUFfa7u/MWtkFBtZoCYi0RRen0s2gqCqzFeB9phs+moz2zZqWJ+Hff3wX7i6//iV2oKxwOccdwvAbuGA4T4eTkFP7QtegrIWAA7NV3cI6bzs7A3t/fxzYS5AsL+n4aGUGdgudF/M5ohLyF+cKAgmzWdxiz2QLHQEGzfIxiIBEd4Mom2EfXUaCOOEdEm2ZlqfkA6YckIq50XiAHOXp4DPaD+2iLiMxX2Gg+2gLb3xgOE+4YDhPuGA4TYTbFtTqv9Vn0ISLStBjH6EiIs7uLm2ZxjByjXGOMYbNEziGi1/c1CVpZhzOgtXxV0cQsIpsNzsUFzc3nM3wWLcVX+j3Nt1hgHBOH4HGsiJNwPCaKWPYkstrgdx4dI2c4fIAbYE+eIm+MOi3o7vXxbyPiRv7GcJhwx3CYcMdwmAicAFNVtMcQ6xhDRtdEJCSZTZEztC0KRdZrnHfTFIU+IiLzBc730fLi/Zm93R2wJ1vbqs2K9jUWS9wnWtMeUBdRYk+hRcvjfAJ2SuLqpsY+l0uKe1C85ewc71tE5G9f3gT76PFTvGaB99Hr4/7WaKi5kZDoqCyRb/kbw2HCHcNhwh3DYSLEKSXI0N5IKzpxZzTGeVX6qFNYE8foIvz8yZPH1J7egzh+hm1kAef7X/78A7D3djHWv6q0z3/7zS2wK4prbE/wvg52cG2/k2tR7Xib7n2J3KcqSKuS4b2+ILH1Z3/+u+rj3j18XhzDqYnHVOUU7GDsRYUY723ZIe/zN4bDhDuGw4Q7hsOEO4bDRLh79wj+sL29DfZgoEW1DQtHKspWqzCIMxwhW9rZRpHNy9OZ6mPQx6DXB++j+Of69Stg82bf4Z07qs3jp8/A3hqxSBmDTTu7SEbzgSafRUmZ/cQMWVRTUxbfF19+DfYd+j1ERLIeEtZGBaf4N8I+zs5OhVEUOO4eZeH5G8Nhwh3DYcIdw2EiPH78HP7QNHSqXF+f+HbyAjeTsghJx5Vd5Ac7PQymZDQlJqLFQFevHmCb+8gH8j769OHhIdjPn5+oNtMecoRhjnP3mMQqQlnkz1++VG0mJBCKAwW8Cnw2X3/zPdi3v3+A10daVBORYphFTJxB33UXi5wssHja3xgOE+4YDhPuGA4TYbnCCf85JSDlA73BFcfIQ3ZyXKs3DScP49x+sI/8YZxrccq7N34C9oCIyfJ8CvbzZxijWC6tk4GR+/Dcy0LemIS5q7WO6bQ1XsObjjdvYrLw3Qd44o7Qibx8wpGISEKnC/HpQTlxJd5Ua9aaY3Dsg2Mj/sZwmHDHcJhwx3CYCB2tkVmEW1Z6fspzXO/XA5y7UyphEGgf48a718DerHAt/+oanAOLFcZOzk/w5L9PPvkE7PuPdRzjwdF/wZ7PMYn56TG2ObrxLtj7B1dVm6eUHPzZn74E+9+37+EFxM9i2ksxDjRWfCDL8HlPSGB0coL3znEQ628qNqKH4XC4YzheA3cMh4nA2xQJ8YO20wd5LGm+f2cf4+zDEa6r+XCR6SnOgSHWPGYxx32JqMW5fGu8DTav7T/99FeqzdEEDyT71zffgn3nDlZiqjbY5+4BakJERL76Dvdobt/BBOMNiZK5SFLWx+edJDqOUawv3huZzVDPwslDXMnpVT9U7Sl4hSPHG8Adw2HCHcNhIvB6tuH9g1jPT0JJzIESn2ua49ZrnL+OfsAEmn6i19m723iQakvjKkmzWFAlpmqDib4iIh9//BHY2zu4/v/rX74A+/gUk57uH2MysYjIP24hb5EEYwxxoOfb4n3UTK+MCkeqKiLFNTgGkaZEZCIdHGmpOsOSYjr+xnCYcMdwmHDHcJhwx3CYCCmVrWTBhllCirKnWyrfuJgj8auoMkA/w8+vUAKSiEhH/Y6pgsGaSN2QAl6TXLc5nmBG/Ecf/wLHSaKbz//4Odj/OULSLCLSNDiOPomSkhiJX0FlwTdUfpurE4iIxBG2yac182/GYmCrZmdTY/BuTVUo/I3hMOGO4TDhjuEwEawTdAFcgUdEVdihw+7knATG3QI3efYosFSOdRCtbrGNiE7l6Q/4GvTxcqPv6+QZJlclVF772gGKlD+88T7Ypy90wtHpDIN5LfGpKObqA2hz8IptEeEcZbVhyCce8+f9gT4VMaYYWEk/or8xHCbcMRwm3DEcJqJr196BCYk3YLjKoohI1iNhTobr6rf38PPrV7fB3qG1/jDT8+rBAW6ijUj8EyiO0aeTA9tOz6t9EjF3FGOoNlz6mrjURscYfvf7P4B96/6jC/tkPsCcopfqSo1FwRUM9G/yY7BYuG4134qoDDiLqfyN4TDhjuEw4Y7hMBEOaO0+n6PghYWnIpqHtJT8e3KOa+L9A+QDvB3QdjqWz8nWBVUbCAHnyPEIxxSJjo0MB2/jOGpsc73CZKsQ8x6FrsL44YeYlHTr/pH6DoyL4hj8fEuu/iB6/4SvYaHOpXsnItISx1CVrdQVDoe4YzheA3cMh4nA1YuZYyhhqYhw1eSOsmjma1yrP3yECUbZtV2w856OOSzpFP+G1uJNjTxmMcBYyiDTfGB+hhxi/wqOo6G5uGyoyuJCxw+eUcXChJ5FTfM9aym00Bf7FNEcg3lKRAriDVcrMsTWDSWr82/gbwyHCXcMhwl3DIcJdwyHifD4MW76cM7SaKRFtXyK3NmMgmKUsX2+QDL06AkJXqxjZCjbrdcjH+6QkJ1P6cQ90af21RQ8WhVINnf2sUTnTSqVNVvorPxpwScp42ZfyZl9gasRXEwsRUQmWySEJlFNQeUguAlDCyxx7+ISZ/7GcJhwx3CYcMdwmAjLFWY58wlwsaFN5bLfnFTDJb03JHh59PIcPzeSmvb3MDloRLwmFhxDscK52orLpT0Uwdw+OgZ7QmLh3bfwBJ2HJz+oNs/WKHDZIj7wkqoLNcJBNAqAGYSA9zFjet5sa6aowRWNOj+1z/EmcMdwmHDHcJgIXNlmZwfX8ixeFdFiVBbiXnYCTEkikbOFjjkUNVcGoBP0tpGDzKY4pnyoqyaElJN/cByrDY77INsGuxVNuBLiU8MBPovFEslOqY7MwTGwgEZEZLHAOBFXFwjh4ufNCUgiIkWB3IarZ/obw2HCHcNhwh3DYUIdQ8t8gYU7IkY1HFpob23h/M9trGntvzHypisSA8ckDtreRW5UtMiFGiM5KNAhJ1xNaL3Ea07u4Sm/K0rKERHJMowH9CnGw5UaqyULji+uXvQm4MR0Fgdb+y+XJVP7G8Nhwh3DYcIdw2EiFAXGEF5SNWIrjsGC1ssSXljg2tD3K2OvJE3YZ3GerKhS43KDa/uk0RyDdSS9yxJ5uBqhNU7mBCQoDizEpc8j0pVYcQx+nswZeN+DOZzFMfhe+Xf2N4bDhDuGw4Q7hsOEO4bDhApwLSkAY53qx2SHydF0OgU7JrUPl76wst243zGJbEnvokp09RKd7c4ZWYrm0aZa2sfHk48wqCaiS4kWdNIvB7wi6pWvT43TBRoipEwmOZuQFwdW0Oyyk//8jeEw4Y7hMOGO4TAR1Gl3FHxi0YeI5gg8hTHn4DY7rnBQ6z5CxAlG2EZNHKRPvGeUa6FO27HAhYQ7CQWSaIPLOmF3Rck/izkKnXdoQ3FAQp7Nmk4KMvhWTOUxOSip+AHxFP6NRTSX9BLejjeCO4bDhDuGw0ToaBOH4wexkQCzotPt+FQ4XlfznKjpg97wamIW6uLGUF7jvMobdcXG2jjiakM4vw9ynIuZY9SpjulU1G9J97KiROo+cYySqhXUjU6c3pTYb8JVqWq8r16KXCjtaRFzO2cxDyeFOxwG3DEcJtwxHCYCV/HjGLpV1Y/X/zyHRTSXhxT9r2lYiKq2bNR+QE1z92KNCUZr4jFNp+fqyQS5T6ZiONhniDlxWidGjXLcP9mQwKhi4TT9Lw4GGG/hQ1FERIo1Jp4nCZXsDhTDGeN9VrUWMacpP3PnGI43gDuGw4Q7hsNEsE/+/T/iWM/VvL5nXCZe5dgIx+mtaziR9/QURctNQzqHVO+VMF9icfCaeAtzn/FEt6mrIuI1PG7eo+BqUVGkYw4pVT1iXpiRboR/s9aIE/EJbuo30lc4HO4YjtfAHcNhIrDeghOSrfmftZG8V8KxEJ6/AsX6y1LvQXAbl8VXmCvFRsXjJOF4CidG4ThCwPsieiAiIlVN8QDSprAWolhjH/z868riWzjukOK9DUgn0kUX62FEdBIz9+tvDIcJdwyHCXcMhwl3DIcJRT5nsxnYfKqfiMhkawx2XV9MqDhBKe6jP56c4Om5IlbgCMkSk1EWwFohOA42sUiJS19zYMgSRuc5XsPVGpQQmsbNhLgTo9x2jG1ktGnWo1N9NgWdLmBk/vPz4iQlf2M4TLhjOEy4YzhMBJ7/OXnFOo1lOKKT6EhAzKfb8SkxkzFWOGDxsIieF5kf8Ok2DVX54RP5RESikjfauDoRBqP4vlKusiQ62YqfJz8LntuZc4zH+lnELP4hAXFJ5c1Z7GOdBBRHvHnqm2iON4A7hsOEO4bDxP8Apqnx2U8ArfkAAAAASUVORK5CYII=\" y=\"-184.534545\"/>\r\n   </g>\r\n   <g id=\"matplotlib.axis_9\">\r\n    <g id=\"text_5\">\r\n     <!-- frog (6) -->\r\n     <g transform=\"translate(241.424134 330.132983)scale(0.1 -0.1)\">\r\n      <defs>\r\n       <path d=\"M 37.109375 75.984375 \r\nL 37.109375 68.5 \r\nL 28.515625 68.5 \r\nQ 23.6875 68.5 21.796875 66.546875 \r\nQ 19.921875 64.59375 19.921875 59.515625 \r\nL 19.921875 54.6875 \r\nL 34.71875 54.6875 \r\nL 34.71875 47.703125 \r\nL 19.921875 47.703125 \r\nL 19.921875 0 \r\nL 10.890625 0 \r\nL 10.890625 47.703125 \r\nL 2.296875 47.703125 \r\nL 2.296875 54.6875 \r\nL 10.890625 54.6875 \r\nL 10.890625 58.5 \r\nQ 10.890625 67.625 15.140625 71.796875 \r\nQ 19.390625 75.984375 28.609375 75.984375 \r\nz\r\n\" id=\"DejaVuSans-102\"/>\r\n       <path d=\"M 45.40625 27.984375 \r\nQ 45.40625 37.75 41.375 43.109375 \r\nQ 37.359375 48.484375 30.078125 48.484375 \r\nQ 22.859375 48.484375 18.828125 43.109375 \r\nQ 14.796875 37.75 14.796875 27.984375 \r\nQ 14.796875 18.265625 18.828125 12.890625 \r\nQ 22.859375 7.515625 30.078125 7.515625 \r\nQ 37.359375 7.515625 41.375 12.890625 \r\nQ 45.40625 18.265625 45.40625 27.984375 \r\nz\r\nM 54.390625 6.78125 \r\nQ 54.390625 -7.171875 48.1875 -13.984375 \r\nQ 42 -20.796875 29.203125 -20.796875 \r\nQ 24.46875 -20.796875 20.265625 -20.09375 \r\nQ 16.0625 -19.390625 12.109375 -17.921875 \r\nL 12.109375 -9.1875 \r\nQ 16.0625 -11.328125 19.921875 -12.34375 \r\nQ 23.78125 -13.375 27.78125 -13.375 \r\nQ 36.625 -13.375 41.015625 -8.765625 \r\nQ 45.40625 -4.15625 45.40625 5.171875 \r\nL 45.40625 9.625 \r\nQ 42.625 4.78125 38.28125 2.390625 \r\nQ 33.9375 0 27.875 0 \r\nQ 17.828125 0 11.671875 7.65625 \r\nQ 5.515625 15.328125 5.515625 27.984375 \r\nQ 5.515625 40.671875 11.671875 48.328125 \r\nQ 17.828125 56 27.875 56 \r\nQ 33.9375 56 38.28125 53.609375 \r\nQ 42.625 51.21875 45.40625 46.390625 \r\nL 45.40625 54.6875 \r\nL 54.390625 54.6875 \r\nz\r\n\" id=\"DejaVuSans-103\"/>\r\n       <path d=\"M 33.015625 40.375 \r\nQ 26.375 40.375 22.484375 35.828125 \r\nQ 18.609375 31.296875 18.609375 23.390625 \r\nQ 18.609375 15.53125 22.484375 10.953125 \r\nQ 26.375 6.390625 33.015625 6.390625 \r\nQ 39.65625 6.390625 43.53125 10.953125 \r\nQ 47.40625 15.53125 47.40625 23.390625 \r\nQ 47.40625 31.296875 43.53125 35.828125 \r\nQ 39.65625 40.375 33.015625 40.375 \r\nz\r\nM 52.59375 71.296875 \r\nL 52.59375 62.3125 \r\nQ 48.875 64.0625 45.09375 64.984375 \r\nQ 41.3125 65.921875 37.59375 65.921875 \r\nQ 27.828125 65.921875 22.671875 59.328125 \r\nQ 17.53125 52.734375 16.796875 39.40625 \r\nQ 19.671875 43.65625 24.015625 45.921875 \r\nQ 28.375 48.1875 33.59375 48.1875 \r\nQ 44.578125 48.1875 50.953125 41.515625 \r\nQ 57.328125 34.859375 57.328125 23.390625 \r\nQ 57.328125 12.15625 50.6875 5.359375 \r\nQ 44.046875 -1.421875 33.015625 -1.421875 \r\nQ 20.359375 -1.421875 13.671875 8.265625 \r\nQ 6.984375 17.96875 6.984375 36.375 \r\nQ 6.984375 53.65625 15.1875 63.9375 \r\nQ 23.390625 74.21875 37.203125 74.21875 \r\nQ 40.921875 74.21875 44.703125 73.484375 \r\nQ 48.484375 72.75 52.59375 71.296875 \r\nz\r\n\" id=\"DejaVuSans-54\"/>\r\n      </defs>\r\n      <use xlink:href=\"#DejaVuSans-102\"/>\r\n      <use x=\"35.205078\" xlink:href=\"#DejaVuSans-114\"/>\r\n      <use x=\"74.068359\" xlink:href=\"#DejaVuSans-111\"/>\r\n      <use x=\"135.25\" xlink:href=\"#DejaVuSans-103\"/>\r\n      <use x=\"198.726562\" xlink:href=\"#DejaVuSans-32\"/>\r\n      <use x=\"230.513672\" xlink:href=\"#DejaVuSans-40\"/>\r\n      <use x=\"269.527344\" xlink:href=\"#DejaVuSans-54\"/>\r\n      <use x=\"333.150391\" xlink:href=\"#DejaVuSans-41\"/>\r\n     </g>\r\n    </g>\r\n   </g>\r\n   <g id=\"matplotlib.axis_10\"/>\r\n   <g id=\"patch_23\">\r\n    <path d=\"M 193.318182 318.534545 \r\nL 193.318182 185.105455 \r\n\" style=\"fill:none;stroke:#000000;stroke-linecap:square;stroke-linejoin:miter;stroke-width:0.8;\"/>\r\n   </g>\r\n   <g id=\"patch_24\">\r\n    <path d=\"M 326.747273 318.534545 \r\nL 326.747273 185.105455 \r\n\" style=\"fill:none;stroke:#000000;stroke-linecap:square;stroke-linejoin:miter;stroke-width:0.8;\"/>\r\n   </g>\r\n   <g id=\"patch_25\">\r\n    <path d=\"M 193.318182 318.534545 \r\nL 326.747273 318.534545 \r\n\" style=\"fill:none;stroke:#000000;stroke-linecap:square;stroke-linejoin:miter;stroke-width:0.8;\"/>\r\n   </g>\r\n   <g id=\"patch_26\">\r\n    <path d=\"M 193.318182 185.105455 \r\nL 326.747273 185.105455 \r\n\" style=\"fill:none;stroke:#000000;stroke-linecap:square;stroke-linejoin:miter;stroke-width:0.8;\"/>\r\n   </g>\r\n  </g>\r\n  <g id=\"axes_6\">\r\n   <g id=\"patch_27\">\r\n    <path d=\"M 375.936364 318.534545 \r\nL 509.365455 318.534545 \r\nL 509.365455 185.105455 \r\nL 375.936364 185.105455 \r\nz\r\n\" style=\"fill:#ffffff;\"/>\r\n   </g>\r\n   <g clip-path=\"url(#p122372e194)\">\r\n    <image height=\"134\" id=\"image8558887f6b\" transform=\"scale(1 -1)translate(0 -134)\" width=\"134\" x=\"375.936364\" xlink:href=\"data:image/png;base64,\r\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\" y=\"-184.534545\"/>\r\n   </g>\r\n   <g id=\"matplotlib.axis_11\">\r\n    <g id=\"text_6\">\r\n     <!-- dog (5) -->\r\n     <g transform=\"translate(424.571222 330.132983)scale(0.1 -0.1)\">\r\n      <defs>\r\n       <path d=\"M 10.796875 72.90625 \r\nL 49.515625 72.90625 \r\nL 49.515625 64.59375 \r\nL 19.828125 64.59375 \r\nL 19.828125 46.734375 \r\nQ 21.96875 47.46875 24.109375 47.828125 \r\nQ 26.265625 48.1875 28.421875 48.1875 \r\nQ 40.625 48.1875 47.75 41.5 \r\nQ 54.890625 34.8125 54.890625 23.390625 \r\nQ 54.890625 11.625 47.5625 5.09375 \r\nQ 40.234375 -1.421875 26.90625 -1.421875 \r\nQ 22.3125 -1.421875 17.546875 -0.640625 \r\nQ 12.796875 0.140625 7.71875 1.703125 \r\nL 7.71875 11.625 \r\nQ 12.109375 9.234375 16.796875 8.0625 \r\nQ 21.484375 6.890625 26.703125 6.890625 \r\nQ 35.15625 6.890625 40.078125 11.328125 \r\nQ 45.015625 15.765625 45.015625 23.390625 \r\nQ 45.015625 31 40.078125 35.4375 \r\nQ 35.15625 39.890625 26.703125 39.890625 \r\nQ 22.75 39.890625 18.8125 39.015625 \r\nQ 14.890625 38.140625 10.796875 36.28125 \r\nz\r\n\" id=\"DejaVuSans-53\"/>\r\n      </defs>\r\n      <use xlink:href=\"#DejaVuSans-100\"/>\r\n      <use x=\"63.476562\" xlink:href=\"#DejaVuSans-111\"/>\r\n      <use x=\"124.658203\" xlink:href=\"#DejaVuSans-103\"/>\r\n      <use x=\"188.134766\" xlink:href=\"#DejaVuSans-32\"/>\r\n      <use x=\"219.921875\" xlink:href=\"#DejaVuSans-40\"/>\r\n      <use x=\"258.935547\" xlink:href=\"#DejaVuSans-53\"/>\r\n      <use x=\"322.558594\" xlink:href=\"#DejaVuSans-41\"/>\r\n     </g>\r\n    </g>\r\n   </g>\r\n   <g id=\"matplotlib.axis_12\"/>\r\n   <g id=\"patch_28\">\r\n    <path d=\"M 375.936364 318.534545 \r\nL 375.936364 185.105455 \r\n\" style=\"fill:none;stroke:#000000;stroke-linecap:square;stroke-linejoin:miter;stroke-width:0.8;\"/>\r\n   </g>\r\n   <g id=\"patch_29\">\r\n    <path d=\"M 509.365455 318.534545 \r\nL 509.365455 185.105455 \r\n\" style=\"fill:none;stroke:#000000;stroke-linecap:square;stroke-linejoin:miter;stroke-width:0.8;\"/>\r\n   </g>\r\n   <g id=\"patch_30\">\r\n    <path d=\"M 375.936364 318.534545 \r\nL 509.365455 318.534545 \r\n\" style=\"fill:none;stroke:#000000;stroke-linecap:square;stroke-linejoin:miter;stroke-width:0.8;\"/>\r\n   </g>\r\n   <g id=\"patch_31\">\r\n    <path d=\"M 375.936364 185.105455 \r\nL 509.365455 185.105455 \r\n\" style=\"fill:none;stroke:#000000;stroke-linecap:square;stroke-linejoin:miter;stroke-width:0.8;\"/>\r\n   </g>\r\n  </g>\r\n  <g id=\"axes_7\">\r\n   <g id=\"patch_32\">\r\n    <path d=\"M 10.7 496.44 \r\nL 144.129091 496.44 \r\nL 144.129091 363.010909 \r\nL 10.7 363.010909 \r\nz\r\n\" style=\"fill:#ffffff;\"/>\r\n   </g>\r\n   <g clip-path=\"url(#p080064cf6b)\">\r\n    <image height=\"134\" id=\"imagecf7d17ca58\" transform=\"scale(1 -1)translate(0 -134)\" width=\"134\" x=\"10.7\" xlink:href=\"data:image/png;base64,\r\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\" y=\"-362.44\"/>\r\n   </g>\r\n   <g id=\"matplotlib.axis_13\">\r\n    <g id=\"text_7\">\r\n     <!-- bird (2) -->\r\n     <g transform=\"translate(59.037202 508.038437)scale(0.1 -0.1)\">\r\n      <defs>\r\n       <path d=\"M 48.6875 27.296875 \r\nQ 48.6875 37.203125 44.609375 42.84375 \r\nQ 40.53125 48.484375 33.40625 48.484375 \r\nQ 26.265625 48.484375 22.1875 42.84375 \r\nQ 18.109375 37.203125 18.109375 27.296875 \r\nQ 18.109375 17.390625 22.1875 11.75 \r\nQ 26.265625 6.109375 33.40625 6.109375 \r\nQ 40.53125 6.109375 44.609375 11.75 \r\nQ 48.6875 17.390625 48.6875 27.296875 \r\nz\r\nM 18.109375 46.390625 \r\nQ 20.953125 51.265625 25.265625 53.625 \r\nQ 29.59375 56 35.59375 56 \r\nQ 45.5625 56 51.78125 48.09375 \r\nQ 58.015625 40.1875 58.015625 27.296875 \r\nQ 58.015625 14.40625 51.78125 6.484375 \r\nQ 45.5625 -1.421875 35.59375 -1.421875 \r\nQ 29.59375 -1.421875 25.265625 0.953125 \r\nQ 20.953125 3.328125 18.109375 8.203125 \r\nL 18.109375 0 \r\nL 9.078125 0 \r\nL 9.078125 75.984375 \r\nL 18.109375 75.984375 \r\nz\r\n\" id=\"DejaVuSans-98\"/>\r\n       <path d=\"M 19.1875 8.296875 \r\nL 53.609375 8.296875 \r\nL 53.609375 0 \r\nL 7.328125 0 \r\nL 7.328125 8.296875 \r\nQ 12.9375 14.109375 22.625 23.890625 \r\nQ 32.328125 33.6875 34.8125 36.53125 \r\nQ 39.546875 41.84375 41.421875 45.53125 \r\nQ 43.3125 49.21875 43.3125 52.78125 \r\nQ 43.3125 58.59375 39.234375 62.25 \r\nQ 35.15625 65.921875 28.609375 65.921875 \r\nQ 23.96875 65.921875 18.8125 64.3125 \r\nQ 13.671875 62.703125 7.8125 59.421875 \r\nL 7.8125 69.390625 \r\nQ 13.765625 71.78125 18.9375 73 \r\nQ 24.125 74.21875 28.421875 74.21875 \r\nQ 39.75 74.21875 46.484375 68.546875 \r\nQ 53.21875 62.890625 53.21875 53.421875 \r\nQ 53.21875 48.921875 51.53125 44.890625 \r\nQ 49.859375 40.875 45.40625 35.40625 \r\nQ 44.1875 33.984375 37.640625 27.21875 \r\nQ 31.109375 20.453125 19.1875 8.296875 \r\nz\r\n\" id=\"DejaVuSans-50\"/>\r\n      </defs>\r\n      <use xlink:href=\"#DejaVuSans-98\"/>\r\n      <use x=\"63.476562\" xlink:href=\"#DejaVuSans-105\"/>\r\n      <use x=\"91.259766\" xlink:href=\"#DejaVuSans-114\"/>\r\n      <use x=\"130.623047\" xlink:href=\"#DejaVuSans-100\"/>\r\n      <use x=\"194.099609\" xlink:href=\"#DejaVuSans-32\"/>\r\n      <use x=\"225.886719\" xlink:href=\"#DejaVuSans-40\"/>\r\n      <use x=\"264.900391\" xlink:href=\"#DejaVuSans-50\"/>\r\n      <use x=\"328.523438\" xlink:href=\"#DejaVuSans-41\"/>\r\n     </g>\r\n    </g>\r\n   </g>\r\n   <g id=\"matplotlib.axis_14\"/>\r\n   <g id=\"patch_33\">\r\n    <path d=\"M 10.7 496.44 \r\nL 10.7 363.010909 \r\n\" style=\"fill:none;stroke:#000000;stroke-linecap:square;stroke-linejoin:miter;stroke-width:0.8;\"/>\r\n   </g>\r\n   <g id=\"patch_34\">\r\n    <path d=\"M 144.129091 496.44 \r\nL 144.129091 363.010909 \r\n\" style=\"fill:none;stroke:#000000;stroke-linecap:square;stroke-linejoin:miter;stroke-width:0.8;\"/>\r\n   </g>\r\n   <g id=\"patch_35\">\r\n    <path d=\"M 10.7 496.44 \r\nL 144.129091 496.44 \r\n\" style=\"fill:none;stroke:#000000;stroke-linecap:square;stroke-linejoin:miter;stroke-width:0.8;\"/>\r\n   </g>\r\n   <g id=\"patch_36\">\r\n    <path d=\"M 10.7 363.010909 \r\nL 144.129091 363.010909 \r\n\" style=\"fill:none;stroke:#000000;stroke-linecap:square;stroke-linejoin:miter;stroke-width:0.8;\"/>\r\n   </g>\r\n  </g>\r\n  <g id=\"axes_8\">\r\n   <g id=\"patch_37\">\r\n    <path d=\"M 193.318182 496.44 \r\nL 326.747273 496.44 \r\nL 326.747273 363.010909 \r\nL 193.318182 363.010909 \r\nz\r\n\" style=\"fill:#ffffff;\"/>\r\n   </g>\r\n   <g clip-path=\"url(#pecd4677a74)\">\r\n    <image height=\"134\" id=\"image83399b7338\" transform=\"scale(1 -1)translate(0 -134)\" width=\"134\" x=\"193.318182\" xlink:href=\"data:image/png;base64,\r\niVBORw0KGgoAAAANSUhEUgAAAIYAAACGCAYAAAAYefKRAAAPlklEQVR4nO2d229cVxXG15lz5uaZsWfssZ2LEzuum9RxkhLn1rQooVfUFpUKiQeQqEBC4j/hBQlxU8UbVK0qIZ5ARCoFCk1aUZFbk7ShcRLHSWwnvsUzdubiuZzhIS/9vr0Suy2hRV2/t298ztlnxmvOXrPW2mt75878syUfY2Fu/uNSZpcKwiwuLIKuLJVAr6ysgK7X6/j3Wg3HKBadMVYiIeidO3aCPrTvEdDdnXnQ0WjMuWbg+6AjkQhpD09g6dELyjW0Yz7J8fz3OwSofNT6Ofem1YJ/uwQBXfMTX9H4UmCGYaiYYRgqQX0F5/+l28ugi8VbzkmzC3N4zjz6CNVSGXQjbIIuLC+Bvnz1ujNGKcT7unTxEujm7Qrog/v2g8515pxrptNp0LEY+iE+zd2M5j/45Les5mPw3M7H899FRCIejtEU/Dz5Gqvdw1qOsSeGoWKGYaiYYRgqQTrdDi+k0ynQpbIbYwh8jDGUq3hMhXyIVhTnyIUixkoqFfQXRETi7W33PObUqVOge7o6Ud/udq7Z0dEBOpdDPySZxPceBFHQWryAfYLVYgqrHa/5GEIxHSYM8e9ri43cG3tiGCpmGIaKGYahYoZhqAT5devwhTg6Lp1JNxnVqmAQbOb8B6BrixgUi2XQkfQqt0Fz7krEdfz4kNnZGdA3Z6bxmorDVi7jfZdIZ9JZ0PF4EjQHxEREEokEnRMHzQGw1bT7TkVCD5OOqwXi1uJsrnaMPTEMFTMMQ8UMw1AJfJojZ2dnQV8/e845aekKJrTa5xZAty3i3B1QoU6YwmTWYhWTbiLuHNjViQEsqeC822zgGH7g2ny9gecUi1hwVKVrRiLo53Axi4jrY6RSGCRLJtFPYR+E3yf/XUQkFsVrNBpN0g3QHCTjexBxg2Ds69gTw1AxwzBUzDAMlWBu+ga8cPK9f4Ee/8D1MbI1TGjFG+QPrNtIo+Ccl2jinLjSi3EOEZGlFCb3ggzpNBYc53Pog+SybhJNyGdo1fEaNSpSXqFiIS3BVSwU6BU8xolrkJ/SJP+goBRGd/euB93fPwA6247JQaH7ZB9ERCtSMh/DWANmGIaKGYahEtSKlLdo4O/bsM2d/yWG86RfpcKdDBW8RHCOK1+4AHpoYMAZ4goVzVykWEk+hfcwexNzJTMLWCwkIrJhYCvo9gReoz2Fv/dLZVxIdbuEn5WISBjifF6pov+VTLgxhI8zPY33ffTYMeeY3k2bQB8+fBj0oYOPgU4l8X9WJ19KIxqloqRVzzC+lJhhGCpmGIZK0N6RhRdiVINQXMZ5VsStx8hV8ff+spP7wPiAV8VrpuruGOUyLYwmX6hSpQLjOOopxcf46MplHDeN73XX8HbQUQ99kJAWTt15DX2MlZUqaM+7d/3FxNWroGcoVyUiUqO8xokTJ0BvHXwA9BDpmI/+g4gT6nAXeDtnGIaYYRh3wQzDUDHDMFSC3vUb4IWtw8Og3zj6N+ekWgFXkjWK6DwmsrjCqx6iMxqtoWOZabhOXW8Dg2ZLywXQeQ+LfbI1dIAXltxk1PT0JOiQAnUNcrQzHZiYiyqFOktL6OTyivrtI+jQxqjTz9QNLGoWz/2uFihRd/r0adCPf/UQ6AN794Gu15XVbVR0zEk1e2IYKmYYhooZhqESBJQk2/LAg6CjcTcJxDNWnVaiRyIYxImlcW5O0t+9uYIzxlA3LoTK9/SCblTQT/GmscvPUNT1B3qzWNCyTGuSLl64CLoWw0JfrQvNrVu4uCqdzoAeHMLEHfsUE9ewm1DEd7+rURqWx5xfwAQjB918ZXGRTwu6rFDHWBNmGIaKGYahoqyOpQ4vHi+6dTvodmZwXi1XKWnWwDmPu/YWF9yYQ62EfkuVrhFSnCOX7wLdnnALjPJRLMytRFBPFHHMGwW8r452LEgWEcl1YdExL7Z+9fXXQd+8eRN0iToc9vT2OGNQLbVTVLO8jEnN8fFx0Nu2YWxKRKTZxIs6nX6cMwxDzDCMu2CGYag4PkbInWuVRTY+xdlTSWoeEqAPUW5iDqJCC2CaTmREpFDA3+ZVyoV05zHOEUnhmHUPC2ZERIIWd9in3+4cpuCdAiKuv+VR3CFC+RSOU9RoZwY/wGvy539nXByDuw12kj5z9gyOWXdzUSMjO3AM7vTnnGEYYoZh3AUzDEPF8THiMbSVASVXElJzsBwt/vFaOG9WGzj/r1CMoVpzG6lFSvhbvRzBeTJODUtaNI2Gbv2rNKM4Ds/mtykeUKmjLxRX8hjsE/jkp2SoMd1KjPwaylHU6q5vlBD8/Hp6MHZy4wYuWjp99n3QP/yRuxPDcGQEtCfmYxhrwAzDUDHDMFQC/oWbyeJi4kd37RTmap2ar7WoNoLqAdpb6A800zjXh3WlWSvNvVMrBRyD5vIgRD8n2lD8Fg9fC+J4zvpuzFMUlzFXEtV8DOr836BGdD45HTEa05nblTG48ckk5Vu44ct6yrf092Eti4iINCmfFbFFzcYaMMMwVMwwDBUzDEMlaFGYx6duLAdfeM45afPgAOipy9gpeO76BOgqJcSatNrdE6XjCzlpjQbqEjlcXd3oNHtlN3EUVNAxjOTQwX3+2WdBj9RxjPFL+D5F3MKbIEZOHBUlX7qMK+4XF7E7cVTZWSAR4HtbWMKV/40WOsC7h7aBHnv7Xeea3jxeY/teXLRkTwxDxQzDUDHDMFQCDrCEVBTSsRk7xomI5NZtBv3gfpyv5iZw4c7FU9ht+PyJd0CXaLtNEZEqdYHxqPttfREXE8c2YmLJm3eLahqzuFCHC4SeeeZp0B2Dg6DPf/ihc80zZ7AoZus2nN/zlPB67bXXQF8YGwN98vhJZ4yQkowedQ+6PjEB+iy6RhKMYZdEEZHiOC7wfnB4N2h7YhgqZhiGihmGoRJw/WuLbKWu7HAYoYYj8TwmbTZ1ZvGEOPoL58Zwrl6hLb9FROoxXMQUUKFOjBbMVKjAaIJiJyIijXn0ZTKUsJqk7sKbdj0Mev8+bEgiIjK6G+fmGO02wAuKnnriSdDJOCYYz5zEpigiIk3amanFjWeoUHpdGxb2dHH1kIgsTV0DXZjDXSjsiWGomGEYKmYYhorjY/gh/f6PuLF7zq/UaSegGM1p00Us7CkIzsP5h0adMUq0c2BtHhfuyAzOieMf/Bv0ZW56JiLlecxLbCA/5QzFEEYPPwE66uyqLBKnBdphE2MOvAPS5HV8H8fefht0o+nuRlRvYYFwjgqQd9DuDcN9GDtJN/H/IyIyc5vu69oV0PbEMFTMMAwVMwxDxXEg/BZ5HU33N3AYoUJb0i3Kt7SoYUl6XR/onXsOOGNUae7+8x+wAUmSilcTyzgPRyruvMr1wakA76st4F2UyadQ+qiGTYyv1KkYmHcKeOXVV0HPUj1HB+1iLSLiU3e2oTTmjbbQjlI5qmVJeq6fmKSmMcl2HNeeGIaKGYahYoZhqJhhGCpOgMvxsLQkGh3S4oNaaG/9W7Dg5cPzWDgSb3Mdrt58FnSSusLE4phk6/LRWUXX6g43Yxg020KBoRFKkoX0vQkU77PewITWW/94C/RvfvsK6EtTGODqoO5D7TV3jMEuTFKOjmC34XgNE3W1JdSxHO4wISKy7+uPgx7aYYU6xhowwzBUzDAMFSfywQkyxcVwXvWo+x0tAJcs7XiUTqAH8O6bf3RG6OxAfyBewgRYJoXXiLcw4LUpg0EgEZGuDfg92LJnL+jhvah5tyEOZomI/OXvmAT7+cu/Bn3l8gSeQF2T6w30BzZuxEJrEZEDD2GB8Z5RTDpOXscE2OQFLDDetR8XE4mI7HoKF1cFSQtwGWvADMNQMcMwVJTdBz473MmedxsY3b0L9K3x951rFKjQZkMe58CMhz5Ek4qHfYpziIiksnnQDz3yCOgYdQLkr82bf0V/QkTkxz/5BehrVECUpp2EchX0U7ZtxBjF7q9gjEJEZPd+LEqO0U4Mi7PY+WfbISww2vPi8841hXa2Csm3tCeGoWKGYaiYYRgqXoscAu4Qp+0cuBrsY7D2WjjGrSn8HS4iMj2Bu/REQzyHC1qCdvQfYkl3N6JoAmMjfgceE6GCmCNHjoD+6c9edq45OY2LmJLUCThWxsVU+1JZ0Ouz6IOMPoN+j4hIz7qNoMeOfwS6u28I9Ne+/z3QiR78bEREmhSTiQXWtc9YA2YYhooZhqFyX3yM1eB6Y6XGVoSar7UoARMJuIs/7V6kXLRO760U4jx77BjWUrz8q1+CvjnjLpRub8N4SoUWGPUl8L72d2Lcwg+x6UzfKO6ULSJS8jC+0pHBazz9re+AzjyA9S9V5cMIyO+L08Iye2IYKmYYhooZhqFihmGo3Jck2mqwKxQqDm6UVq81qThohUyanSlM291hcmoK9LET74E+8icsGFpYRGezI+OWGLeWsBPgRvpEd3bj1uLpKN54rYrva2pswhmjb/dB0I+98E3QmQEMgDUoGBiIu0qftwXnf4o9MQwVMwxDxQzDUPlcfAyPdzzgvTFFxOM5jwpzI05BMvkgJQwciYgcffMN0K///negm7QdVGcUE0tB6K6gb6NPsJ8Sdf20tXiWOgWPXcNi4L5+TIiJiBx+7kXQvUMYBKtRByPuWOArwT6PdwbjRkruKYZhhmHcBTMMQ+Xz8TE4i6bYp3MIEeU5ktrlHD/qFu5eeOco6C1UnBJvwzhFtg2TV/Vl3JlJRMSjrUUz5C/FaPemGnU4TlHC67GXXnLG6B3eDrpFCS+OUkQoLqQlKWndufCunvbEMFTMMAwVMwxD5XPxMVxWbd/iwHGNagXjAedOuDsFJaiL/2AnFtksLxVA5wIco6zcVY0Lm+icmWW8r2gauws++YPvgt68AxcXiYiELfQiuHjq03y7nXdC/wJ7YhgqZhiGihmGofIF8TE+ObyIKRbHnES+s9M5Z5YaqSVoV+UKfU24OVtc6drbqHGBMd5XKouFu0+8+G3Qw3seBd0UvCcREc/7339/7YlhqJhhGCpmGIbK/5GPce+F0gHVTvRTDkJE5BynT2jHIj+JXfzr1Jw1kcC/i4hE6buVaMNjDjz/DdAPH34KdMvH/Az7NSIiPkcd6L3LfVgUZk8MQ8UMw1AxwzBUzDAMFcf55ATN/Vjt/ulY5T6oWmX94IBzyKaRHaDbydncnMYOO20Z7PyXybidAD3a5iudw8DaIG0D7iWxWLjlkQOsfN4RZ0eI1VKMnx17YhgqZhiGihmGoeI1Gthmlru5fVFxZtkIzs2NUpGPkMUb2LU3GkUfI0rzfyyOQTM/qiS4IlxFSz6azz4bl+6y1nypVVYg/xfwKdhnTwxDxQzDUDHDMFT+A/x7bTW8TAkTAAAAAElFTkSuQmCC\" y=\"-362.44\"/>\r\n   </g>\r\n   <g id=\"matplotlib.axis_15\">\r\n    <g id=\"text_8\">\r\n     <!-- truck (9) -->\r\n     <g transform=\"translate(238.531946 508.038437)scale(0.1 -0.1)\">\r\n      <defs>\r\n       <path d=\"M 18.3125 70.21875 \r\nL 18.3125 54.6875 \r\nL 36.8125 54.6875 \r\nL 36.8125 47.703125 \r\nL 18.3125 47.703125 \r\nL 18.3125 18.015625 \r\nQ 18.3125 11.328125 20.140625 9.421875 \r\nQ 21.96875 7.515625 27.59375 7.515625 \r\nL 36.8125 7.515625 \r\nL 36.8125 0 \r\nL 27.59375 0 \r\nQ 17.1875 0 13.234375 3.875 \r\nQ 9.28125 7.765625 9.28125 18.015625 \r\nL 9.28125 47.703125 \r\nL 2.6875 47.703125 \r\nL 2.6875 54.6875 \r\nL 9.28125 54.6875 \r\nL 9.28125 70.21875 \r\nz\r\n\" id=\"DejaVuSans-116\"/>\r\n       <path d=\"M 8.5 21.578125 \r\nL 8.5 54.6875 \r\nL 17.484375 54.6875 \r\nL 17.484375 21.921875 \r\nQ 17.484375 14.15625 20.5 10.265625 \r\nQ 23.53125 6.390625 29.59375 6.390625 \r\nQ 36.859375 6.390625 41.078125 11.03125 \r\nQ 45.3125 15.671875 45.3125 23.6875 \r\nL 45.3125 54.6875 \r\nL 54.296875 54.6875 \r\nL 54.296875 0 \r\nL 45.3125 0 \r\nL 45.3125 8.40625 \r\nQ 42.046875 3.421875 37.71875 1 \r\nQ 33.40625 -1.421875 27.6875 -1.421875 \r\nQ 18.265625 -1.421875 13.375 4.4375 \r\nQ 8.5 10.296875 8.5 21.578125 \r\nz\r\nM 31.109375 56 \r\nz\r\n\" id=\"DejaVuSans-117\"/>\r\n       <path d=\"M 48.78125 52.59375 \r\nL 48.78125 44.1875 \r\nQ 44.96875 46.296875 41.140625 47.34375 \r\nQ 37.3125 48.390625 33.40625 48.390625 \r\nQ 24.65625 48.390625 19.8125 42.84375 \r\nQ 14.984375 37.3125 14.984375 27.296875 \r\nQ 14.984375 17.28125 19.8125 11.734375 \r\nQ 24.65625 6.203125 33.40625 6.203125 \r\nQ 37.3125 6.203125 41.140625 7.25 \r\nQ 44.96875 8.296875 48.78125 10.40625 \r\nL 48.78125 2.09375 \r\nQ 45.015625 0.34375 40.984375 -0.53125 \r\nQ 36.96875 -1.421875 32.421875 -1.421875 \r\nQ 20.0625 -1.421875 12.78125 6.34375 \r\nQ 5.515625 14.109375 5.515625 27.296875 \r\nQ 5.515625 40.671875 12.859375 48.328125 \r\nQ 20.21875 56 33.015625 56 \r\nQ 37.15625 56 41.109375 55.140625 \r\nQ 45.0625 54.296875 48.78125 52.59375 \r\nz\r\n\" id=\"DejaVuSans-99\"/>\r\n       <path d=\"M 9.078125 75.984375 \r\nL 18.109375 75.984375 \r\nL 18.109375 31.109375 \r\nL 44.921875 54.6875 \r\nL 56.390625 54.6875 \r\nL 27.390625 29.109375 \r\nL 57.625 0 \r\nL 45.90625 0 \r\nL 18.109375 26.703125 \r\nL 18.109375 0 \r\nL 9.078125 0 \r\nz\r\n\" id=\"DejaVuSans-107\"/>\r\n       <path d=\"M 10.984375 1.515625 \r\nL 10.984375 10.5 \r\nQ 14.703125 8.734375 18.5 7.8125 \r\nQ 22.3125 6.890625 25.984375 6.890625 \r\nQ 35.75 6.890625 40.890625 13.453125 \r\nQ 46.046875 20.015625 46.78125 33.40625 \r\nQ 43.953125 29.203125 39.59375 26.953125 \r\nQ 35.25 24.703125 29.984375 24.703125 \r\nQ 19.046875 24.703125 12.671875 31.3125 \r\nQ 6.296875 37.9375 6.296875 49.421875 \r\nQ 6.296875 60.640625 12.9375 67.421875 \r\nQ 19.578125 74.21875 30.609375 74.21875 \r\nQ 43.265625 74.21875 49.921875 64.515625 \r\nQ 56.59375 54.828125 56.59375 36.375 \r\nQ 56.59375 19.140625 48.40625 8.859375 \r\nQ 40.234375 -1.421875 26.421875 -1.421875 \r\nQ 22.703125 -1.421875 18.890625 -0.6875 \r\nQ 15.09375 0.046875 10.984375 1.515625 \r\nz\r\nM 30.609375 32.421875 \r\nQ 37.25 32.421875 41.125 36.953125 \r\nQ 45.015625 41.5 45.015625 49.421875 \r\nQ 45.015625 57.28125 41.125 61.84375 \r\nQ 37.25 66.40625 30.609375 66.40625 \r\nQ 23.96875 66.40625 20.09375 61.84375 \r\nQ 16.21875 57.28125 16.21875 49.421875 \r\nQ 16.21875 41.5 20.09375 36.953125 \r\nQ 23.96875 32.421875 30.609375 32.421875 \r\nz\r\n\" id=\"DejaVuSans-57\"/>\r\n      </defs>\r\n      <use xlink:href=\"#DejaVuSans-116\"/>\r\n      <use x=\"39.208984\" xlink:href=\"#DejaVuSans-114\"/>\r\n      <use x=\"80.322266\" xlink:href=\"#DejaVuSans-117\"/>\r\n      <use x=\"143.701172\" xlink:href=\"#DejaVuSans-99\"/>\r\n      <use x=\"198.681641\" xlink:href=\"#DejaVuSans-107\"/>\r\n      <use x=\"256.591797\" xlink:href=\"#DejaVuSans-32\"/>\r\n      <use x=\"288.378906\" xlink:href=\"#DejaVuSans-40\"/>\r\n      <use x=\"327.392578\" xlink:href=\"#DejaVuSans-57\"/>\r\n      <use x=\"391.015625\" xlink:href=\"#DejaVuSans-41\"/>\r\n     </g>\r\n    </g>\r\n   </g>\r\n   <g id=\"matplotlib.axis_16\"/>\r\n   <g id=\"patch_38\">\r\n    <path d=\"M 193.318182 496.44 \r\nL 193.318182 363.010909 \r\n\" style=\"fill:none;stroke:#000000;stroke-linecap:square;stroke-linejoin:miter;stroke-width:0.8;\"/>\r\n   </g>\r\n   <g id=\"patch_39\">\r\n    <path d=\"M 326.747273 496.44 \r\nL 326.747273 363.010909 \r\n\" style=\"fill:none;stroke:#000000;stroke-linecap:square;stroke-linejoin:miter;stroke-width:0.8;\"/>\r\n   </g>\r\n   <g id=\"patch_40\">\r\n    <path d=\"M 193.318182 496.44 \r\nL 326.747273 496.44 \r\n\" style=\"fill:none;stroke:#000000;stroke-linecap:square;stroke-linejoin:miter;stroke-width:0.8;\"/>\r\n   </g>\r\n   <g id=\"patch_41\">\r\n    <path d=\"M 193.318182 363.010909 \r\nL 326.747273 363.010909 \r\n\" style=\"fill:none;stroke:#000000;stroke-linecap:square;stroke-linejoin:miter;stroke-width:0.8;\"/>\r\n   </g>\r\n  </g>\r\n  <g id=\"axes_9\">\r\n   <g id=\"patch_42\">\r\n    <path d=\"M 375.936364 496.44 \r\nL 509.365455 496.44 \r\nL 509.365455 363.010909 \r\nL 375.936364 363.010909 \r\nz\r\n\" style=\"fill:#ffffff;\"/>\r\n   </g>\r\n   <g clip-path=\"url(#pd3543ad69f)\">\r\n    <image height=\"134\" id=\"image3a67d48f20\" transform=\"scale(1 -1)translate(0 -134)\" width=\"134\" x=\"375.936364\" xlink:href=\"data:image/png;base64,\r\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\" y=\"-362.44\"/>\r\n   </g>\r\n   <g id=\"matplotlib.axis_17\">\r\n    <g id=\"text_9\">\r\n     <!-- frog (6) -->\r\n     <g transform=\"translate(424.042315 508.038437)scale(0.1 -0.1)\">\r\n      <use xlink:href=\"#DejaVuSans-102\"/>\r\n      <use x=\"35.205078\" xlink:href=\"#DejaVuSans-114\"/>\r\n      <use x=\"74.068359\" xlink:href=\"#DejaVuSans-111\"/>\r\n      <use x=\"135.25\" xlink:href=\"#DejaVuSans-103\"/>\r\n      <use x=\"198.726562\" xlink:href=\"#DejaVuSans-32\"/>\r\n      <use x=\"230.513672\" xlink:href=\"#DejaVuSans-40\"/>\r\n      <use x=\"269.527344\" xlink:href=\"#DejaVuSans-54\"/>\r\n      <use x=\"333.150391\" xlink:href=\"#DejaVuSans-41\"/>\r\n     </g>\r\n    </g>\r\n   </g>\r\n   <g id=\"matplotlib.axis_18\"/>\r\n   <g id=\"patch_43\">\r\n    <path d=\"M 375.936364 496.44 \r\nL 375.936364 363.010909 \r\n\" style=\"fill:none;stroke:#000000;stroke-linecap:square;stroke-linejoin:miter;stroke-width:0.8;\"/>\r\n   </g>\r\n   <g id=\"patch_44\">\r\n    <path d=\"M 509.365455 496.44 \r\nL 509.365455 363.010909 \r\n\" style=\"fill:none;stroke:#000000;stroke-linecap:square;stroke-linejoin:miter;stroke-width:0.8;\"/>\r\n   </g>\r\n   <g id=\"patch_45\">\r\n    <path d=\"M 375.936364 496.44 \r\nL 509.365455 496.44 \r\n\" style=\"fill:none;stroke:#000000;stroke-linecap:square;stroke-linejoin:miter;stroke-width:0.8;\"/>\r\n   </g>\r\n   <g id=\"patch_46\">\r\n    <path d=\"M 375.936364 363.010909 \r\nL 509.365455 363.010909 \r\n\" style=\"fill:none;stroke:#000000;stroke-linecap:square;stroke-linejoin:miter;stroke-width:0.8;\"/>\r\n   </g>\r\n  </g>\r\n </g>\r\n <defs>\r\n  <clipPath id=\"p31b7197f34\">\r\n   <rect height=\"133.429091\" width=\"133.429091\" x=\"10.7\" y=\"7.2\"/>\r\n  </clipPath>\r\n  <clipPath id=\"p6cc7f2a0b2\">\r\n   <rect height=\"133.429091\" width=\"133.429091\" x=\"193.318182\" y=\"7.2\"/>\r\n  </clipPath>\r\n  <clipPath id=\"pc7ddc8aa11\">\r\n   <rect height=\"133.429091\" width=\"133.429091\" x=\"375.936364\" y=\"7.2\"/>\r\n  </clipPath>\r\n  <clipPath id=\"pcd028b4370\">\r\n   <rect height=\"133.429091\" width=\"133.429091\" x=\"10.7\" y=\"185.105455\"/>\r\n  </clipPath>\r\n  <clipPath id=\"p158ebdff42\">\r\n   <rect height=\"133.429091\" width=\"133.429091\" x=\"193.318182\" y=\"185.105455\"/>\r\n  </clipPath>\r\n  <clipPath id=\"p122372e194\">\r\n   <rect height=\"133.429091\" width=\"133.429091\" x=\"375.936364\" y=\"185.105455\"/>\r\n  </clipPath>\r\n  <clipPath id=\"p080064cf6b\">\r\n   <rect height=\"133.429091\" width=\"133.429091\" x=\"10.7\" y=\"363.010909\"/>\r\n  </clipPath>\r\n  <clipPath id=\"pecd4677a74\">\r\n   <rect height=\"133.429091\" width=\"133.429091\" x=\"193.318182\" y=\"363.010909\"/>\r\n  </clipPath>\r\n  <clipPath id=\"pd3543ad69f\">\r\n   <rect height=\"133.429091\" width=\"133.429091\" x=\"375.936364\" y=\"363.010909\"/>\r\n  </clipPath>\r\n </defs>\r\n</svg>\r\n",
            "image/png": "[encoded data removed]"
          },
          "metadata": {}
        }
      ]
    },
    {
      "cell_type": "code",
      "metadata": {
        "id": "FwEsekqLFoJO",
        "outputId": "0db1e375-378b-42c4-98cf-5ca122297a9a",
        "colab": {
          "base_uri": "https://localhost:8080/"
        }
      },
      "source": [
        "ds"
      ],
      "execution_count": 9,
      "outputs": [
        {
          "output_type": "execute_result",
          "data": {
            "text/plain": [
              "<PrefetchDataset shapes: {id: (), image: (32, 32, 3), label: ()}, types: {id: tf.string, image: tf.uint8, label: tf.int64}>"
            ]
          },
          "metadata": {},
          "execution_count": 9
        }
      ]
    },
    {
      "cell_type": "markdown",
      "metadata": {
        "id": "HB4tl71n5NRo"
      },
      "source": [
        "## Model Definition"
      ]
    },
    {
      "cell_type": "code",
      "metadata": {
        "id": "OGrAd2LbriPX"
      },
      "source": [
        "from keras.models import Sequential\n",
        "model = Sequential()"
      ],
      "execution_count": 10,
      "outputs": []
    },
    {
      "cell_type": "code",
      "metadata": {
        "id": "J4pdQYierpzz"
      },
      "source": [
        "from keras.layers import Conv2D, MaxPool2D, Flatten, Dense"
      ],
      "execution_count": 11,
      "outputs": []
    },
    {
      "cell_type": "code",
      "metadata": {
        "id": "CkduO2Qwrxpq"
      },
      "source": [
        "model.add(Conv2D(filters=32, \n",
        "                kernel_size=(3, 3),\n",
        "                activation='relu',\n",
        "                input_shape=(32, 32, 3)))"
      ],
      "execution_count": 12,
      "outputs": []
    },
    {
      "cell_type": "code",
      "metadata": {
        "id": "C0QJU8DqsR0i"
      },
      "source": [
        "model.add(MaxPool2D())"
      ],
      "execution_count": 13,
      "outputs": []
    },
    {
      "cell_type": "code",
      "metadata": {
        "id": "STmwgb-asj4Q"
      },
      "source": [
        "model.add(Conv2D(filters=64,\n",
        "                kernel_size=(3, 3),\n",
        "                activation='relu'))\n",
        "model.add(MaxPool2D())"
      ],
      "execution_count": 14,
      "outputs": []
    },
    {
      "cell_type": "code",
      "metadata": {
        "id": "6Wshm4jttByn"
      },
      "source": [
        "model.add(Flatten())\n",
        "model.add(Dense(10, activation='softmax'))"
      ],
      "execution_count": 15,
      "outputs": []
    },
    {
      "cell_type": "code",
      "metadata": {
        "id": "30lPhgq2tSGh"
      },
      "source": [
        "model.compile(optimizer='adam',\n",
        "             loss='categorical_crossentropy',\n",
        "             metrics=['accuracy'])"
      ],
      "execution_count": 16,
      "outputs": []
    },
    {
      "cell_type": "code",
      "metadata": {
        "id": "ENUF_8Z_2PWS",
        "outputId": "b1781eba-e0af-4b2c-9fdd-443fc4189c3e",
        "colab": {
          "base_uri": "https://localhost:8080/"
        }
      },
      "source": [
        "print(model.summary())"
      ],
      "execution_count": 17,
      "outputs": [
        {
          "output_type": "stream",
          "name": "stdout",
          "text": [
            "Model: \"sequential\"\n_________________________________________________________________\nLayer (type)                 Output Shape              Param #   \n=================================================================\nconv2d (Conv2D)              (None, 30, 30, 32)        896       \n_________________________________________________________________\nmax_pooling2d (MaxPooling2D) (None, 15, 15, 32)        0         \n_________________________________________________________________\nconv2d_1 (Conv2D)            (None, 13, 13, 64)        18496     \n_________________________________________________________________\nmax_pooling2d_1 (MaxPooling2 (None, 6, 6, 64)          0         \n_________________________________________________________________\nflatten (Flatten)            (None, 2304)              0         \n_________________________________________________________________\ndense (Dense)                (None, 10)                23050     \n=================================================================\nTotal params: 42,442\nTrainable params: 42,442\nNon-trainable params: 0\n_________________________________________________________________\nNone\n"
          ]
        }
      ]
    },
    {
      "cell_type": "markdown",
      "metadata": {
        "id": "6xnTf9mfyxqh"
      },
      "source": [
        "## Fitting"
      ]
    },
    {
      "cell_type": "code",
      "metadata": {
        "id": "POFObjd0td4x",
        "outputId": "afa73433-427a-4573-b6b7-a21cb8e0d19a",
        "colab": {
          "base_uri": "https://localhost:8080/"
        }
      },
      "source": [
        "history = model.fit(x_train, y_train, batch_size=50, epochs=15, verbose=1)"
      ],
      "execution_count": 18,
      "outputs": [
        {
          "output_type": "stream",
          "name": "stdout",
          "text": [
            "Epoch 1/15\n",
            "1000/1000 [==============================] - 28s 28ms/step - loss: 1.5139 - accuracy: 0.4548\n",
            "Epoch 2/15\n",
            "1000/1000 [==============================] - 27s 27ms/step - loss: 1.1974 - accuracy: 0.5800\n",
            "Epoch 3/15\n",
            "1000/1000 [==============================] - 27s 27ms/step - loss: 1.0697 - accuracy: 0.6278\n",
            "Epoch 4/15\n",
            "1000/1000 [==============================] - 28s 28ms/step - loss: 0.9857 - accuracy: 0.6592\n",
            "Epoch 5/15\n",
            "1000/1000 [==============================] - 27s 27ms/step - loss: 0.9263 - accuracy: 0.6793\n",
            "Epoch 6/15\n",
            "1000/1000 [==============================] - 27s 27ms/step - loss: 0.8849 - accuracy: 0.6964\n",
            "Epoch 7/15\n",
            "1000/1000 [==============================] - 28s 28ms/step - loss: 0.8351 - accuracy: 0.7134\n",
            "Epoch 8/15\n",
            "1000/1000 [==============================] - 29s 29ms/step - loss: 0.7999 - accuracy: 0.7245\n",
            "Epoch 9/15\n",
            "1000/1000 [==============================] - 28s 28ms/step - loss: 0.7698 - accuracy: 0.7344\n",
            "Epoch 10/15\n",
            "1000/1000 [==============================] - 28s 28ms/step - loss: 0.7420 - accuracy: 0.7460\n",
            "Epoch 11/15\n",
            "1000/1000 [==============================] - 27s 27ms/step - loss: 0.7189 - accuracy: 0.7533\n",
            "Epoch 12/15\n",
            "1000/1000 [==============================] - 29s 29ms/step - loss: 0.6889 - accuracy: 0.7633\n",
            "Epoch 13/15\n",
            "1000/1000 [==============================] - 31s 31ms/step - loss: 0.6723 - accuracy: 0.7686\n",
            "Epoch 14/15\n",
            "1000/1000 [==============================] - 28s 28ms/step - loss: 0.6490 - accuracy: 0.7776\n",
            "Epoch 15/15\n",
            "1000/1000 [==============================] - 27s 27ms/step - loss: 0.6337 - accuracy: 0.7805\n"
          ]
        }
      ]
    },
    {
      "cell_type": "code",
      "metadata": {
        "id": "D6esbeHWT70i",
        "outputId": "0f010ccd-c7bd-4556-bf1b-4340d6f1d7ae",
        "colab": {
          "base_uri": "https://localhost:8080/",
          "height": 295
        }
      },
      "source": [
        "import matplotlib.pyplot as plt\n",
        "\n",
        "history_dict = history.history\n",
        "loss_values = history_dict['loss']\n",
        "#val_loss_values = history_dict['val_loss']\n",
        "\n",
        "epochs = range(1, len(history_dict['accuracy']) + 1)\n",
        "\n",
        "plt.plot(epochs, loss_values, 'bo', label='Training loss')\n",
        "#plt.plot(epochs, val_loss_values, 'b', label='Validation loss')\n",
        "plt.title('Training and validation loss')\n",
        "plt.xlabel('Epochs')\n",
        "plt.ylabel('Loss')\n",
        "plt.legend()\n",
        "\n",
        "plt.show()"
      ],
      "execution_count": 19,
      "outputs": [
        {
          "output_type": "display_data",
          "data": {
            "text/plain": "<Figure size 432x288 with 1 Axes>",
            "image/svg+xml": "<?xml version=\"1.0\" encoding=\"utf-8\" standalone=\"no\"?>\r\n<!DOCTYPE svg PUBLIC \"-//W3C//DTD SVG 1.1//EN\"\r\n  \"http://www.w3.org/Graphics/SVG/1.1/DTD/svg11.dtd\">\r\n<!-- Created with matplotlib (https://matplotlib.org/) -->\r\n<svg height=\"277.314375pt\" version=\"1.1\" viewBox=\"0 0 385.78125 277.314375\" width=\"385.78125pt\" xmlns=\"http://www.w3.org/2000/svg\" xmlns:xlink=\"http://www.w3.org/1999/xlink\">\r\n <metadata>\r\n  <rdf:RDF xmlns:cc=\"http://creativecommons.org/ns#\" xmlns:dc=\"http://purl.org/dc/elements/1.1/\" xmlns:rdf=\"http://www.w3.org/1999/02/22-rdf-syntax-ns#\">\r\n   <cc:Work>\r\n    <dc:type rdf:resource=\"http://purl.org/dc/dcmitype/StillImage\"/>\r\n    <dc:date>2020-11-10T13:30:44.723834</dc:date>\r\n    <dc:format>image/svg+xml</dc:format>\r\n    <dc:creator>\r\n     <cc:Agent>\r\n      <dc:title>Matplotlib v3.3.1, https://matplotlib.org/</dc:title>\r\n     </cc:Agent>\r\n    </dc:creator>\r\n   </cc:Work>\r\n  </rdf:RDF>\r\n </metadata>\r\n <defs>\r\n  <style type=\"text/css\">*{stroke-linecap:butt;stroke-linejoin:round;}</style>\r\n </defs>\r\n <g id=\"figure_1\">\r\n  <g id=\"patch_1\">\r\n   <path d=\"M 0 277.314375 \r\nL 385.78125 277.314375 \r\nL 385.78125 0 \r\nL 0 0 \r\nz\r\n\" style=\"fill:none;\"/>\r\n  </g>\r\n  <g id=\"axes_1\">\r\n   <g id=\"patch_2\">\r\n    <path d=\"M 43.78125 239.758125 \r\nL 378.58125 239.758125 \r\nL 378.58125 22.318125 \r\nL 43.78125 22.318125 \r\nz\r\n\" style=\"fill:#ffffff;\"/>\r\n   </g>\r\n   <g id=\"matplotlib.axis_1\">\r\n    <g id=\"xtick_1\">\r\n     <g id=\"line2d_1\">\r\n      <defs>\r\n       <path d=\"M 0 0 \r\nL 0 3.5 \r\n\" id=\"me338e18d1b\" style=\"stroke:#000000;stroke-width:0.8;\"/>\r\n      </defs>\r\n      <g>\r\n       <use style=\"stroke:#000000;stroke-width:0.8;\" x=\"80.739692\" xlink:href=\"#me338e18d1b\" y=\"239.758125\"/>\r\n      </g>\r\n     </g>\r\n     <g id=\"text_1\">\r\n      <!-- 2 -->\r\n      <g transform=\"translate(77.558442 254.356562)scale(0.1 -0.1)\">\r\n       <defs>\r\n        <path d=\"M 19.1875 8.296875 \r\nL 53.609375 8.296875 \r\nL 53.609375 0 \r\nL 7.328125 0 \r\nL 7.328125 8.296875 \r\nQ 12.9375 14.109375 22.625 23.890625 \r\nQ 32.328125 33.6875 34.8125 36.53125 \r\nQ 39.546875 41.84375 41.421875 45.53125 \r\nQ 43.3125 49.21875 43.3125 52.78125 \r\nQ 43.3125 58.59375 39.234375 62.25 \r\nQ 35.15625 65.921875 28.609375 65.921875 \r\nQ 23.96875 65.921875 18.8125 64.3125 \r\nQ 13.671875 62.703125 7.8125 59.421875 \r\nL 7.8125 69.390625 \r\nQ 13.765625 71.78125 18.9375 73 \r\nQ 24.125 74.21875 28.421875 74.21875 \r\nQ 39.75 74.21875 46.484375 68.546875 \r\nQ 53.21875 62.890625 53.21875 53.421875 \r\nQ 53.21875 48.921875 51.53125 44.890625 \r\nQ 49.859375 40.875 45.40625 35.40625 \r\nQ 44.1875 33.984375 37.640625 27.21875 \r\nQ 31.109375 20.453125 19.1875 8.296875 \r\nz\r\n\" id=\"DejaVuSans-50\"/>\r\n       </defs>\r\n       <use xlink:href=\"#DejaVuSans-50\"/>\r\n      </g>\r\n     </g>\r\n    </g>\r\n    <g id=\"xtick_2\">\r\n     <g id=\"line2d_2\">\r\n      <g>\r\n       <use style=\"stroke:#000000;stroke-width:0.8;\" x=\"124.220211\" xlink:href=\"#me338e18d1b\" y=\"239.758125\"/>\r\n      </g>\r\n     </g>\r\n     <g id=\"text_2\">\r\n      <!-- 4 -->\r\n      <g transform=\"translate(121.038961 254.356562)scale(0.1 -0.1)\">\r\n       <defs>\r\n        <path d=\"M 37.796875 64.3125 \r\nL 12.890625 25.390625 \r\nL 37.796875 25.390625 \r\nz\r\nM 35.203125 72.90625 \r\nL 47.609375 72.90625 \r\nL 47.609375 25.390625 \r\nL 58.015625 25.390625 \r\nL 58.015625 17.1875 \r\nL 47.609375 17.1875 \r\nL 47.609375 0 \r\nL 37.796875 0 \r\nL 37.796875 17.1875 \r\nL 4.890625 17.1875 \r\nL 4.890625 26.703125 \r\nz\r\n\" id=\"DejaVuSans-52\"/>\r\n       </defs>\r\n       <use xlink:href=\"#DejaVuSans-52\"/>\r\n      </g>\r\n     </g>\r\n    </g>\r\n    <g id=\"xtick_3\">\r\n     <g id=\"line2d_3\">\r\n      <g>\r\n       <use style=\"stroke:#000000;stroke-width:0.8;\" x=\"167.700731\" xlink:href=\"#me338e18d1b\" y=\"239.758125\"/>\r\n      </g>\r\n     </g>\r\n     <g id=\"text_3\">\r\n      <!-- 6 -->\r\n      <g transform=\"translate(164.519481 254.356562)scale(0.1 -0.1)\">\r\n       <defs>\r\n        <path d=\"M 33.015625 40.375 \r\nQ 26.375 40.375 22.484375 35.828125 \r\nQ 18.609375 31.296875 18.609375 23.390625 \r\nQ 18.609375 15.53125 22.484375 10.953125 \r\nQ 26.375 6.390625 33.015625 6.390625 \r\nQ 39.65625 6.390625 43.53125 10.953125 \r\nQ 47.40625 15.53125 47.40625 23.390625 \r\nQ 47.40625 31.296875 43.53125 35.828125 \r\nQ 39.65625 40.375 33.015625 40.375 \r\nz\r\nM 52.59375 71.296875 \r\nL 52.59375 62.3125 \r\nQ 48.875 64.0625 45.09375 64.984375 \r\nQ 41.3125 65.921875 37.59375 65.921875 \r\nQ 27.828125 65.921875 22.671875 59.328125 \r\nQ 17.53125 52.734375 16.796875 39.40625 \r\nQ 19.671875 43.65625 24.015625 45.921875 \r\nQ 28.375 48.1875 33.59375 48.1875 \r\nQ 44.578125 48.1875 50.953125 41.515625 \r\nQ 57.328125 34.859375 57.328125 23.390625 \r\nQ 57.328125 12.15625 50.6875 5.359375 \r\nQ 44.046875 -1.421875 33.015625 -1.421875 \r\nQ 20.359375 -1.421875 13.671875 8.265625 \r\nQ 6.984375 17.96875 6.984375 36.375 \r\nQ 6.984375 53.65625 15.1875 63.9375 \r\nQ 23.390625 74.21875 37.203125 74.21875 \r\nQ 40.921875 74.21875 44.703125 73.484375 \r\nQ 48.484375 72.75 52.59375 71.296875 \r\nz\r\n\" id=\"DejaVuSans-54\"/>\r\n       </defs>\r\n       <use xlink:href=\"#DejaVuSans-54\"/>\r\n      </g>\r\n     </g>\r\n    </g>\r\n    <g id=\"xtick_4\">\r\n     <g id=\"line2d_4\">\r\n      <g>\r\n       <use style=\"stroke:#000000;stroke-width:0.8;\" x=\"211.18125\" xlink:href=\"#me338e18d1b\" y=\"239.758125\"/>\r\n      </g>\r\n     </g>\r\n     <g id=\"text_4\">\r\n      <!-- 8 -->\r\n      <g transform=\"translate(208 254.356562)scale(0.1 -0.1)\">\r\n       <defs>\r\n        <path d=\"M 31.78125 34.625 \r\nQ 24.75 34.625 20.71875 30.859375 \r\nQ 16.703125 27.09375 16.703125 20.515625 \r\nQ 16.703125 13.921875 20.71875 10.15625 \r\nQ 24.75 6.390625 31.78125 6.390625 \r\nQ 38.8125 6.390625 42.859375 10.171875 \r\nQ 46.921875 13.96875 46.921875 20.515625 \r\nQ 46.921875 27.09375 42.890625 30.859375 \r\nQ 38.875 34.625 31.78125 34.625 \r\nz\r\nM 21.921875 38.8125 \r\nQ 15.578125 40.375 12.03125 44.71875 \r\nQ 8.5 49.078125 8.5 55.328125 \r\nQ 8.5 64.0625 14.71875 69.140625 \r\nQ 20.953125 74.21875 31.78125 74.21875 \r\nQ 42.671875 74.21875 48.875 69.140625 \r\nQ 55.078125 64.0625 55.078125 55.328125 \r\nQ 55.078125 49.078125 51.53125 44.71875 \r\nQ 48 40.375 41.703125 38.8125 \r\nQ 48.828125 37.15625 52.796875 32.3125 \r\nQ 56.78125 27.484375 56.78125 20.515625 \r\nQ 56.78125 9.90625 50.3125 4.234375 \r\nQ 43.84375 -1.421875 31.78125 -1.421875 \r\nQ 19.734375 -1.421875 13.25 4.234375 \r\nQ 6.78125 9.90625 6.78125 20.515625 \r\nQ 6.78125 27.484375 10.78125 32.3125 \r\nQ 14.796875 37.15625 21.921875 38.8125 \r\nz\r\nM 18.3125 54.390625 \r\nQ 18.3125 48.734375 21.84375 45.5625 \r\nQ 25.390625 42.390625 31.78125 42.390625 \r\nQ 38.140625 42.390625 41.71875 45.5625 \r\nQ 45.3125 48.734375 45.3125 54.390625 \r\nQ 45.3125 60.0625 41.71875 63.234375 \r\nQ 38.140625 66.40625 31.78125 66.40625 \r\nQ 25.390625 66.40625 21.84375 63.234375 \r\nQ 18.3125 60.0625 18.3125 54.390625 \r\nz\r\n\" id=\"DejaVuSans-56\"/>\r\n       </defs>\r\n       <use xlink:href=\"#DejaVuSans-56\"/>\r\n      </g>\r\n     </g>\r\n    </g>\r\n    <g id=\"xtick_5\">\r\n     <g id=\"line2d_5\">\r\n      <g>\r\n       <use style=\"stroke:#000000;stroke-width:0.8;\" x=\"254.661769\" xlink:href=\"#me338e18d1b\" y=\"239.758125\"/>\r\n      </g>\r\n     </g>\r\n     <g id=\"text_5\">\r\n      <!-- 10 -->\r\n      <g transform=\"translate(248.299269 254.356562)scale(0.1 -0.1)\">\r\n       <defs>\r\n        <path d=\"M 12.40625 8.296875 \r\nL 28.515625 8.296875 \r\nL 28.515625 63.921875 \r\nL 10.984375 60.40625 \r\nL 10.984375 69.390625 \r\nL 28.421875 72.90625 \r\nL 38.28125 72.90625 \r\nL 38.28125 8.296875 \r\nL 54.390625 8.296875 \r\nL 54.390625 0 \r\nL 12.40625 0 \r\nz\r\n\" id=\"DejaVuSans-49\"/>\r\n        <path d=\"M 31.78125 66.40625 \r\nQ 24.171875 66.40625 20.328125 58.90625 \r\nQ 16.5 51.421875 16.5 36.375 \r\nQ 16.5 21.390625 20.328125 13.890625 \r\nQ 24.171875 6.390625 31.78125 6.390625 \r\nQ 39.453125 6.390625 43.28125 13.890625 \r\nQ 47.125 21.390625 47.125 36.375 \r\nQ 47.125 51.421875 43.28125 58.90625 \r\nQ 39.453125 66.40625 31.78125 66.40625 \r\nz\r\nM 31.78125 74.21875 \r\nQ 44.046875 74.21875 50.515625 64.515625 \r\nQ 56.984375 54.828125 56.984375 36.375 \r\nQ 56.984375 17.96875 50.515625 8.265625 \r\nQ 44.046875 -1.421875 31.78125 -1.421875 \r\nQ 19.53125 -1.421875 13.0625 8.265625 \r\nQ 6.59375 17.96875 6.59375 36.375 \r\nQ 6.59375 54.828125 13.0625 64.515625 \r\nQ 19.53125 74.21875 31.78125 74.21875 \r\nz\r\n\" id=\"DejaVuSans-48\"/>\r\n       </defs>\r\n       <use xlink:href=\"#DejaVuSans-49\"/>\r\n       <use x=\"63.623047\" xlink:href=\"#DejaVuSans-48\"/>\r\n      </g>\r\n     </g>\r\n    </g>\r\n    <g id=\"xtick_6\">\r\n     <g id=\"line2d_6\">\r\n      <g>\r\n       <use style=\"stroke:#000000;stroke-width:0.8;\" x=\"298.142289\" xlink:href=\"#me338e18d1b\" y=\"239.758125\"/>\r\n      </g>\r\n     </g>\r\n     <g id=\"text_6\">\r\n      <!-- 12 -->\r\n      <g transform=\"translate(291.779789 254.356562)scale(0.1 -0.1)\">\r\n       <use xlink:href=\"#DejaVuSans-49\"/>\r\n       <use x=\"63.623047\" xlink:href=\"#DejaVuSans-50\"/>\r\n      </g>\r\n     </g>\r\n    </g>\r\n    <g id=\"xtick_7\">\r\n     <g id=\"line2d_7\">\r\n      <g>\r\n       <use style=\"stroke:#000000;stroke-width:0.8;\" x=\"341.622808\" xlink:href=\"#me338e18d1b\" y=\"239.758125\"/>\r\n      </g>\r\n     </g>\r\n     <g id=\"text_7\">\r\n      <!-- 14 -->\r\n      <g transform=\"translate(335.260308 254.356562)scale(0.1 -0.1)\">\r\n       <use xlink:href=\"#DejaVuSans-49\"/>\r\n       <use x=\"63.623047\" xlink:href=\"#DejaVuSans-52\"/>\r\n      </g>\r\n     </g>\r\n    </g>\r\n    <g id=\"text_8\">\r\n     <!-- Epochs -->\r\n     <g transform=\"translate(193.265625 268.034687)scale(0.1 -0.1)\">\r\n      <defs>\r\n       <path d=\"M 9.8125 72.90625 \r\nL 55.90625 72.90625 \r\nL 55.90625 64.59375 \r\nL 19.671875 64.59375 \r\nL 19.671875 43.015625 \r\nL 54.390625 43.015625 \r\nL 54.390625 34.71875 \r\nL 19.671875 34.71875 \r\nL 19.671875 8.296875 \r\nL 56.78125 8.296875 \r\nL 56.78125 0 \r\nL 9.8125 0 \r\nz\r\n\" id=\"DejaVuSans-69\"/>\r\n       <path d=\"M 18.109375 8.203125 \r\nL 18.109375 -20.796875 \r\nL 9.078125 -20.796875 \r\nL 9.078125 54.6875 \r\nL 18.109375 54.6875 \r\nL 18.109375 46.390625 \r\nQ 20.953125 51.265625 25.265625 53.625 \r\nQ 29.59375 56 35.59375 56 \r\nQ 45.5625 56 51.78125 48.09375 \r\nQ 58.015625 40.1875 58.015625 27.296875 \r\nQ 58.015625 14.40625 51.78125 6.484375 \r\nQ 45.5625 -1.421875 35.59375 -1.421875 \r\nQ 29.59375 -1.421875 25.265625 0.953125 \r\nQ 20.953125 3.328125 18.109375 8.203125 \r\nz\r\nM 48.6875 27.296875 \r\nQ 48.6875 37.203125 44.609375 42.84375 \r\nQ 40.53125 48.484375 33.40625 48.484375 \r\nQ 26.265625 48.484375 22.1875 42.84375 \r\nQ 18.109375 37.203125 18.109375 27.296875 \r\nQ 18.109375 17.390625 22.1875 11.75 \r\nQ 26.265625 6.109375 33.40625 6.109375 \r\nQ 40.53125 6.109375 44.609375 11.75 \r\nQ 48.6875 17.390625 48.6875 27.296875 \r\nz\r\n\" id=\"DejaVuSans-112\"/>\r\n       <path d=\"M 30.609375 48.390625 \r\nQ 23.390625 48.390625 19.1875 42.75 \r\nQ 14.984375 37.109375 14.984375 27.296875 \r\nQ 14.984375 17.484375 19.15625 11.84375 \r\nQ 23.34375 6.203125 30.609375 6.203125 \r\nQ 37.796875 6.203125 41.984375 11.859375 \r\nQ 46.1875 17.53125 46.1875 27.296875 \r\nQ 46.1875 37.015625 41.984375 42.703125 \r\nQ 37.796875 48.390625 30.609375 48.390625 \r\nz\r\nM 30.609375 56 \r\nQ 42.328125 56 49.015625 48.375 \r\nQ 55.71875 40.765625 55.71875 27.296875 \r\nQ 55.71875 13.875 49.015625 6.21875 \r\nQ 42.328125 -1.421875 30.609375 -1.421875 \r\nQ 18.84375 -1.421875 12.171875 6.21875 \r\nQ 5.515625 13.875 5.515625 27.296875 \r\nQ 5.515625 40.765625 12.171875 48.375 \r\nQ 18.84375 56 30.609375 56 \r\nz\r\n\" id=\"DejaVuSans-111\"/>\r\n       <path d=\"M 48.78125 52.59375 \r\nL 48.78125 44.1875 \r\nQ 44.96875 46.296875 41.140625 47.34375 \r\nQ 37.3125 48.390625 33.40625 48.390625 \r\nQ 24.65625 48.390625 19.8125 42.84375 \r\nQ 14.984375 37.3125 14.984375 27.296875 \r\nQ 14.984375 17.28125 19.8125 11.734375 \r\nQ 24.65625 6.203125 33.40625 6.203125 \r\nQ 37.3125 6.203125 41.140625 7.25 \r\nQ 44.96875 8.296875 48.78125 10.40625 \r\nL 48.78125 2.09375 \r\nQ 45.015625 0.34375 40.984375 -0.53125 \r\nQ 36.96875 -1.421875 32.421875 -1.421875 \r\nQ 20.0625 -1.421875 12.78125 6.34375 \r\nQ 5.515625 14.109375 5.515625 27.296875 \r\nQ 5.515625 40.671875 12.859375 48.328125 \r\nQ 20.21875 56 33.015625 56 \r\nQ 37.15625 56 41.109375 55.140625 \r\nQ 45.0625 54.296875 48.78125 52.59375 \r\nz\r\n\" id=\"DejaVuSans-99\"/>\r\n       <path d=\"M 54.890625 33.015625 \r\nL 54.890625 0 \r\nL 45.90625 0 \r\nL 45.90625 32.71875 \r\nQ 45.90625 40.484375 42.875 44.328125 \r\nQ 39.84375 48.1875 33.796875 48.1875 \r\nQ 26.515625 48.1875 22.3125 43.546875 \r\nQ 18.109375 38.921875 18.109375 30.90625 \r\nL 18.109375 0 \r\nL 9.078125 0 \r\nL 9.078125 75.984375 \r\nL 18.109375 75.984375 \r\nL 18.109375 46.1875 \r\nQ 21.34375 51.125 25.703125 53.5625 \r\nQ 30.078125 56 35.796875 56 \r\nQ 45.21875 56 50.046875 50.171875 \r\nQ 54.890625 44.34375 54.890625 33.015625 \r\nz\r\n\" id=\"DejaVuSans-104\"/>\r\n       <path d=\"M 44.28125 53.078125 \r\nL 44.28125 44.578125 \r\nQ 40.484375 46.53125 36.375 47.5 \r\nQ 32.28125 48.484375 27.875 48.484375 \r\nQ 21.1875 48.484375 17.84375 46.4375 \r\nQ 14.5 44.390625 14.5 40.28125 \r\nQ 14.5 37.15625 16.890625 35.375 \r\nQ 19.28125 33.59375 26.515625 31.984375 \r\nL 29.59375 31.296875 \r\nQ 39.15625 29.25 43.1875 25.515625 \r\nQ 47.21875 21.78125 47.21875 15.09375 \r\nQ 47.21875 7.46875 41.1875 3.015625 \r\nQ 35.15625 -1.421875 24.609375 -1.421875 \r\nQ 20.21875 -1.421875 15.453125 -0.5625 \r\nQ 10.6875 0.296875 5.421875 2 \r\nL 5.421875 11.28125 \r\nQ 10.40625 8.6875 15.234375 7.390625 \r\nQ 20.0625 6.109375 24.8125 6.109375 \r\nQ 31.15625 6.109375 34.5625 8.28125 \r\nQ 37.984375 10.453125 37.984375 14.40625 \r\nQ 37.984375 18.0625 35.515625 20.015625 \r\nQ 33.0625 21.96875 24.703125 23.78125 \r\nL 21.578125 24.515625 \r\nQ 13.234375 26.265625 9.515625 29.90625 \r\nQ 5.8125 33.546875 5.8125 39.890625 \r\nQ 5.8125 47.609375 11.28125 51.796875 \r\nQ 16.75 56 26.8125 56 \r\nQ 31.78125 56 36.171875 55.265625 \r\nQ 40.578125 54.546875 44.28125 53.078125 \r\nz\r\n\" id=\"DejaVuSans-115\"/>\r\n      </defs>\r\n      <use xlink:href=\"#DejaVuSans-69\"/>\r\n      <use x=\"63.183594\" xlink:href=\"#DejaVuSans-112\"/>\r\n      <use x=\"126.660156\" xlink:href=\"#DejaVuSans-111\"/>\r\n      <use x=\"187.841797\" xlink:href=\"#DejaVuSans-99\"/>\r\n      <use x=\"242.822266\" xlink:href=\"#DejaVuSans-104\"/>\r\n      <use x=\"306.201172\" xlink:href=\"#DejaVuSans-115\"/>\r\n     </g>\r\n    </g>\r\n   </g>\r\n   <g id=\"matplotlib.axis_2\">\r\n    <g id=\"ytick_1\">\r\n     <g id=\"line2d_8\">\r\n      <defs>\r\n       <path d=\"M 0 0 \r\nL -3.5 0 \r\n\" id=\"m071be20b2f\" style=\"stroke:#000000;stroke-width:0.8;\"/>\r\n      </defs>\r\n      <g>\r\n       <use style=\"stroke:#000000;stroke-width:0.8;\" x=\"43.78125\" xlink:href=\"#m071be20b2f\" y=\"237.454034\"/>\r\n      </g>\r\n     </g>\r\n     <g id=\"text_9\">\r\n      <!-- 0.6 -->\r\n      <g transform=\"translate(20.878125 241.253252)scale(0.1 -0.1)\">\r\n       <defs>\r\n        <path d=\"M 10.6875 12.40625 \r\nL 21 12.40625 \r\nL 21 0 \r\nL 10.6875 0 \r\nz\r\n\" id=\"DejaVuSans-46\"/>\r\n       </defs>\r\n       <use xlink:href=\"#DejaVuSans-48\"/>\r\n       <use x=\"63.623047\" xlink:href=\"#DejaVuSans-46\"/>\r\n       <use x=\"95.410156\" xlink:href=\"#DejaVuSans-54\"/>\r\n      </g>\r\n     </g>\r\n    </g>\r\n    <g id=\"ytick_2\">\r\n     <g id=\"line2d_9\">\r\n      <g>\r\n       <use style=\"stroke:#000000;stroke-width:0.8;\" x=\"43.78125\" xlink:href=\"#m071be20b2f\" y=\"192.534511\"/>\r\n      </g>\r\n     </g>\r\n     <g id=\"text_10\">\r\n      <!-- 0.8 -->\r\n      <g transform=\"translate(20.878125 196.33373)scale(0.1 -0.1)\">\r\n       <use xlink:href=\"#DejaVuSans-48\"/>\r\n       <use x=\"63.623047\" xlink:href=\"#DejaVuSans-46\"/>\r\n       <use x=\"95.410156\" xlink:href=\"#DejaVuSans-56\"/>\r\n      </g>\r\n     </g>\r\n    </g>\r\n    <g id=\"ytick_3\">\r\n     <g id=\"line2d_10\">\r\n      <g>\r\n       <use style=\"stroke:#000000;stroke-width:0.8;\" x=\"43.78125\" xlink:href=\"#m071be20b2f\" y=\"147.614988\"/>\r\n      </g>\r\n     </g>\r\n     <g id=\"text_11\">\r\n      <!-- 1.0 -->\r\n      <g transform=\"translate(20.878125 151.414207)scale(0.1 -0.1)\">\r\n       <use xlink:href=\"#DejaVuSans-49\"/>\r\n       <use x=\"63.623047\" xlink:href=\"#DejaVuSans-46\"/>\r\n       <use x=\"95.410156\" xlink:href=\"#DejaVuSans-48\"/>\r\n      </g>\r\n     </g>\r\n    </g>\r\n    <g id=\"ytick_4\">\r\n     <g id=\"line2d_11\">\r\n      <g>\r\n       <use style=\"stroke:#000000;stroke-width:0.8;\" x=\"43.78125\" xlink:href=\"#m071be20b2f\" y=\"102.695465\"/>\r\n      </g>\r\n     </g>\r\n     <g id=\"text_12\">\r\n      <!-- 1.2 -->\r\n      <g transform=\"translate(20.878125 106.494684)scale(0.1 -0.1)\">\r\n       <use xlink:href=\"#DejaVuSans-49\"/>\r\n       <use x=\"63.623047\" xlink:href=\"#DejaVuSans-46\"/>\r\n       <use x=\"95.410156\" xlink:href=\"#DejaVuSans-50\"/>\r\n      </g>\r\n     </g>\r\n    </g>\r\n    <g id=\"ytick_5\">\r\n     <g id=\"line2d_12\">\r\n      <g>\r\n       <use style=\"stroke:#000000;stroke-width:0.8;\" x=\"43.78125\" xlink:href=\"#m071be20b2f\" y=\"57.775942\"/>\r\n      </g>\r\n     </g>\r\n     <g id=\"text_13\">\r\n      <!-- 1.4 -->\r\n      <g transform=\"translate(20.878125 61.575161)scale(0.1 -0.1)\">\r\n       <use xlink:href=\"#DejaVuSans-49\"/>\r\n       <use x=\"63.623047\" xlink:href=\"#DejaVuSans-46\"/>\r\n       <use x=\"95.410156\" xlink:href=\"#DejaVuSans-52\"/>\r\n      </g>\r\n     </g>\r\n    </g>\r\n    <g id=\"text_14\">\r\n     <!-- Loss -->\r\n     <g transform=\"translate(14.798438 142.005312)rotate(-90)scale(0.1 -0.1)\">\r\n      <defs>\r\n       <path d=\"M 9.8125 72.90625 \r\nL 19.671875 72.90625 \r\nL 19.671875 8.296875 \r\nL 55.171875 8.296875 \r\nL 55.171875 0 \r\nL 9.8125 0 \r\nz\r\n\" id=\"DejaVuSans-76\"/>\r\n      </defs>\r\n      <use xlink:href=\"#DejaVuSans-76\"/>\r\n      <use x=\"53.962891\" xlink:href=\"#DejaVuSans-111\"/>\r\n      <use x=\"115.144531\" xlink:href=\"#DejaVuSans-115\"/>\r\n      <use x=\"167.244141\" xlink:href=\"#DejaVuSans-115\"/>\r\n     </g>\r\n    </g>\r\n   </g>\r\n   <g id=\"line2d_13\">\r\n    <defs>\r\n     <path d=\"M 0 3 \r\nC 0.795609 3 1.55874 2.683901 2.12132 2.12132 \r\nC 2.683901 1.55874 3 0.795609 3 0 \r\nC 3 -0.795609 2.683901 -1.55874 2.12132 -2.12132 \r\nC 1.55874 -2.683901 0.795609 -3 0 -3 \r\nC -0.795609 -3 -1.55874 -2.683901 -2.12132 -2.12132 \r\nC -2.683901 -1.55874 -3 -0.795609 -3 0 \r\nC -3 0.795609 -2.683901 1.55874 -2.12132 2.12132 \r\nC -1.55874 2.683901 -0.795609 3 0 3 \r\nz\r\n\" id=\"mf4f5afb93b\" style=\"stroke:#0000ff;\"/>\r\n    </defs>\r\n    <g clip-path=\"url(#p4ea63ef00f)\">\r\n     <use style=\"fill:#0000ff;stroke:#0000ff;\" x=\"58.999432\" xlink:href=\"#mf4f5afb93b\" y=\"32.201761\"/>\r\n     <use style=\"fill:#0000ff;stroke:#0000ff;\" x=\"80.739692\" xlink:href=\"#mf4f5afb93b\" y=\"103.278622\"/>\r\n     <use style=\"fill:#0000ff;stroke:#0000ff;\" x=\"102.479951\" xlink:href=\"#mf4f5afb93b\" y=\"131.963693\"/>\r\n     <use style=\"fill:#0000ff;stroke:#0000ff;\" x=\"124.220211\" xlink:href=\"#mf4f5afb93b\" y=\"150.836397\"/>\r\n     <use style=\"fill:#0000ff;stroke:#0000ff;\" x=\"145.960471\" xlink:href=\"#mf4f5afb93b\" y=\"164.162761\"/>\r\n     <use style=\"fill:#0000ff;stroke:#0000ff;\" x=\"167.700731\" xlink:href=\"#mf4f5afb93b\" y=\"173.457116\"/>\r\n     <use style=\"fill:#0000ff;stroke:#0000ff;\" x=\"189.44099\" xlink:href=\"#mf4f5afb93b\" y=\"184.648204\"/>\r\n     <use style=\"fill:#0000ff;stroke:#0000ff;\" x=\"211.18125\" xlink:href=\"#mf4f5afb93b\" y=\"192.559234\"/>\r\n     <use style=\"fill:#0000ff;stroke:#0000ff;\" x=\"232.92151\" xlink:href=\"#mf4f5afb93b\" y=\"199.327049\"/>\r\n     <use style=\"fill:#0000ff;stroke:#0000ff;\" x=\"254.661769\" xlink:href=\"#mf4f5afb93b\" y=\"205.562073\"/>\r\n     <use style=\"fill:#0000ff;stroke:#0000ff;\" x=\"276.402029\" xlink:href=\"#mf4f5afb93b\" y=\"210.744552\"/>\r\n     <use style=\"fill:#0000ff;stroke:#0000ff;\" x=\"298.142289\" xlink:href=\"#mf4f5afb93b\" y=\"217.496812\"/>\r\n     <use style=\"fill:#0000ff;stroke:#0000ff;\" x=\"319.882549\" xlink:href=\"#mf4f5afb93b\" y=\"221.226835\"/>\r\n     <use style=\"fill:#0000ff;stroke:#0000ff;\" x=\"341.622808\" xlink:href=\"#mf4f5afb93b\" y=\"226.455393\"/>\r\n     <use style=\"fill:#0000ff;stroke:#0000ff;\" x=\"363.363068\" xlink:href=\"#mf4f5afb93b\" y=\"229.874489\"/>\r\n    </g>\r\n   </g>\r\n   <g id=\"patch_3\">\r\n    <path d=\"M 43.78125 239.758125 \r\nL 43.78125 22.318125 \r\n\" style=\"fill:none;stroke:#000000;stroke-linecap:square;stroke-linejoin:miter;stroke-width:0.8;\"/>\r\n   </g>\r\n   <g id=\"patch_4\">\r\n    <path d=\"M 378.58125 239.758125 \r\nL 378.58125 22.318125 \r\n\" style=\"fill:none;stroke:#000000;stroke-linecap:square;stroke-linejoin:miter;stroke-width:0.8;\"/>\r\n   </g>\r\n   <g id=\"patch_5\">\r\n    <path d=\"M 43.78125 239.758125 \r\nL 378.58125 239.758125 \r\n\" style=\"fill:none;stroke:#000000;stroke-linecap:square;stroke-linejoin:miter;stroke-width:0.8;\"/>\r\n   </g>\r\n   <g id=\"patch_6\">\r\n    <path d=\"M 43.78125 22.318125 \r\nL 378.58125 22.318125 \r\n\" style=\"fill:none;stroke:#000000;stroke-linecap:square;stroke-linejoin:miter;stroke-width:0.8;\"/>\r\n   </g>\r\n   <g id=\"text_15\">\r\n    <!-- Training and validation loss -->\r\n    <g transform=\"translate(129.37125 16.318125)scale(0.12 -0.12)\">\r\n     <defs>\r\n      <path d=\"M -0.296875 72.90625 \r\nL 61.375 72.90625 \r\nL 61.375 64.59375 \r\nL 35.5 64.59375 \r\nL 35.5 0 \r\nL 25.59375 0 \r\nL 25.59375 64.59375 \r\nL -0.296875 64.59375 \r\nz\r\n\" id=\"DejaVuSans-84\"/>\r\n      <path d=\"M 41.109375 46.296875 \r\nQ 39.59375 47.171875 37.8125 47.578125 \r\nQ 36.03125 48 33.890625 48 \r\nQ 26.265625 48 22.1875 43.046875 \r\nQ 18.109375 38.09375 18.109375 28.8125 \r\nL 18.109375 0 \r\nL 9.078125 0 \r\nL 9.078125 54.6875 \r\nL 18.109375 54.6875 \r\nL 18.109375 46.1875 \r\nQ 20.953125 51.171875 25.484375 53.578125 \r\nQ 30.03125 56 36.53125 56 \r\nQ 37.453125 56 38.578125 55.875 \r\nQ 39.703125 55.765625 41.0625 55.515625 \r\nz\r\n\" id=\"DejaVuSans-114\"/>\r\n      <path d=\"M 34.28125 27.484375 \r\nQ 23.390625 27.484375 19.1875 25 \r\nQ 14.984375 22.515625 14.984375 16.5 \r\nQ 14.984375 11.71875 18.140625 8.90625 \r\nQ 21.296875 6.109375 26.703125 6.109375 \r\nQ 34.1875 6.109375 38.703125 11.40625 \r\nQ 43.21875 16.703125 43.21875 25.484375 \r\nL 43.21875 27.484375 \r\nz\r\nM 52.203125 31.203125 \r\nL 52.203125 0 \r\nL 43.21875 0 \r\nL 43.21875 8.296875 \r\nQ 40.140625 3.328125 35.546875 0.953125 \r\nQ 30.953125 -1.421875 24.3125 -1.421875 \r\nQ 15.921875 -1.421875 10.953125 3.296875 \r\nQ 6 8.015625 6 15.921875 \r\nQ 6 25.140625 12.171875 29.828125 \r\nQ 18.359375 34.515625 30.609375 34.515625 \r\nL 43.21875 34.515625 \r\nL 43.21875 35.40625 \r\nQ 43.21875 41.609375 39.140625 45 \r\nQ 35.0625 48.390625 27.6875 48.390625 \r\nQ 23 48.390625 18.546875 47.265625 \r\nQ 14.109375 46.140625 10.015625 43.890625 \r\nL 10.015625 52.203125 \r\nQ 14.9375 54.109375 19.578125 55.046875 \r\nQ 24.21875 56 28.609375 56 \r\nQ 40.484375 56 46.34375 49.84375 \r\nQ 52.203125 43.703125 52.203125 31.203125 \r\nz\r\n\" id=\"DejaVuSans-97\"/>\r\n      <path d=\"M 9.421875 54.6875 \r\nL 18.40625 54.6875 \r\nL 18.40625 0 \r\nL 9.421875 0 \r\nz\r\nM 9.421875 75.984375 \r\nL 18.40625 75.984375 \r\nL 18.40625 64.59375 \r\nL 9.421875 64.59375 \r\nz\r\n\" id=\"DejaVuSans-105\"/>\r\n      <path d=\"M 54.890625 33.015625 \r\nL 54.890625 0 \r\nL 45.90625 0 \r\nL 45.90625 32.71875 \r\nQ 45.90625 40.484375 42.875 44.328125 \r\nQ 39.84375 48.1875 33.796875 48.1875 \r\nQ 26.515625 48.1875 22.3125 43.546875 \r\nQ 18.109375 38.921875 18.109375 30.90625 \r\nL 18.109375 0 \r\nL 9.078125 0 \r\nL 9.078125 54.6875 \r\nL 18.109375 54.6875 \r\nL 18.109375 46.1875 \r\nQ 21.34375 51.125 25.703125 53.5625 \r\nQ 30.078125 56 35.796875 56 \r\nQ 45.21875 56 50.046875 50.171875 \r\nQ 54.890625 44.34375 54.890625 33.015625 \r\nz\r\n\" id=\"DejaVuSans-110\"/>\r\n      <path d=\"M 45.40625 27.984375 \r\nQ 45.40625 37.75 41.375 43.109375 \r\nQ 37.359375 48.484375 30.078125 48.484375 \r\nQ 22.859375 48.484375 18.828125 43.109375 \r\nQ 14.796875 37.75 14.796875 27.984375 \r\nQ 14.796875 18.265625 18.828125 12.890625 \r\nQ 22.859375 7.515625 30.078125 7.515625 \r\nQ 37.359375 7.515625 41.375 12.890625 \r\nQ 45.40625 18.265625 45.40625 27.984375 \r\nz\r\nM 54.390625 6.78125 \r\nQ 54.390625 -7.171875 48.1875 -13.984375 \r\nQ 42 -20.796875 29.203125 -20.796875 \r\nQ 24.46875 -20.796875 20.265625 -20.09375 \r\nQ 16.0625 -19.390625 12.109375 -17.921875 \r\nL 12.109375 -9.1875 \r\nQ 16.0625 -11.328125 19.921875 -12.34375 \r\nQ 23.78125 -13.375 27.78125 -13.375 \r\nQ 36.625 -13.375 41.015625 -8.765625 \r\nQ 45.40625 -4.15625 45.40625 5.171875 \r\nL 45.40625 9.625 \r\nQ 42.625 4.78125 38.28125 2.390625 \r\nQ 33.9375 0 27.875 0 \r\nQ 17.828125 0 11.671875 7.65625 \r\nQ 5.515625 15.328125 5.515625 27.984375 \r\nQ 5.515625 40.671875 11.671875 48.328125 \r\nQ 17.828125 56 27.875 56 \r\nQ 33.9375 56 38.28125 53.609375 \r\nQ 42.625 51.21875 45.40625 46.390625 \r\nL 45.40625 54.6875 \r\nL 54.390625 54.6875 \r\nz\r\n\" id=\"DejaVuSans-103\"/>\r\n      <path id=\"DejaVuSans-32\"/>\r\n      <path d=\"M 45.40625 46.390625 \r\nL 45.40625 75.984375 \r\nL 54.390625 75.984375 \r\nL 54.390625 0 \r\nL 45.40625 0 \r\nL 45.40625 8.203125 \r\nQ 42.578125 3.328125 38.25 0.953125 \r\nQ 33.9375 -1.421875 27.875 -1.421875 \r\nQ 17.96875 -1.421875 11.734375 6.484375 \r\nQ 5.515625 14.40625 5.515625 27.296875 \r\nQ 5.515625 40.1875 11.734375 48.09375 \r\nQ 17.96875 56 27.875 56 \r\nQ 33.9375 56 38.25 53.625 \r\nQ 42.578125 51.265625 45.40625 46.390625 \r\nz\r\nM 14.796875 27.296875 \r\nQ 14.796875 17.390625 18.875 11.75 \r\nQ 22.953125 6.109375 30.078125 6.109375 \r\nQ 37.203125 6.109375 41.296875 11.75 \r\nQ 45.40625 17.390625 45.40625 27.296875 \r\nQ 45.40625 37.203125 41.296875 42.84375 \r\nQ 37.203125 48.484375 30.078125 48.484375 \r\nQ 22.953125 48.484375 18.875 42.84375 \r\nQ 14.796875 37.203125 14.796875 27.296875 \r\nz\r\n\" id=\"DejaVuSans-100\"/>\r\n      <path d=\"M 2.984375 54.6875 \r\nL 12.5 54.6875 \r\nL 29.59375 8.796875 \r\nL 46.6875 54.6875 \r\nL 56.203125 54.6875 \r\nL 35.6875 0 \r\nL 23.484375 0 \r\nz\r\n\" id=\"DejaVuSans-118\"/>\r\n      <path d=\"M 9.421875 75.984375 \r\nL 18.40625 75.984375 \r\nL 18.40625 0 \r\nL 9.421875 0 \r\nz\r\n\" id=\"DejaVuSans-108\"/>\r\n      <path d=\"M 18.3125 70.21875 \r\nL 18.3125 54.6875 \r\nL 36.8125 54.6875 \r\nL 36.8125 47.703125 \r\nL 18.3125 47.703125 \r\nL 18.3125 18.015625 \r\nQ 18.3125 11.328125 20.140625 9.421875 \r\nQ 21.96875 7.515625 27.59375 7.515625 \r\nL 36.8125 7.515625 \r\nL 36.8125 0 \r\nL 27.59375 0 \r\nQ 17.1875 0 13.234375 3.875 \r\nQ 9.28125 7.765625 9.28125 18.015625 \r\nL 9.28125 47.703125 \r\nL 2.6875 47.703125 \r\nL 2.6875 54.6875 \r\nL 9.28125 54.6875 \r\nL 9.28125 70.21875 \r\nz\r\n\" id=\"DejaVuSans-116\"/>\r\n     </defs>\r\n     <use xlink:href=\"#DejaVuSans-84\"/>\r\n     <use x=\"46.333984\" xlink:href=\"#DejaVuSans-114\"/>\r\n     <use x=\"87.447266\" xlink:href=\"#DejaVuSans-97\"/>\r\n     <use x=\"148.726562\" xlink:href=\"#DejaVuSans-105\"/>\r\n     <use x=\"176.509766\" xlink:href=\"#DejaVuSans-110\"/>\r\n     <use x=\"239.888672\" xlink:href=\"#DejaVuSans-105\"/>\r\n     <use x=\"267.671875\" xlink:href=\"#DejaVuSans-110\"/>\r\n     <use x=\"331.050781\" xlink:href=\"#DejaVuSans-103\"/>\r\n     <use x=\"394.527344\" xlink:href=\"#DejaVuSans-32\"/>\r\n     <use x=\"426.314453\" xlink:href=\"#DejaVuSans-97\"/>\r\n     <use x=\"487.59375\" xlink:href=\"#DejaVuSans-110\"/>\r\n     <use x=\"550.972656\" xlink:href=\"#DejaVuSans-100\"/>\r\n     <use x=\"614.449219\" xlink:href=\"#DejaVuSans-32\"/>\r\n     <use x=\"646.236328\" xlink:href=\"#DejaVuSans-118\"/>\r\n     <use x=\"705.416016\" xlink:href=\"#DejaVuSans-97\"/>\r\n     <use x=\"766.695312\" xlink:href=\"#DejaVuSans-108\"/>\r\n     <use x=\"794.478516\" xlink:href=\"#DejaVuSans-105\"/>\r\n     <use x=\"822.261719\" xlink:href=\"#DejaVuSans-100\"/>\r\n     <use x=\"885.738281\" xlink:href=\"#DejaVuSans-97\"/>\r\n     <use x=\"947.017578\" xlink:href=\"#DejaVuSans-116\"/>\r\n     <use x=\"986.226562\" xlink:href=\"#DejaVuSans-105\"/>\r\n     <use x=\"1014.009766\" xlink:href=\"#DejaVuSans-111\"/>\r\n     <use x=\"1075.191406\" xlink:href=\"#DejaVuSans-110\"/>\r\n     <use x=\"1138.570312\" xlink:href=\"#DejaVuSans-32\"/>\r\n     <use x=\"1170.357422\" xlink:href=\"#DejaVuSans-108\"/>\r\n     <use x=\"1198.140625\" xlink:href=\"#DejaVuSans-111\"/>\r\n     <use x=\"1259.322266\" xlink:href=\"#DejaVuSans-115\"/>\r\n     <use x=\"1311.421875\" xlink:href=\"#DejaVuSans-115\"/>\r\n    </g>\r\n   </g>\r\n   <g id=\"legend_1\">\r\n    <g id=\"patch_7\">\r\n     <path d=\"M 277.635938 44.99625 \r\nL 371.58125 44.99625 \r\nQ 373.58125 44.99625 373.58125 42.99625 \r\nL 373.58125 29.318125 \r\nQ 373.58125 27.318125 371.58125 27.318125 \r\nL 277.635938 27.318125 \r\nQ 275.635938 27.318125 275.635938 29.318125 \r\nL 275.635938 42.99625 \r\nQ 275.635938 44.99625 277.635938 44.99625 \r\nz\r\n\" style=\"fill:#ffffff;opacity:0.8;stroke:#cccccc;stroke-linejoin:miter;\"/>\r\n    </g>\r\n    <g id=\"line2d_14\"/>\r\n    <g id=\"line2d_15\">\r\n     <g>\r\n      <use style=\"fill:#0000ff;stroke:#0000ff;\" x=\"289.635938\" xlink:href=\"#mf4f5afb93b\" y=\"35.416562\"/>\r\n     </g>\r\n    </g>\r\n    <g id=\"text_16\">\r\n     <!-- Training loss -->\r\n     <g transform=\"translate(307.635938 38.916562)scale(0.1 -0.1)\">\r\n      <use xlink:href=\"#DejaVuSans-84\"/>\r\n      <use x=\"46.333984\" xlink:href=\"#DejaVuSans-114\"/>\r\n      <use x=\"87.447266\" xlink:href=\"#DejaVuSans-97\"/>\r\n      <use x=\"148.726562\" xlink:href=\"#DejaVuSans-105\"/>\r\n      <use x=\"176.509766\" xlink:href=\"#DejaVuSans-110\"/>\r\n      <use x=\"239.888672\" xlink:href=\"#DejaVuSans-105\"/>\r\n      <use x=\"267.671875\" xlink:href=\"#DejaVuSans-110\"/>\r\n      <use x=\"331.050781\" xlink:href=\"#DejaVuSans-103\"/>\r\n      <use x=\"394.527344\" xlink:href=\"#DejaVuSans-32\"/>\r\n      <use x=\"426.314453\" xlink:href=\"#DejaVuSans-108\"/>\r\n      <use x=\"454.097656\" xlink:href=\"#DejaVuSans-111\"/>\r\n      <use x=\"515.279297\" xlink:href=\"#DejaVuSans-115\"/>\r\n      <use x=\"567.378906\" xlink:href=\"#DejaVuSans-115\"/>\r\n     </g>\r\n    </g>\r\n   </g>\r\n  </g>\r\n </g>\r\n <defs>\r\n  <clipPath id=\"p4ea63ef00f\">\r\n   <rect height=\"217.44\" width=\"334.8\" x=\"43.78125\" y=\"22.318125\"/>\r\n  </clipPath>\r\n </defs>\r\n</svg>\r\n",
            "image/png": "[encoded data removed]"
          },
          "metadata": {
            "needs_background": "light"
          }
        }
      ]
    },
    {
      "cell_type": "code",
      "metadata": {
        "id": "yzpwJV6I9PVl"
      },
      "source": [
        "labels=model.predict(x_test)"
      ],
      "execution_count": 20,
      "outputs": []
    },
    {
      "cell_type": "code",
      "metadata": {
        "id": "nuaPmPWNAMqu",
        "outputId": "eb5fe5a1-37c1-4204-e31c-1a171b6393cc",
        "colab": {
          "base_uri": "https://localhost:8080/"
        }
      },
      "source": [
        "labels[1]"
      ],
      "execution_count": 21,
      "outputs": [
        {
          "output_type": "execute_result",
          "data": {
            "text/plain": [
              "array([1.6784411e-02, 1.6825173e-02, 1.4369089e-05, 2.9331224e-07,\n",
              "       9.4147242e-07, 4.0201314e-08, 1.5728878e-10, 5.1336463e-07,\n",
              "       9.6587390e-01, 5.0034665e-04], dtype=float32)"
            ]
          },
          "metadata": {},
          "execution_count": 21
        }
      ]
    },
    {
      "cell_type": "code",
      "metadata": {
        "id": "kHAWpI_s9a-p",
        "outputId": "e56def57-7c79-4a2f-8fc8-d7660ca43da2",
        "colab": {
          "base_uri": "https://localhost:8080/"
        }
      },
      "source": [
        "y_test[0]"
      ],
      "execution_count": 22,
      "outputs": [
        {
          "output_type": "execute_result",
          "data": {
            "text/plain": [
              "array([0., 0., 0., 1., 0., 0., 0., 0., 0., 0.], dtype=float32)"
            ]
          },
          "metadata": {},
          "execution_count": 22
        }
      ]
    },
    {
      "cell_type": "code",
      "metadata": {
        "id": "bGVSPmikBDpy",
        "outputId": "bc9a449f-c8ee-47ba-9a2b-9e123ef57d6b",
        "colab": {
          "base_uri": "https://localhost:8080/"
        }
      },
      "source": [
        "import numpy as np\n",
        "labels1 = np.argmax(labels, axis=-1)    \n",
        "labels1"
      ],
      "execution_count": 23,
      "outputs": [
        {
          "output_type": "execute_result",
          "data": {
            "text/plain": [
              "array([3, 8, 8, ..., 7, 4, 7], dtype=int64)"
            ]
          },
          "metadata": {},
          "execution_count": 23
        }
      ]
    },
    {
      "cell_type": "code",
      "metadata": {
        "id": "NakKqLU5Bbyd",
        "outputId": "114ab6e1-1a51-4ea0-9c22-45a9ff6beb9a",
        "colab": {
          "base_uri": "https://localhost:8080/"
        }
      },
      "source": [
        "y_test1 = np.argmax(y_test, axis=-1)    \n",
        "y_test1"
      ],
      "execution_count": 24,
      "outputs": [
        {
          "output_type": "execute_result",
          "data": {
            "text/plain": [
              "array([3, 8, 8, ..., 5, 1, 7], dtype=int64)"
            ]
          },
          "metadata": {},
          "execution_count": 24
        }
      ]
    },
    {
      "cell_type": "code",
      "metadata": {
        "id": "85D4sk09EXuE"
      },
      "source": [
        ""
      ],
      "execution_count": 32,
      "outputs": []
    },
    {
      "cell_type": "code",
      "metadata": {
        "id": "RG60FnveEbPa",
        "outputId": "b4b9feca-2512-4bca-82b1-c03af729b89c",
        "colab": {
          "base_uri": "https://localhost:8080/"
        }
      },
      "source": [
        "from sklearn.metrics import classification_report\n",
        "print(classification_report(y_test1, labels1))"
      ],
      "execution_count": 25,
      "outputs": [
        {
          "output_type": "stream",
          "name": "stdout",
          "text": [
            "              precision    recall  f1-score   support\n\n           0       0.70      0.77      0.74      1000\n           1       0.86      0.78      0.82      1000\n           2       0.61      0.59      0.60      1000\n           3       0.55      0.54      0.54      1000\n           4       0.60      0.74      0.66      1000\n           5       0.65      0.61      0.63      1000\n           6       0.78      0.76      0.77      1000\n           7       0.75      0.75      0.75      1000\n           8       0.85      0.75      0.80      1000\n           9       0.80      0.80      0.80      1000\n\n    accuracy                           0.71     10000\n   macro avg       0.71      0.71      0.71     10000\nweighted avg       0.71      0.71      0.71     10000\n\n"
          ]
        }
      ]
    },
    {
      "cell_type": "code",
      "metadata": {
        "id": "5XmJ5isbE0wV",
        "outputId": "41bacf0f-1aa7-4757-d46a-16b87307c57a",
        "colab": {
          "base_uri": "https://localhost:8080/"
        }
      },
      "source": [
        "model.evaluate(x_test, y_test)"
      ],
      "execution_count": 26,
      "outputs": [
        {
          "output_type": "stream",
          "name": "stdout",
          "text": [
            "313/313 [==============================] - 2s 6ms/step - loss: 0.8913 - accuracy: 0.7094\n"
          ]
        },
        {
          "output_type": "execute_result",
          "data": {
            "text/plain": [
              "[0.8912973403930664, 0.7093999981880188]"
            ]
          },
          "metadata": {},
          "execution_count": 26
        }
      ]
    },
    {
      "cell_type": "code",
      "metadata": {
        "id": "OIjZ-CruGqCs"
      },
      "source": [
        ""
      ],
      "execution_count": null,
      "outputs": []
    }
  ]
}